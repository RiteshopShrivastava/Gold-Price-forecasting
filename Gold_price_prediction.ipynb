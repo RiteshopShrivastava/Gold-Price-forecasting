{
  "nbformat": 4,
  "nbformat_minor": 0,
  "metadata": {
    "colab": {
      "name": "Gold_price_prediction.ipynb",
      "provenance": [],
      "collapsed_sections": [],
      "include_colab_link": true
    },
    "kernelspec": {
      "name": "python3",
      "display_name": "Python 3"
    },
    "language_info": {
      "name": "python"
    }
  },
  "cells": [
    {
      "cell_type": "markdown",
      "metadata": {
        "id": "view-in-github",
        "colab_type": "text"
      },
      "source": [
        "<a href=\"https://colab.research.google.com/github/RiteshopShrivastava/Gold-Price-forecasting/blob/main/Gold_price_prediction.ipynb\" target=\"_parent\"><img src=\"https://colab.research.google.com/assets/colab-badge.svg\" alt=\"Open In Colab\"/></a>"
      ]
    },
    {
      "cell_type": "markdown",
      "source": [
        "## **Gold Price Prediction** \n",
        "**Objective :**- Forecasting gold price for next 30 days based on historical data.\n",
        "(Considering last four years of historical data)"
      ],
      "metadata": {
        "id": "xEF5x6qhDvcY"
      }
    },
    {
      "cell_type": "code",
      "source": [
        "!pip install yfinance"
      ],
      "metadata": {
        "id": "LKSZgKQfVrSY",
        "colab": {
          "base_uri": "https://localhost:8080/"
        },
        "outputId": "b323e635-5462-486a-983c-88f75781123e"
      },
      "execution_count": 1,
      "outputs": [
        {
          "output_type": "stream",
          "name": "stdout",
          "text": [
            "Collecting yfinance\n",
            "  Downloading yfinance-0.1.68-py2.py3-none-any.whl (26 kB)\n",
            "Collecting lxml>=4.5.1\n",
            "  Downloading lxml-4.7.1-cp37-cp37m-manylinux_2_17_x86_64.manylinux2014_x86_64.manylinux_2_24_x86_64.whl (6.4 MB)\n",
            "\u001b[K     |████████████████████████████████| 6.4 MB 32.7 MB/s \n",
            "\u001b[?25hRequirement already satisfied: numpy>=1.15 in /usr/local/lib/python3.7/dist-packages (from yfinance) (1.19.5)\n",
            "Requirement already satisfied: pandas>=0.24 in /usr/local/lib/python3.7/dist-packages (from yfinance) (1.1.5)\n",
            "Requirement already satisfied: multitasking>=0.0.7 in /usr/local/lib/python3.7/dist-packages (from yfinance) (0.0.10)\n",
            "Collecting requests>=2.26\n",
            "  Downloading requests-2.27.1-py2.py3-none-any.whl (63 kB)\n",
            "\u001b[K     |████████████████████████████████| 63 kB 1.4 MB/s \n",
            "\u001b[?25hRequirement already satisfied: pytz>=2017.2 in /usr/local/lib/python3.7/dist-packages (from pandas>=0.24->yfinance) (2018.9)\n",
            "Requirement already satisfied: python-dateutil>=2.7.3 in /usr/local/lib/python3.7/dist-packages (from pandas>=0.24->yfinance) (2.8.2)\n",
            "Requirement already satisfied: six>=1.5 in /usr/local/lib/python3.7/dist-packages (from python-dateutil>=2.7.3->pandas>=0.24->yfinance) (1.15.0)\n",
            "Requirement already satisfied: charset-normalizer~=2.0.0 in /usr/local/lib/python3.7/dist-packages (from requests>=2.26->yfinance) (2.0.9)\n",
            "Requirement already satisfied: idna<4,>=2.5 in /usr/local/lib/python3.7/dist-packages (from requests>=2.26->yfinance) (2.10)\n",
            "Requirement already satisfied: urllib3<1.27,>=1.21.1 in /usr/local/lib/python3.7/dist-packages (from requests>=2.26->yfinance) (1.24.3)\n",
            "Requirement already satisfied: certifi>=2017.4.17 in /usr/local/lib/python3.7/dist-packages (from requests>=2.26->yfinance) (2021.10.8)\n",
            "Installing collected packages: requests, lxml, yfinance\n",
            "  Attempting uninstall: requests\n",
            "    Found existing installation: requests 2.23.0\n",
            "    Uninstalling requests-2.23.0:\n",
            "      Successfully uninstalled requests-2.23.0\n",
            "  Attempting uninstall: lxml\n",
            "    Found existing installation: lxml 4.2.6\n",
            "    Uninstalling lxml-4.2.6:\n",
            "      Successfully uninstalled lxml-4.2.6\n",
            "\u001b[31mERROR: pip's dependency resolver does not currently take into account all the packages that are installed. This behaviour is the source of the following dependency conflicts.\n",
            "google-colab 1.0.0 requires requests~=2.23.0, but you have requests 2.27.1 which is incompatible.\n",
            "datascience 0.10.6 requires folium==0.2.1, but you have folium 0.8.3 which is incompatible.\u001b[0m\n",
            "Successfully installed lxml-4.7.1 requests-2.27.1 yfinance-0.1.68\n"
          ]
        }
      ]
    },
    {
      "cell_type": "code",
      "execution_count": 2,
      "metadata": {
        "id": "d-5LaPLgWw4z",
        "colab": {
          "base_uri": "https://localhost:8080/"
        },
        "outputId": "0d2e0113-3756-4439-ed02-031d35b0ca40"
      },
      "outputs": [
        {
          "output_type": "stream",
          "name": "stderr",
          "text": [
            "/usr/local/lib/python3.7/dist-packages/statsmodels/tools/_testing.py:19: FutureWarning: pandas.util.testing is deprecated. Use the functions in the public API at pandas.testing instead.\n",
            "  import pandas.util.testing as tm\n"
          ]
        }
      ],
      "source": [
        "import numpy as np\n",
        "import pandas as pd\n",
        "import yfinance as yf\n",
        "from datetime import date\n",
        "import matplotlib.pyplot as plt\n",
        "from statsmodels.graphics.tsaplots import plot_acf\n",
        "from statsmodels.graphics.tsaplots import plot_pacf\n",
        "from statsmodels.tsa.stattools import adfuller\n",
        "from statsmodels.tsa.seasonal import seasonal_decompose"
      ]
    },
    {
      "cell_type": "code",
      "source": [
        "start='2018-01-01'\n",
        "end=date.today().strftime('%Y-%m-%d')\n",
        "data=yf.download('GC=F',start=start,end=end)"
      ],
      "metadata": {
        "colab": {
          "base_uri": "https://localhost:8080/"
        },
        "id": "nAz6gG0vZVA7",
        "outputId": "ad2bb9bf-2b82-4d61-ca80-3e9ffe469ace"
      },
      "execution_count": 3,
      "outputs": [
        {
          "output_type": "stream",
          "name": "stdout",
          "text": [
            "\r[*********************100%***********************]  1 of 1 completed\n"
          ]
        }
      ]
    },
    {
      "cell_type": "code",
      "source": [
        "data=yf.download('GC=F',start=start,end=end)[['Adj Close']]\n",
        "data"
      ],
      "metadata": {
        "colab": {
          "base_uri": "https://localhost:8080/",
          "height": 472
        },
        "id": "bV0-8Ys-dRJ6",
        "outputId": "4d083e77-6ecc-4703-b54c-2967ee9506fd"
      },
      "execution_count": 4,
      "outputs": [
        {
          "output_type": "stream",
          "name": "stdout",
          "text": [
            "\r[*********************100%***********************]  1 of 1 completed\n"
          ]
        },
        {
          "output_type": "execute_result",
          "data": {
            "text/html": [
              "\n",
              "  <div id=\"df-9371e914-7959-4d78-bcbc-8ebb466f2075\">\n",
              "    <div class=\"colab-df-container\">\n",
              "      <div>\n",
              "<style scoped>\n",
              "    .dataframe tbody tr th:only-of-type {\n",
              "        vertical-align: middle;\n",
              "    }\n",
              "\n",
              "    .dataframe tbody tr th {\n",
              "        vertical-align: top;\n",
              "    }\n",
              "\n",
              "    .dataframe thead th {\n",
              "        text-align: right;\n",
              "    }\n",
              "</style>\n",
              "<table border=\"1\" class=\"dataframe\">\n",
              "  <thead>\n",
              "    <tr style=\"text-align: right;\">\n",
              "      <th></th>\n",
              "      <th>Adj Close</th>\n",
              "    </tr>\n",
              "    <tr>\n",
              "      <th>Date</th>\n",
              "      <th></th>\n",
              "    </tr>\n",
              "  </thead>\n",
              "  <tbody>\n",
              "    <tr>\n",
              "      <th>2018-01-02</th>\n",
              "      <td>1313.699951</td>\n",
              "    </tr>\n",
              "    <tr>\n",
              "      <th>2018-01-03</th>\n",
              "      <td>1316.199951</td>\n",
              "    </tr>\n",
              "    <tr>\n",
              "      <th>2018-01-04</th>\n",
              "      <td>1319.400024</td>\n",
              "    </tr>\n",
              "    <tr>\n",
              "      <th>2018-01-05</th>\n",
              "      <td>1320.300049</td>\n",
              "    </tr>\n",
              "    <tr>\n",
              "      <th>2018-01-08</th>\n",
              "      <td>1318.599976</td>\n",
              "    </tr>\n",
              "    <tr>\n",
              "      <th>...</th>\n",
              "      <td>...</td>\n",
              "    </tr>\n",
              "    <tr>\n",
              "      <th>2021-12-30</th>\n",
              "      <td>1812.699951</td>\n",
              "    </tr>\n",
              "    <tr>\n",
              "      <th>2021-12-31</th>\n",
              "      <td>1827.500000</td>\n",
              "    </tr>\n",
              "    <tr>\n",
              "      <th>2022-01-03</th>\n",
              "      <td>1799.400024</td>\n",
              "    </tr>\n",
              "    <tr>\n",
              "      <th>2022-01-04</th>\n",
              "      <td>1814.000000</td>\n",
              "    </tr>\n",
              "    <tr>\n",
              "      <th>2022-01-05</th>\n",
              "      <td>1824.599976</td>\n",
              "    </tr>\n",
              "  </tbody>\n",
              "</table>\n",
              "<p>1011 rows × 1 columns</p>\n",
              "</div>\n",
              "      <button class=\"colab-df-convert\" onclick=\"convertToInteractive('df-9371e914-7959-4d78-bcbc-8ebb466f2075')\"\n",
              "              title=\"Convert this dataframe to an interactive table.\"\n",
              "              style=\"display:none;\">\n",
              "        \n",
              "  <svg xmlns=\"http://www.w3.org/2000/svg\" height=\"24px\"viewBox=\"0 0 24 24\"\n",
              "       width=\"24px\">\n",
              "    <path d=\"M0 0h24v24H0V0z\" fill=\"none\"/>\n",
              "    <path d=\"M18.56 5.44l.94 2.06.94-2.06 2.06-.94-2.06-.94-.94-2.06-.94 2.06-2.06.94zm-11 1L8.5 8.5l.94-2.06 2.06-.94-2.06-.94L8.5 2.5l-.94 2.06-2.06.94zm10 10l.94 2.06.94-2.06 2.06-.94-2.06-.94-.94-2.06-.94 2.06-2.06.94z\"/><path d=\"M17.41 7.96l-1.37-1.37c-.4-.4-.92-.59-1.43-.59-.52 0-1.04.2-1.43.59L10.3 9.45l-7.72 7.72c-.78.78-.78 2.05 0 2.83L4 21.41c.39.39.9.59 1.41.59.51 0 1.02-.2 1.41-.59l7.78-7.78 2.81-2.81c.8-.78.8-2.07 0-2.86zM5.41 20L4 18.59l7.72-7.72 1.47 1.35L5.41 20z\"/>\n",
              "  </svg>\n",
              "      </button>\n",
              "      \n",
              "  <style>\n",
              "    .colab-df-container {\n",
              "      display:flex;\n",
              "      flex-wrap:wrap;\n",
              "      gap: 12px;\n",
              "    }\n",
              "\n",
              "    .colab-df-convert {\n",
              "      background-color: #E8F0FE;\n",
              "      border: none;\n",
              "      border-radius: 50%;\n",
              "      cursor: pointer;\n",
              "      display: none;\n",
              "      fill: #1967D2;\n",
              "      height: 32px;\n",
              "      padding: 0 0 0 0;\n",
              "      width: 32px;\n",
              "    }\n",
              "\n",
              "    .colab-df-convert:hover {\n",
              "      background-color: #E2EBFA;\n",
              "      box-shadow: 0px 1px 2px rgba(60, 64, 67, 0.3), 0px 1px 3px 1px rgba(60, 64, 67, 0.15);\n",
              "      fill: #174EA6;\n",
              "    }\n",
              "\n",
              "    [theme=dark] .colab-df-convert {\n",
              "      background-color: #3B4455;\n",
              "      fill: #D2E3FC;\n",
              "    }\n",
              "\n",
              "    [theme=dark] .colab-df-convert:hover {\n",
              "      background-color: #434B5C;\n",
              "      box-shadow: 0px 1px 3px 1px rgba(0, 0, 0, 0.15);\n",
              "      filter: drop-shadow(0px 1px 2px rgba(0, 0, 0, 0.3));\n",
              "      fill: #FFFFFF;\n",
              "    }\n",
              "  </style>\n",
              "\n",
              "      <script>\n",
              "        const buttonEl =\n",
              "          document.querySelector('#df-9371e914-7959-4d78-bcbc-8ebb466f2075 button.colab-df-convert');\n",
              "        buttonEl.style.display =\n",
              "          google.colab.kernel.accessAllowed ? 'block' : 'none';\n",
              "\n",
              "        async function convertToInteractive(key) {\n",
              "          const element = document.querySelector('#df-9371e914-7959-4d78-bcbc-8ebb466f2075');\n",
              "          const dataTable =\n",
              "            await google.colab.kernel.invokeFunction('convertToInteractive',\n",
              "                                                     [key], {});\n",
              "          if (!dataTable) return;\n",
              "\n",
              "          const docLinkHtml = 'Like what you see? Visit the ' +\n",
              "            '<a target=\"_blank\" href=https://colab.research.google.com/notebooks/data_table.ipynb>data table notebook</a>'\n",
              "            + ' to learn more about interactive tables.';\n",
              "          element.innerHTML = '';\n",
              "          dataTable['output_type'] = 'display_data';\n",
              "          await google.colab.output.renderOutput(dataTable, element);\n",
              "          const docLink = document.createElement('div');\n",
              "          docLink.innerHTML = docLinkHtml;\n",
              "          element.appendChild(docLink);\n",
              "        }\n",
              "      </script>\n",
              "    </div>\n",
              "  </div>\n",
              "  "
            ],
            "text/plain": [
              "              Adj Close\n",
              "Date                   \n",
              "2018-01-02  1313.699951\n",
              "2018-01-03  1316.199951\n",
              "2018-01-04  1319.400024\n",
              "2018-01-05  1320.300049\n",
              "2018-01-08  1318.599976\n",
              "...                 ...\n",
              "2021-12-30  1812.699951\n",
              "2021-12-31  1827.500000\n",
              "2022-01-03  1799.400024\n",
              "2022-01-04  1814.000000\n",
              "2022-01-05  1824.599976\n",
              "\n",
              "[1011 rows x 1 columns]"
            ]
          },
          "metadata": {},
          "execution_count": 4
        }
      ]
    },
    {
      "cell_type": "code",
      "source": [
        "data.rename(columns={\"Adj Close\": 'Price'},inplace=True)"
      ],
      "metadata": {
        "id": "37PRnVZoJ-O0",
        "colab": {
          "base_uri": "https://localhost:8080/"
        },
        "outputId": "b390b5b1-0671-4838-efeb-dceec13f79b3"
      },
      "execution_count": 5,
      "outputs": [
        {
          "output_type": "stream",
          "name": "stderr",
          "text": [
            "/usr/local/lib/python3.7/dist-packages/pandas/core/frame.py:4308: SettingWithCopyWarning: \n",
            "A value is trying to be set on a copy of a slice from a DataFrame\n",
            "\n",
            "See the caveats in the documentation: https://pandas.pydata.org/pandas-docs/stable/user_guide/indexing.html#returning-a-view-versus-a-copy\n",
            "  errors=errors,\n"
          ]
        }
      ]
    },
    {
      "cell_type": "code",
      "source": [
        "data.head()"
      ],
      "metadata": {
        "colab": {
          "base_uri": "https://localhost:8080/",
          "height": 238
        },
        "id": "RQiWI53aZ-aA",
        "outputId": "fa232556-0b71-4f0e-b6dc-4f7c4dec5b1f"
      },
      "execution_count": 6,
      "outputs": [
        {
          "output_type": "execute_result",
          "data": {
            "text/html": [
              "\n",
              "  <div id=\"df-d7525631-feb9-44b8-8552-9bb2a3761c9e\">\n",
              "    <div class=\"colab-df-container\">\n",
              "      <div>\n",
              "<style scoped>\n",
              "    .dataframe tbody tr th:only-of-type {\n",
              "        vertical-align: middle;\n",
              "    }\n",
              "\n",
              "    .dataframe tbody tr th {\n",
              "        vertical-align: top;\n",
              "    }\n",
              "\n",
              "    .dataframe thead th {\n",
              "        text-align: right;\n",
              "    }\n",
              "</style>\n",
              "<table border=\"1\" class=\"dataframe\">\n",
              "  <thead>\n",
              "    <tr style=\"text-align: right;\">\n",
              "      <th></th>\n",
              "      <th>Price</th>\n",
              "    </tr>\n",
              "    <tr>\n",
              "      <th>Date</th>\n",
              "      <th></th>\n",
              "    </tr>\n",
              "  </thead>\n",
              "  <tbody>\n",
              "    <tr>\n",
              "      <th>2018-01-02</th>\n",
              "      <td>1313.699951</td>\n",
              "    </tr>\n",
              "    <tr>\n",
              "      <th>2018-01-03</th>\n",
              "      <td>1316.199951</td>\n",
              "    </tr>\n",
              "    <tr>\n",
              "      <th>2018-01-04</th>\n",
              "      <td>1319.400024</td>\n",
              "    </tr>\n",
              "    <tr>\n",
              "      <th>2018-01-05</th>\n",
              "      <td>1320.300049</td>\n",
              "    </tr>\n",
              "    <tr>\n",
              "      <th>2018-01-08</th>\n",
              "      <td>1318.599976</td>\n",
              "    </tr>\n",
              "  </tbody>\n",
              "</table>\n",
              "</div>\n",
              "      <button class=\"colab-df-convert\" onclick=\"convertToInteractive('df-d7525631-feb9-44b8-8552-9bb2a3761c9e')\"\n",
              "              title=\"Convert this dataframe to an interactive table.\"\n",
              "              style=\"display:none;\">\n",
              "        \n",
              "  <svg xmlns=\"http://www.w3.org/2000/svg\" height=\"24px\"viewBox=\"0 0 24 24\"\n",
              "       width=\"24px\">\n",
              "    <path d=\"M0 0h24v24H0V0z\" fill=\"none\"/>\n",
              "    <path d=\"M18.56 5.44l.94 2.06.94-2.06 2.06-.94-2.06-.94-.94-2.06-.94 2.06-2.06.94zm-11 1L8.5 8.5l.94-2.06 2.06-.94-2.06-.94L8.5 2.5l-.94 2.06-2.06.94zm10 10l.94 2.06.94-2.06 2.06-.94-2.06-.94-.94-2.06-.94 2.06-2.06.94z\"/><path d=\"M17.41 7.96l-1.37-1.37c-.4-.4-.92-.59-1.43-.59-.52 0-1.04.2-1.43.59L10.3 9.45l-7.72 7.72c-.78.78-.78 2.05 0 2.83L4 21.41c.39.39.9.59 1.41.59.51 0 1.02-.2 1.41-.59l7.78-7.78 2.81-2.81c.8-.78.8-2.07 0-2.86zM5.41 20L4 18.59l7.72-7.72 1.47 1.35L5.41 20z\"/>\n",
              "  </svg>\n",
              "      </button>\n",
              "      \n",
              "  <style>\n",
              "    .colab-df-container {\n",
              "      display:flex;\n",
              "      flex-wrap:wrap;\n",
              "      gap: 12px;\n",
              "    }\n",
              "\n",
              "    .colab-df-convert {\n",
              "      background-color: #E8F0FE;\n",
              "      border: none;\n",
              "      border-radius: 50%;\n",
              "      cursor: pointer;\n",
              "      display: none;\n",
              "      fill: #1967D2;\n",
              "      height: 32px;\n",
              "      padding: 0 0 0 0;\n",
              "      width: 32px;\n",
              "    }\n",
              "\n",
              "    .colab-df-convert:hover {\n",
              "      background-color: #E2EBFA;\n",
              "      box-shadow: 0px 1px 2px rgba(60, 64, 67, 0.3), 0px 1px 3px 1px rgba(60, 64, 67, 0.15);\n",
              "      fill: #174EA6;\n",
              "    }\n",
              "\n",
              "    [theme=dark] .colab-df-convert {\n",
              "      background-color: #3B4455;\n",
              "      fill: #D2E3FC;\n",
              "    }\n",
              "\n",
              "    [theme=dark] .colab-df-convert:hover {\n",
              "      background-color: #434B5C;\n",
              "      box-shadow: 0px 1px 3px 1px rgba(0, 0, 0, 0.15);\n",
              "      filter: drop-shadow(0px 1px 2px rgba(0, 0, 0, 0.3));\n",
              "      fill: #FFFFFF;\n",
              "    }\n",
              "  </style>\n",
              "\n",
              "      <script>\n",
              "        const buttonEl =\n",
              "          document.querySelector('#df-d7525631-feb9-44b8-8552-9bb2a3761c9e button.colab-df-convert');\n",
              "        buttonEl.style.display =\n",
              "          google.colab.kernel.accessAllowed ? 'block' : 'none';\n",
              "\n",
              "        async function convertToInteractive(key) {\n",
              "          const element = document.querySelector('#df-d7525631-feb9-44b8-8552-9bb2a3761c9e');\n",
              "          const dataTable =\n",
              "            await google.colab.kernel.invokeFunction('convertToInteractive',\n",
              "                                                     [key], {});\n",
              "          if (!dataTable) return;\n",
              "\n",
              "          const docLinkHtml = 'Like what you see? Visit the ' +\n",
              "            '<a target=\"_blank\" href=https://colab.research.google.com/notebooks/data_table.ipynb>data table notebook</a>'\n",
              "            + ' to learn more about interactive tables.';\n",
              "          element.innerHTML = '';\n",
              "          dataTable['output_type'] = 'display_data';\n",
              "          await google.colab.output.renderOutput(dataTable, element);\n",
              "          const docLink = document.createElement('div');\n",
              "          docLink.innerHTML = docLinkHtml;\n",
              "          element.appendChild(docLink);\n",
              "        }\n",
              "      </script>\n",
              "    </div>\n",
              "  </div>\n",
              "  "
            ],
            "text/plain": [
              "                  Price\n",
              "Date                   \n",
              "2018-01-02  1313.699951\n",
              "2018-01-03  1316.199951\n",
              "2018-01-04  1319.400024\n",
              "2018-01-05  1320.300049\n",
              "2018-01-08  1318.599976"
            ]
          },
          "metadata": {},
          "execution_count": 6
        }
      ]
    },
    {
      "cell_type": "code",
      "source": [
        "data.tail()"
      ],
      "metadata": {
        "colab": {
          "base_uri": "https://localhost:8080/",
          "height": 238
        },
        "id": "R14sbyh3aA-P",
        "outputId": "2cd988ed-ae73-4ce0-d810-c95f50659dec"
      },
      "execution_count": 7,
      "outputs": [
        {
          "output_type": "execute_result",
          "data": {
            "text/html": [
              "\n",
              "  <div id=\"df-a6afef1d-722e-4f8a-b97b-2f3e6004fc0b\">\n",
              "    <div class=\"colab-df-container\">\n",
              "      <div>\n",
              "<style scoped>\n",
              "    .dataframe tbody tr th:only-of-type {\n",
              "        vertical-align: middle;\n",
              "    }\n",
              "\n",
              "    .dataframe tbody tr th {\n",
              "        vertical-align: top;\n",
              "    }\n",
              "\n",
              "    .dataframe thead th {\n",
              "        text-align: right;\n",
              "    }\n",
              "</style>\n",
              "<table border=\"1\" class=\"dataframe\">\n",
              "  <thead>\n",
              "    <tr style=\"text-align: right;\">\n",
              "      <th></th>\n",
              "      <th>Price</th>\n",
              "    </tr>\n",
              "    <tr>\n",
              "      <th>Date</th>\n",
              "      <th></th>\n",
              "    </tr>\n",
              "  </thead>\n",
              "  <tbody>\n",
              "    <tr>\n",
              "      <th>2021-12-30</th>\n",
              "      <td>1812.699951</td>\n",
              "    </tr>\n",
              "    <tr>\n",
              "      <th>2021-12-31</th>\n",
              "      <td>1827.500000</td>\n",
              "    </tr>\n",
              "    <tr>\n",
              "      <th>2022-01-03</th>\n",
              "      <td>1799.400024</td>\n",
              "    </tr>\n",
              "    <tr>\n",
              "      <th>2022-01-04</th>\n",
              "      <td>1814.000000</td>\n",
              "    </tr>\n",
              "    <tr>\n",
              "      <th>2022-01-05</th>\n",
              "      <td>1824.599976</td>\n",
              "    </tr>\n",
              "  </tbody>\n",
              "</table>\n",
              "</div>\n",
              "      <button class=\"colab-df-convert\" onclick=\"convertToInteractive('df-a6afef1d-722e-4f8a-b97b-2f3e6004fc0b')\"\n",
              "              title=\"Convert this dataframe to an interactive table.\"\n",
              "              style=\"display:none;\">\n",
              "        \n",
              "  <svg xmlns=\"http://www.w3.org/2000/svg\" height=\"24px\"viewBox=\"0 0 24 24\"\n",
              "       width=\"24px\">\n",
              "    <path d=\"M0 0h24v24H0V0z\" fill=\"none\"/>\n",
              "    <path d=\"M18.56 5.44l.94 2.06.94-2.06 2.06-.94-2.06-.94-.94-2.06-.94 2.06-2.06.94zm-11 1L8.5 8.5l.94-2.06 2.06-.94-2.06-.94L8.5 2.5l-.94 2.06-2.06.94zm10 10l.94 2.06.94-2.06 2.06-.94-2.06-.94-.94-2.06-.94 2.06-2.06.94z\"/><path d=\"M17.41 7.96l-1.37-1.37c-.4-.4-.92-.59-1.43-.59-.52 0-1.04.2-1.43.59L10.3 9.45l-7.72 7.72c-.78.78-.78 2.05 0 2.83L4 21.41c.39.39.9.59 1.41.59.51 0 1.02-.2 1.41-.59l7.78-7.78 2.81-2.81c.8-.78.8-2.07 0-2.86zM5.41 20L4 18.59l7.72-7.72 1.47 1.35L5.41 20z\"/>\n",
              "  </svg>\n",
              "      </button>\n",
              "      \n",
              "  <style>\n",
              "    .colab-df-container {\n",
              "      display:flex;\n",
              "      flex-wrap:wrap;\n",
              "      gap: 12px;\n",
              "    }\n",
              "\n",
              "    .colab-df-convert {\n",
              "      background-color: #E8F0FE;\n",
              "      border: none;\n",
              "      border-radius: 50%;\n",
              "      cursor: pointer;\n",
              "      display: none;\n",
              "      fill: #1967D2;\n",
              "      height: 32px;\n",
              "      padding: 0 0 0 0;\n",
              "      width: 32px;\n",
              "    }\n",
              "\n",
              "    .colab-df-convert:hover {\n",
              "      background-color: #E2EBFA;\n",
              "      box-shadow: 0px 1px 2px rgba(60, 64, 67, 0.3), 0px 1px 3px 1px rgba(60, 64, 67, 0.15);\n",
              "      fill: #174EA6;\n",
              "    }\n",
              "\n",
              "    [theme=dark] .colab-df-convert {\n",
              "      background-color: #3B4455;\n",
              "      fill: #D2E3FC;\n",
              "    }\n",
              "\n",
              "    [theme=dark] .colab-df-convert:hover {\n",
              "      background-color: #434B5C;\n",
              "      box-shadow: 0px 1px 3px 1px rgba(0, 0, 0, 0.15);\n",
              "      filter: drop-shadow(0px 1px 2px rgba(0, 0, 0, 0.3));\n",
              "      fill: #FFFFFF;\n",
              "    }\n",
              "  </style>\n",
              "\n",
              "      <script>\n",
              "        const buttonEl =\n",
              "          document.querySelector('#df-a6afef1d-722e-4f8a-b97b-2f3e6004fc0b button.colab-df-convert');\n",
              "        buttonEl.style.display =\n",
              "          google.colab.kernel.accessAllowed ? 'block' : 'none';\n",
              "\n",
              "        async function convertToInteractive(key) {\n",
              "          const element = document.querySelector('#df-a6afef1d-722e-4f8a-b97b-2f3e6004fc0b');\n",
              "          const dataTable =\n",
              "            await google.colab.kernel.invokeFunction('convertToInteractive',\n",
              "                                                     [key], {});\n",
              "          if (!dataTable) return;\n",
              "\n",
              "          const docLinkHtml = 'Like what you see? Visit the ' +\n",
              "            '<a target=\"_blank\" href=https://colab.research.google.com/notebooks/data_table.ipynb>data table notebook</a>'\n",
              "            + ' to learn more about interactive tables.';\n",
              "          element.innerHTML = '';\n",
              "          dataTable['output_type'] = 'display_data';\n",
              "          await google.colab.output.renderOutput(dataTable, element);\n",
              "          const docLink = document.createElement('div');\n",
              "          docLink.innerHTML = docLinkHtml;\n",
              "          element.appendChild(docLink);\n",
              "        }\n",
              "      </script>\n",
              "    </div>\n",
              "  </div>\n",
              "  "
            ],
            "text/plain": [
              "                  Price\n",
              "Date                   \n",
              "2021-12-30  1812.699951\n",
              "2021-12-31  1827.500000\n",
              "2022-01-03  1799.400024\n",
              "2022-01-04  1814.000000\n",
              "2022-01-05  1824.599976"
            ]
          },
          "metadata": {},
          "execution_count": 7
        }
      ]
    },
    {
      "cell_type": "code",
      "source": [
        "train = data.head(804)\n",
        "test = data.tail(200)"
      ],
      "metadata": {
        "id": "uHPUeBTBiaVI"
      },
      "execution_count": 8,
      "outputs": []
    },
    {
      "cell_type": "markdown",
      "source": [
        "## **EDA**"
      ],
      "metadata": {
        "id": "l9bkAnzueXNo"
      }
    },
    {
      "cell_type": "code",
      "source": [
        "data.info()"
      ],
      "metadata": {
        "colab": {
          "base_uri": "https://localhost:8080/"
        },
        "id": "xO0ZJf9ud4rz",
        "outputId": "d3ea9ce2-dbda-4955-b0d0-08e7d64cdd54"
      },
      "execution_count": 9,
      "outputs": [
        {
          "output_type": "stream",
          "name": "stdout",
          "text": [
            "<class 'pandas.core.frame.DataFrame'>\n",
            "DatetimeIndex: 1011 entries, 2018-01-02 to 2022-01-05\n",
            "Data columns (total 1 columns):\n",
            " #   Column  Non-Null Count  Dtype  \n",
            "---  ------  --------------  -----  \n",
            " 0   Price   1011 non-null   float64\n",
            "dtypes: float64(1)\n",
            "memory usage: 15.8 KB\n"
          ]
        }
      ]
    },
    {
      "cell_type": "markdown",
      "source": [
        "**Line chart**"
      ],
      "metadata": {
        "id": "3oNLY6tm-0PN"
      }
    },
    {
      "cell_type": "code",
      "source": [
        "import seaborn as sns\n",
        "plt.figure(figsize=(20,7))\n",
        "sns.set(style='darkgrid')\n",
        "sns.lineplot( y=\"Price\", x=\"Date\", data=data)\n",
        "#sns.lineplot( y=\"Price\", x=data.index, data=data)\n",
        "plt.title(\" Gold Price movement throughout our Observation\")\n",
        "plt.ylabel('Gold Price')\n",
        "plt.show()"
      ],
      "metadata": {
        "colab": {
          "base_uri": "https://localhost:8080/",
          "height": 464
        },
        "id": "G0jX5jYEjVVA",
        "outputId": "d38e296f-eedc-4504-d911-487c11891632"
      },
      "execution_count": 10,
      "outputs": [
        {
          "output_type": "display_data",
          "data": {
            "image/png": "[encoded data removed]",
            "text/plain": [
              "<Figure size 1440x504 with 1 Axes>"
            ]
          },
          "metadata": {
            "needs_background": "light"
          }
        }
      ]
    },
    {
      "cell_type": "markdown",
      "source": [
        "**Another Way to draw line chart**"
      ],
      "metadata": {
        "id": "p8UU18pt-vCU"
      }
    },
    {
      "cell_type": "code",
      "source": [
        "#from IPython.core.pylabtools import figsize\n",
        "#plt.figure(figsize=(20,7))\n",
        "#data.Price.plot()\n",
        "#plt.title(\" Gold Price movement throughout our Observation\")\n",
        "#plt.ylabel('Gold Price')\n",
        "#plt.show()"
      ],
      "metadata": {
        "id": "I8-r0sSagau6"
      },
      "execution_count": null,
      "outputs": []
    },
    {
      "cell_type": "code",
      "source": [
        "data"
      ],
      "metadata": {
        "colab": {
          "base_uri": "https://localhost:8080/",
          "height": 455
        },
        "id": "rLHABN8_crTj",
        "outputId": "12cae532-0d00-4e4f-d46e-7c4182277c06"
      },
      "execution_count": 11,
      "outputs": [
        {
          "output_type": "execute_result",
          "data": {
            "text/html": [
              "\n",
              "  <div id=\"df-3dcf32cc-502f-40cc-979d-ea7cfed3a3c7\">\n",
              "    <div class=\"colab-df-container\">\n",
              "      <div>\n",
              "<style scoped>\n",
              "    .dataframe tbody tr th:only-of-type {\n",
              "        vertical-align: middle;\n",
              "    }\n",
              "\n",
              "    .dataframe tbody tr th {\n",
              "        vertical-align: top;\n",
              "    }\n",
              "\n",
              "    .dataframe thead th {\n",
              "        text-align: right;\n",
              "    }\n",
              "</style>\n",
              "<table border=\"1\" class=\"dataframe\">\n",
              "  <thead>\n",
              "    <tr style=\"text-align: right;\">\n",
              "      <th></th>\n",
              "      <th>Price</th>\n",
              "    </tr>\n",
              "    <tr>\n",
              "      <th>Date</th>\n",
              "      <th></th>\n",
              "    </tr>\n",
              "  </thead>\n",
              "  <tbody>\n",
              "    <tr>\n",
              "      <th>2018-01-02</th>\n",
              "      <td>1313.699951</td>\n",
              "    </tr>\n",
              "    <tr>\n",
              "      <th>2018-01-03</th>\n",
              "      <td>1316.199951</td>\n",
              "    </tr>\n",
              "    <tr>\n",
              "      <th>2018-01-04</th>\n",
              "      <td>1319.400024</td>\n",
              "    </tr>\n",
              "    <tr>\n",
              "      <th>2018-01-05</th>\n",
              "      <td>1320.300049</td>\n",
              "    </tr>\n",
              "    <tr>\n",
              "      <th>2018-01-08</th>\n",
              "      <td>1318.599976</td>\n",
              "    </tr>\n",
              "    <tr>\n",
              "      <th>...</th>\n",
              "      <td>...</td>\n",
              "    </tr>\n",
              "    <tr>\n",
              "      <th>2021-12-30</th>\n",
              "      <td>1812.699951</td>\n",
              "    </tr>\n",
              "    <tr>\n",
              "      <th>2021-12-31</th>\n",
              "      <td>1827.500000</td>\n",
              "    </tr>\n",
              "    <tr>\n",
              "      <th>2022-01-03</th>\n",
              "      <td>1799.400024</td>\n",
              "    </tr>\n",
              "    <tr>\n",
              "      <th>2022-01-04</th>\n",
              "      <td>1814.000000</td>\n",
              "    </tr>\n",
              "    <tr>\n",
              "      <th>2022-01-05</th>\n",
              "      <td>1824.599976</td>\n",
              "    </tr>\n",
              "  </tbody>\n",
              "</table>\n",
              "<p>1011 rows × 1 columns</p>\n",
              "</div>\n",
              "      <button class=\"colab-df-convert\" onclick=\"convertToInteractive('df-3dcf32cc-502f-40cc-979d-ea7cfed3a3c7')\"\n",
              "              title=\"Convert this dataframe to an interactive table.\"\n",
              "              style=\"display:none;\">\n",
              "        \n",
              "  <svg xmlns=\"http://www.w3.org/2000/svg\" height=\"24px\"viewBox=\"0 0 24 24\"\n",
              "       width=\"24px\">\n",
              "    <path d=\"M0 0h24v24H0V0z\" fill=\"none\"/>\n",
              "    <path d=\"M18.56 5.44l.94 2.06.94-2.06 2.06-.94-2.06-.94-.94-2.06-.94 2.06-2.06.94zm-11 1L8.5 8.5l.94-2.06 2.06-.94-2.06-.94L8.5 2.5l-.94 2.06-2.06.94zm10 10l.94 2.06.94-2.06 2.06-.94-2.06-.94-.94-2.06-.94 2.06-2.06.94z\"/><path d=\"M17.41 7.96l-1.37-1.37c-.4-.4-.92-.59-1.43-.59-.52 0-1.04.2-1.43.59L10.3 9.45l-7.72 7.72c-.78.78-.78 2.05 0 2.83L4 21.41c.39.39.9.59 1.41.59.51 0 1.02-.2 1.41-.59l7.78-7.78 2.81-2.81c.8-.78.8-2.07 0-2.86zM5.41 20L4 18.59l7.72-7.72 1.47 1.35L5.41 20z\"/>\n",
              "  </svg>\n",
              "      </button>\n",
              "      \n",
              "  <style>\n",
              "    .colab-df-container {\n",
              "      display:flex;\n",
              "      flex-wrap:wrap;\n",
              "      gap: 12px;\n",
              "    }\n",
              "\n",
              "    .colab-df-convert {\n",
              "      background-color: #E8F0FE;\n",
              "      border: none;\n",
              "      border-radius: 50%;\n",
              "      cursor: pointer;\n",
              "      display: none;\n",
              "      fill: #1967D2;\n",
              "      height: 32px;\n",
              "      padding: 0 0 0 0;\n",
              "      width: 32px;\n",
              "    }\n",
              "\n",
              "    .colab-df-convert:hover {\n",
              "      background-color: #E2EBFA;\n",
              "      box-shadow: 0px 1px 2px rgba(60, 64, 67, 0.3), 0px 1px 3px 1px rgba(60, 64, 67, 0.15);\n",
              "      fill: #174EA6;\n",
              "    }\n",
              "\n",
              "    [theme=dark] .colab-df-convert {\n",
              "      background-color: #3B4455;\n",
              "      fill: #D2E3FC;\n",
              "    }\n",
              "\n",
              "    [theme=dark] .colab-df-convert:hover {\n",
              "      background-color: #434B5C;\n",
              "      box-shadow: 0px 1px 3px 1px rgba(0, 0, 0, 0.15);\n",
              "      filter: drop-shadow(0px 1px 2px rgba(0, 0, 0, 0.3));\n",
              "      fill: #FFFFFF;\n",
              "    }\n",
              "  </style>\n",
              "\n",
              "      <script>\n",
              "        const buttonEl =\n",
              "          document.querySelector('#df-3dcf32cc-502f-40cc-979d-ea7cfed3a3c7 button.colab-df-convert');\n",
              "        buttonEl.style.display =\n",
              "          google.colab.kernel.accessAllowed ? 'block' : 'none';\n",
              "\n",
              "        async function convertToInteractive(key) {\n",
              "          const element = document.querySelector('#df-3dcf32cc-502f-40cc-979d-ea7cfed3a3c7');\n",
              "          const dataTable =\n",
              "            await google.colab.kernel.invokeFunction('convertToInteractive',\n",
              "                                                     [key], {});\n",
              "          if (!dataTable) return;\n",
              "\n",
              "          const docLinkHtml = 'Like what you see? Visit the ' +\n",
              "            '<a target=\"_blank\" href=https://colab.research.google.com/notebooks/data_table.ipynb>data table notebook</a>'\n",
              "            + ' to learn more about interactive tables.';\n",
              "          element.innerHTML = '';\n",
              "          dataTable['output_type'] = 'display_data';\n",
              "          await google.colab.output.renderOutput(dataTable, element);\n",
              "          const docLink = document.createElement('div');\n",
              "          docLink.innerHTML = docLinkHtml;\n",
              "          element.appendChild(docLink);\n",
              "        }\n",
              "      </script>\n",
              "    </div>\n",
              "  </div>\n",
              "  "
            ],
            "text/plain": [
              "                  Price\n",
              "Date                   \n",
              "2018-01-02  1313.699951\n",
              "2018-01-03  1316.199951\n",
              "2018-01-04  1319.400024\n",
              "2018-01-05  1320.300049\n",
              "2018-01-08  1318.599976\n",
              "...                 ...\n",
              "2021-12-30  1812.699951\n",
              "2021-12-31  1827.500000\n",
              "2022-01-03  1799.400024\n",
              "2022-01-04  1814.000000\n",
              "2022-01-05  1824.599976\n",
              "\n",
              "[1011 rows x 1 columns]"
            ]
          },
          "metadata": {},
          "execution_count": 11
        }
      ]
    },
    {
      "cell_type": "code",
      "source": [
        "data.info()"
      ],
      "metadata": {
        "colab": {
          "base_uri": "https://localhost:8080/"
        },
        "id": "9X3Ky6Jjd3C-",
        "outputId": "b0f244e6-498a-45c4-fe22-2a12dd65f23c"
      },
      "execution_count": 12,
      "outputs": [
        {
          "output_type": "stream",
          "name": "stdout",
          "text": [
            "<class 'pandas.core.frame.DataFrame'>\n",
            "DatetimeIndex: 1011 entries, 2018-01-02 to 2022-01-05\n",
            "Data columns (total 1 columns):\n",
            " #   Column  Non-Null Count  Dtype  \n",
            "---  ------  --------------  -----  \n",
            " 0   Price   1011 non-null   float64\n",
            "dtypes: float64(1)\n",
            "memory usage: 15.8 KB\n"
          ]
        }
      ]
    },
    {
      "cell_type": "code",
      "source": [
        "data.isnull().sum()"
      ],
      "metadata": {
        "colab": {
          "base_uri": "https://localhost:8080/"
        },
        "id": "gSvV6xbmJyeU",
        "outputId": "7f4fff61-29a7-4d08-905e-45b0ff04e3ab"
      },
      "execution_count": 13,
      "outputs": [
        {
          "output_type": "execute_result",
          "data": {
            "text/plain": [
              "Price    0\n",
              "dtype: int64"
            ]
          },
          "metadata": {},
          "execution_count": 13
        }
      ]
    },
    {
      "cell_type": "code",
      "source": [
        "print(len(data))"
      ],
      "metadata": {
        "colab": {
          "base_uri": "https://localhost:8080/"
        },
        "id": "e0By_1GPbvM7",
        "outputId": "b64e1d17-42d5-4e27-db80-8a5267389eb5"
      },
      "execution_count": 14,
      "outputs": [
        {
          "output_type": "stream",
          "name": "stdout",
          "text": [
            "1011\n"
          ]
        }
      ]
    },
    {
      "cell_type": "code",
      "source": [
        "data.describe().T"
      ],
      "metadata": {
        "colab": {
          "base_uri": "https://localhost:8080/",
          "height": 81
        },
        "id": "SO9B_2FhKUvK",
        "outputId": "3809e228-6a7a-4c7d-e962-ea9d5c66f245"
      },
      "execution_count": 15,
      "outputs": [
        {
          "output_type": "execute_result",
          "data": {
            "text/html": [
              "\n",
              "  <div id=\"df-1f9a65f5-a4ac-4ec0-a4b1-84431ada69d2\">\n",
              "    <div class=\"colab-df-container\">\n",
              "      <div>\n",
              "<style scoped>\n",
              "    .dataframe tbody tr th:only-of-type {\n",
              "        vertical-align: middle;\n",
              "    }\n",
              "\n",
              "    .dataframe tbody tr th {\n",
              "        vertical-align: top;\n",
              "    }\n",
              "\n",
              "    .dataframe thead th {\n",
              "        text-align: right;\n",
              "    }\n",
              "</style>\n",
              "<table border=\"1\" class=\"dataframe\">\n",
              "  <thead>\n",
              "    <tr style=\"text-align: right;\">\n",
              "      <th></th>\n",
              "      <th>count</th>\n",
              "      <th>mean</th>\n",
              "      <th>std</th>\n",
              "      <th>min</th>\n",
              "      <th>25%</th>\n",
              "      <th>50%</th>\n",
              "      <th>75%</th>\n",
              "      <th>max</th>\n",
              "    </tr>\n",
              "  </thead>\n",
              "  <tbody>\n",
              "    <tr>\n",
              "      <th>Price</th>\n",
              "      <td>1011.0</td>\n",
              "      <td>1559.563204</td>\n",
              "      <td>249.407331</td>\n",
              "      <td>1176.199951</td>\n",
              "      <td>1311.450012</td>\n",
              "      <td>1537.800049</td>\n",
              "      <td>1792.549988</td>\n",
              "      <td>2051.5</td>\n",
              "    </tr>\n",
              "  </tbody>\n",
              "</table>\n",
              "</div>\n",
              "      <button class=\"colab-df-convert\" onclick=\"convertToInteractive('df-1f9a65f5-a4ac-4ec0-a4b1-84431ada69d2')\"\n",
              "              title=\"Convert this dataframe to an interactive table.\"\n",
              "              style=\"display:none;\">\n",
              "        \n",
              "  <svg xmlns=\"http://www.w3.org/2000/svg\" height=\"24px\"viewBox=\"0 0 24 24\"\n",
              "       width=\"24px\">\n",
              "    <path d=\"M0 0h24v24H0V0z\" fill=\"none\"/>\n",
              "    <path d=\"M18.56 5.44l.94 2.06.94-2.06 2.06-.94-2.06-.94-.94-2.06-.94 2.06-2.06.94zm-11 1L8.5 8.5l.94-2.06 2.06-.94-2.06-.94L8.5 2.5l-.94 2.06-2.06.94zm10 10l.94 2.06.94-2.06 2.06-.94-2.06-.94-.94-2.06-.94 2.06-2.06.94z\"/><path d=\"M17.41 7.96l-1.37-1.37c-.4-.4-.92-.59-1.43-.59-.52 0-1.04.2-1.43.59L10.3 9.45l-7.72 7.72c-.78.78-.78 2.05 0 2.83L4 21.41c.39.39.9.59 1.41.59.51 0 1.02-.2 1.41-.59l7.78-7.78 2.81-2.81c.8-.78.8-2.07 0-2.86zM5.41 20L4 18.59l7.72-7.72 1.47 1.35L5.41 20z\"/>\n",
              "  </svg>\n",
              "      </button>\n",
              "      \n",
              "  <style>\n",
              "    .colab-df-container {\n",
              "      display:flex;\n",
              "      flex-wrap:wrap;\n",
              "      gap: 12px;\n",
              "    }\n",
              "\n",
              "    .colab-df-convert {\n",
              "      background-color: #E8F0FE;\n",
              "      border: none;\n",
              "      border-radius: 50%;\n",
              "      cursor: pointer;\n",
              "      display: none;\n",
              "      fill: #1967D2;\n",
              "      height: 32px;\n",
              "      padding: 0 0 0 0;\n",
              "      width: 32px;\n",
              "    }\n",
              "\n",
              "    .colab-df-convert:hover {\n",
              "      background-color: #E2EBFA;\n",
              "      box-shadow: 0px 1px 2px rgba(60, 64, 67, 0.3), 0px 1px 3px 1px rgba(60, 64, 67, 0.15);\n",
              "      fill: #174EA6;\n",
              "    }\n",
              "\n",
              "    [theme=dark] .colab-df-convert {\n",
              "      background-color: #3B4455;\n",
              "      fill: #D2E3FC;\n",
              "    }\n",
              "\n",
              "    [theme=dark] .colab-df-convert:hover {\n",
              "      background-color: #434B5C;\n",
              "      box-shadow: 0px 1px 3px 1px rgba(0, 0, 0, 0.15);\n",
              "      filter: drop-shadow(0px 1px 2px rgba(0, 0, 0, 0.3));\n",
              "      fill: #FFFFFF;\n",
              "    }\n",
              "  </style>\n",
              "\n",
              "      <script>\n",
              "        const buttonEl =\n",
              "          document.querySelector('#df-1f9a65f5-a4ac-4ec0-a4b1-84431ada69d2 button.colab-df-convert');\n",
              "        buttonEl.style.display =\n",
              "          google.colab.kernel.accessAllowed ? 'block' : 'none';\n",
              "\n",
              "        async function convertToInteractive(key) {\n",
              "          const element = document.querySelector('#df-1f9a65f5-a4ac-4ec0-a4b1-84431ada69d2');\n",
              "          const dataTable =\n",
              "            await google.colab.kernel.invokeFunction('convertToInteractive',\n",
              "                                                     [key], {});\n",
              "          if (!dataTable) return;\n",
              "\n",
              "          const docLinkHtml = 'Like what you see? Visit the ' +\n",
              "            '<a target=\"_blank\" href=https://colab.research.google.com/notebooks/data_table.ipynb>data table notebook</a>'\n",
              "            + ' to learn more about interactive tables.';\n",
              "          element.innerHTML = '';\n",
              "          dataTable['output_type'] = 'display_data';\n",
              "          await google.colab.output.renderOutput(dataTable, element);\n",
              "          const docLink = document.createElement('div');\n",
              "          docLink.innerHTML = docLinkHtml;\n",
              "          element.appendChild(docLink);\n",
              "        }\n",
              "      </script>\n",
              "    </div>\n",
              "  </div>\n",
              "  "
            ],
            "text/plain": [
              "        count         mean         std  ...          50%          75%     max\n",
              "Price  1011.0  1559.563204  249.407331  ...  1537.800049  1792.549988  2051.5\n",
              "\n",
              "[1 rows x 8 columns]"
            ]
          },
          "metadata": {},
          "execution_count": 15
        }
      ]
    },
    {
      "cell_type": "markdown",
      "source": [
        "### **Checking for Stationarity in data using Dickey-Fuller test**"
      ],
      "metadata": {
        "id": "hgt3w9dpzzEh"
      }
    },
    {
      "cell_type": "code",
      "source": [
        "X = train['Price'].values\n",
        "\n",
        "result = adfuller(X)\n",
        "#print(result)\n",
        "print('ADF Statistic: %f' % result[0])\n",
        "print('p-value: %f' % result[1])\n",
        "print('Critical Values:')\n",
        "print(f'Inference: Time Series is {\"non\" if result[1]>=0.05 else\" \"} stationary')"
      ],
      "metadata": {
        "colab": {
          "base_uri": "https://localhost:8080/"
        },
        "id": "CoERL5cLupIU",
        "outputId": "8f38ba4a-0a84-4901-c704-57e78696b17f"
      },
      "execution_count": 16,
      "outputs": [
        {
          "output_type": "stream",
          "name": "stdout",
          "text": [
            "ADF Statistic: -0.542786\n",
            "p-value: 0.883393\n",
            "Critical Values:\n",
            "Inference: Time Series is non stationary\n"
          ]
        }
      ]
    },
    {
      "cell_type": "markdown",
      "source": [
        "## **As the p-value > 0.05, we Fail to reject the null hypothesis (H0), the data has a unit root and is non-stationary.**"
      ],
      "metadata": {
        "id": "QTEJoJ4l1GFD"
      }
    },
    {
      "cell_type": "markdown",
      "source": [
        "### **Auto correlation graph**"
      ],
      "metadata": {
        "id": "3M-NNkMZm00W"
      }
    },
    {
      "cell_type": "code",
      "source": [
        "plt.rc(\"figure\", figsize=(10,6))\n",
        "plot_acf(train['Price'],lags=35)\n",
        "plt.show()"
      ],
      "metadata": {
        "colab": {
          "base_uri": "https://localhost:8080/",
          "height": 393
        },
        "id": "OytGUlDAmlUa",
        "outputId": "0e4d58c6-d3a6-45a4-bb23-ebd6c74e7528"
      },
      "execution_count": 17,
      "outputs": [
        {
          "output_type": "display_data",
          "data": {
            "image/png": "[encoded data removed]",
            "text/plain": [
              "<Figure size 720x432 with 1 Axes>"
            ]
          },
          "metadata": {}
        }
      ]
    },
    {
      "cell_type": "markdown",
      "source": [
        "### **PACF graph**"
      ],
      "metadata": {
        "id": "6oM19RDam4Oo"
      }
    },
    {
      "cell_type": "code",
      "source": [
        "plot_pacf(train['Price'],lags=35)\n",
        "plt.show()"
      ],
      "metadata": {
        "colab": {
          "base_uri": "https://localhost:8080/",
          "height": 393
        },
        "id": "wuXqzcVym31x",
        "outputId": "6d518bbc-9e8b-42ad-cbba-d9954a2af4d3"
      },
      "execution_count": 18,
      "outputs": [
        {
          "output_type": "display_data",
          "data": {
            "image/png": "[encoded data removed]",
            "text/plain": [
              "<Figure size 720x432 with 1 Axes>"
            ]
          },
          "metadata": {}
        }
      ]
    },
    {
      "cell_type": "markdown",
      "source": [
        "## **DIFFERENCE TRANSFORM to remove Seasonality**"
      ],
      "metadata": {
        "id": "a4ayENu_1a-5"
      }
    },
    {
      "cell_type": "code",
      "source": [
        "data_without_sea = train.diff().dropna()"
      ],
      "metadata": {
        "id": "8hHYumdQ0JBk"
      },
      "execution_count": 19,
      "outputs": []
    },
    {
      "cell_type": "code",
      "source": [
        "data_without_sea.info()"
      ],
      "metadata": {
        "colab": {
          "base_uri": "https://localhost:8080/"
        },
        "id": "aIrmUbJ4c1Hb",
        "outputId": "d4cba8f0-66ed-4a12-952f-fde016bcfe7f"
      },
      "execution_count": null,
      "outputs": [
        {
          "output_type": "stream",
          "name": "stdout",
          "text": [
            "<class 'pandas.core.frame.DataFrame'>\n",
            "DatetimeIndex: 803 entries, 2018-01-03 to 2021-03-15\n",
            "Data columns (total 1 columns):\n",
            " #   Column  Non-Null Count  Dtype  \n",
            "---  ------  --------------  -----  \n",
            " 0   Price   803 non-null    float64\n",
            "dtypes: float64(1)\n",
            "memory usage: 12.5 KB\n"
          ]
        }
      ]
    },
    {
      "cell_type": "markdown",
      "source": [
        "### **Again checking for Stationarity in data using Dickey-Fuller test**"
      ],
      "metadata": {
        "id": "hqLroG-oadYV"
      }
    },
    {
      "cell_type": "code",
      "source": [
        "X = data_without_sea['Price'].values\n",
        "result = adfuller(X)\n",
        "#print(result)\n",
        "print('ADF Statistic: %f' % result[0])\n",
        "print('p-value: %f' % result[1])\n",
        "print('Critical Values:')\n",
        "print(f'Inference: Time Series is {\"non\" if result[1]>=0.05 else\" \"}stationary')"
      ],
      "metadata": {
        "colab": {
          "base_uri": "https://localhost:8080/"
        },
        "id": "1HuA8bT1XmK1",
        "outputId": "63e2912c-2863-4a9b-ced9-901a951f4d98"
      },
      "execution_count": 20,
      "outputs": [
        {
          "output_type": "stream",
          "name": "stdout",
          "text": [
            "ADF Statistic: -13.530644\n",
            "p-value: 0.000000\n",
            "Critical Values:\n",
            "Inference: Time Series is  stationary\n"
          ]
        }
      ]
    },
    {
      "cell_type": "markdown",
      "source": [
        "### **Auto correlation graph after 1 step differencing**"
      ],
      "metadata": {
        "id": "1Vj3Ftsub-pF"
      }
    },
    {
      "cell_type": "code",
      "source": [
        "plt.rc(\"figure\", figsize=(10,6))\n",
        "plot_acf(data_without_sea['Price'], lags=35)\n",
        "plt.show()"
      ],
      "metadata": {
        "colab": {
          "base_uri": "https://localhost:8080/",
          "height": 393
        },
        "id": "16x-RvEzXmHg",
        "outputId": "63114eb2-9380-41cf-98c7-5bb5d1e4e562"
      },
      "execution_count": 21,
      "outputs": [
        {
          "output_type": "display_data",
          "data": {
            "image/png": "[encoded data removed]",
            "text/plain": [
              "<Figure size 720x432 with 1 Axes>"
            ]
          },
          "metadata": {}
        }
      ]
    },
    {
      "cell_type": "markdown",
      "source": [
        "### **Partial Auto Correlation graph after differencing**"
      ],
      "metadata": {
        "id": "JEOTD_mznUN6"
      }
    },
    {
      "cell_type": "code",
      "source": [
        "plt.rc(\"figure\", figsize=(10,6))\n",
        "plot_pacf(data_without_sea)\n",
        "plt.show()"
      ],
      "metadata": {
        "colab": {
          "base_uri": "https://localhost:8080/",
          "height": 393
        },
        "id": "U-4AbjmqXmFO",
        "outputId": "bf373990-f74b-4fb2-d3cf-51731bc79048"
      },
      "execution_count": 22,
      "outputs": [
        {
          "output_type": "display_data",
          "data": {
            "image/png": "[encoded data removed]",
            "text/plain": [
              "<Figure size 720x432 with 1 Axes>"
            ]
          },
          "metadata": {}
        }
      ]
    },
    {
      "cell_type": "code",
      "source": [
        "plt.plot(data_without_sea)\n",
        "plt.show()"
      ],
      "metadata": {
        "colab": {
          "base_uri": "https://localhost:8080/",
          "height": 377
        },
        "id": "4WeFmOSpRDEi",
        "outputId": "61bc1df8-1fbc-48f8-8d4c-c362942b302d"
      },
      "execution_count": 23,
      "outputs": [
        {
          "output_type": "display_data",
          "data": {
            "image/png": "[encoded data removed]",
            "text/plain": [
              "<Figure size 720x432 with 1 Axes>"
            ]
          },
          "metadata": {}
        }
      ]
    },
    {
      "cell_type": "code",
      "source": [
        ""
      ],
      "metadata": {
        "id": "idhQJnfwR-CA"
      },
      "execution_count": null,
      "outputs": []
    },
    {
      "cell_type": "code",
      "source": [
        "data_without_sea.info()"
      ],
      "metadata": {
        "colab": {
          "base_uri": "https://localhost:8080/"
        },
        "id": "YryDYbrKc41b",
        "outputId": "ef8880a0-a6b5-4815-a338-8ba6ca40a9b4"
      },
      "execution_count": 24,
      "outputs": [
        {
          "output_type": "stream",
          "name": "stdout",
          "text": [
            "<class 'pandas.core.frame.DataFrame'>\n",
            "DatetimeIndex: 803 entries, 2018-01-03 to 2021-03-15\n",
            "Data columns (total 1 columns):\n",
            " #   Column  Non-Null Count  Dtype  \n",
            "---  ------  --------------  -----  \n",
            " 0   Price   803 non-null    float64\n",
            "dtypes: float64(1)\n",
            "memory usage: 12.5 KB\n"
          ]
        }
      ]
    },
    {
      "cell_type": "code",
      "source": [
        "# separate out a validation dataset\n",
        "\n",
        "print('Dataset %d, Validation %d' % (len(train), len(test)))\n",
        "train.to_csv('dataset.csv', header=False)\n",
        "test.to_csv('validation.csv', header=False)\n"
      ],
      "metadata": {
        "colab": {
          "base_uri": "https://localhost:8080/"
        },
        "id": "Vrt6mgxsmTMg",
        "outputId": "94c14289-cc2b-4090-edb5-25b4668aa7cd"
      },
      "execution_count": 25,
      "outputs": [
        {
          "output_type": "stream",
          "name": "stdout",
          "text": [
            "Dataset 804, Validation 200\n"
          ]
        }
      ]
    },
    {
      "cell_type": "markdown",
      "source": [
        "### **Persistence/ Base model**"
      ],
      "metadata": {
        "id": "1T1bd-ndpnX2"
      }
    },
    {
      "cell_type": "code",
      "source": [
        "# evaluate a persistence model\n",
        "from pandas import read_csv\n",
        "from sklearn.metrics import mean_squared_error\n",
        "from math import sqrt\n",
        "# load data\n",
        "train = read_csv('dataset.csv', header=None, index_col=0, parse_dates=True, squeeze=True)\n",
        "# prepare data\n",
        "X = train.values\n",
        "X = X.astype('float32')\n",
        "train_size = int(len(X) * 0.70)\n",
        "train, test = X[0:train_size], X[train_size:]"
      ],
      "metadata": {
        "id": "H3P2F45LXl72"
      },
      "execution_count": 26,
      "outputs": []
    },
    {
      "cell_type": "code",
      "source": [
        "# walk-forward validation\n",
        "history = [x for x in train]\n",
        "predictions = list()\n",
        "for i in range(len(test)):\n",
        "    yhat = history[-1]\n",
        "    predictions.append(yhat)\n",
        "# observation\n",
        "    obs = test[i]\n",
        "    history.append(obs)\n",
        "    print('>Predicted=%.3f, Expected=%.3f' % (yhat, obs))\n",
        "# report performance\n",
        "rmse = sqrt(mean_squared_error(test, predictions))\n",
        "print('RMSE: %.3f' % rmse)"
      ],
      "metadata": {
        "colab": {
          "base_uri": "https://localhost:8080/"
        },
        "id": "LJqe6jdhmVog",
        "outputId": "39c6acda-b559-46db-8101-d7ae464e6d42"
      },
      "execution_count": 27,
      "outputs": [
        {
          "output_type": "stream",
          "name": "stdout",
          "text": [
            ">Predicted=1623.900, Expected=1622.000\n",
            ">Predicted=1622.000, Expected=1583.400\n",
            ">Predicted=1583.400, Expected=1578.200\n",
            ">Predicted=1578.200, Expected=1625.700\n",
            ">Predicted=1625.700, Expected=1633.700\n",
            ">Predicted=1633.700, Expected=1677.000\n",
            ">Predicted=1677.000, Expected=1664.800\n",
            ">Predicted=1664.800, Expected=1665.400\n",
            ">Predicted=1665.400, Expected=1736.200\n",
            ">Predicted=1736.200, Expected=1744.800\n",
            ">Predicted=1744.800, Expected=1756.700\n",
            ">Predicted=1756.700, Expected=1727.200\n",
            ">Predicted=1727.200, Expected=1720.400\n",
            ">Predicted=1720.400, Expected=1689.200\n",
            ">Predicted=1689.200, Expected=1701.600\n",
            ">Predicted=1701.600, Expected=1678.200\n",
            ">Predicted=1678.200, Expected=1728.700\n",
            ">Predicted=1728.700, Expected=1733.300\n",
            ">Predicted=1733.300, Expected=1723.500\n",
            ">Predicted=1723.500, Expected=1711.900\n",
            ">Predicted=1711.900, Expected=1710.500\n",
            ">Predicted=1710.500, Expected=1703.400\n",
            ">Predicted=1703.400, Expected=1684.200\n",
            ">Predicted=1684.200, Expected=1694.500\n",
            ">Predicted=1694.500, Expected=1706.900\n",
            ">Predicted=1706.900, Expected=1704.400\n",
            ">Predicted=1704.400, Expected=1684.200\n",
            ">Predicted=1684.200, Expected=1721.800\n",
            ">Predicted=1721.800, Expected=1709.900\n",
            ">Predicted=1709.900, Expected=1695.300\n",
            ">Predicted=1695.300, Expected=1704.400\n",
            ">Predicted=1704.400, Expected=1713.900\n",
            ">Predicted=1713.900, Expected=1738.100\n",
            ">Predicted=1738.100, Expected=1753.400\n",
            ">Predicted=1753.400, Expected=1731.800\n",
            ">Predicted=1731.800, Expected=1744.200\n",
            ">Predicted=1744.200, Expected=1750.600\n",
            ">Predicted=1750.600, Expected=1720.500\n",
            ">Predicted=1720.500, Expected=1734.600\n",
            ">Predicted=1734.600, Expected=1704.800\n",
            ">Predicted=1704.800, Expected=1710.300\n",
            ">Predicted=1710.300, Expected=1713.300\n",
            ">Predicted=1713.300, Expected=1736.900\n",
            ">Predicted=1736.900, Expected=1737.800\n",
            ">Predicted=1737.800, Expected=1725.200\n",
            ">Predicted=1725.200, Expected=1697.800\n",
            ">Predicted=1697.800, Expected=1718.900\n",
            ">Predicted=1718.900, Expected=1676.200\n",
            ">Predicted=1676.200, Expected=1698.300\n",
            ">Predicted=1698.300, Expected=1714.700\n",
            ">Predicted=1714.700, Expected=1713.300\n",
            ">Predicted=1713.300, Expected=1732.000\n",
            ">Predicted=1732.000, Expected=1729.300\n",
            ">Predicted=1729.300, Expected=1720.300\n",
            ">Predicted=1720.300, Expected=1729.600\n",
            ">Predicted=1729.600, Expected=1729.200\n",
            ">Predicted=1729.200, Expected=1724.800\n",
            ">Predicted=1724.800, Expected=1745.900\n",
            ">Predicted=1745.900, Expected=1756.700\n",
            ">Predicted=1756.700, Expected=1772.100\n",
            ">Predicted=1772.100, Expected=1765.800\n",
            ">Predicted=1765.800, Expected=1762.100\n",
            ">Predicted=1762.100, Expected=1772.500\n",
            ">Predicted=1772.500, Expected=1774.800\n",
            ">Predicted=1774.800, Expected=1793.000\n",
            ">Predicted=1793.000, Expected=1773.200\n",
            ">Predicted=1773.200, Expected=1784.000\n",
            ">Predicted=1784.000, Expected=1788.500\n",
            ">Predicted=1788.500, Expected=1804.200\n",
            ">Predicted=1804.200, Expected=1815.500\n",
            ">Predicted=1815.500, Expected=1799.200\n",
            ">Predicted=1799.200, Expected=1798.200\n",
            ">Predicted=1798.200, Expected=1811.000\n",
            ">Predicted=1811.000, Expected=1810.600\n",
            ">Predicted=1810.600, Expected=1811.400\n",
            ">Predicted=1811.400, Expected=1798.700\n",
            ">Predicted=1798.700, Expected=1808.300\n",
            ">Predicted=1808.300, Expected=1815.900\n",
            ">Predicted=1815.900, Expected=1842.400\n",
            ">Predicted=1842.400, Expected=1864.100\n",
            ">Predicted=1864.100, Expected=1889.100\n",
            ">Predicted=1889.100, Expected=1897.300\n",
            ">Predicted=1897.300, Expected=1931.000\n",
            ">Predicted=1931.000, Expected=1944.700\n",
            ">Predicted=1944.700, Expected=1953.500\n",
            ">Predicted=1953.500, Expected=1942.300\n",
            ">Predicted=1942.300, Expected=1962.800\n",
            ">Predicted=1962.800, Expected=1966.000\n",
            ">Predicted=1966.000, Expected=2001.200\n",
            ">Predicted=2001.200, Expected=2031.100\n",
            ">Predicted=2031.100, Expected=2051.500\n",
            ">Predicted=2051.500, Expected=2010.100\n",
            ">Predicted=2010.100, Expected=2024.400\n",
            ">Predicted=2024.400, Expected=1932.600\n",
            ">Predicted=1932.600, Expected=1934.900\n",
            ">Predicted=1934.900, Expected=1956.700\n",
            ">Predicted=1956.700, Expected=1937.000\n",
            ">Predicted=1937.000, Expected=1985.000\n",
            ">Predicted=1985.000, Expected=1999.400\n",
            ">Predicted=1999.400, Expected=1958.700\n",
            ">Predicted=1958.700, Expected=1933.800\n",
            ">Predicted=1933.800, Expected=1934.600\n",
            ">Predicted=1934.600, Expected=1927.700\n",
            ">Predicted=1927.700, Expected=1911.800\n",
            ">Predicted=1911.800, Expected=1940.700\n",
            ">Predicted=1940.700, Expected=1921.600\n",
            ">Predicted=1921.600, Expected=1964.600\n",
            ">Predicted=1964.600, Expected=1967.600\n",
            ">Predicted=1967.600, Expected=1968.200\n",
            ">Predicted=1968.200, Expected=1934.400\n",
            ">Predicted=1934.400, Expected=1927.600\n",
            ">Predicted=1927.600, Expected=1923.900\n",
            ">Predicted=1923.900, Expected=1933.000\n",
            ">Predicted=1933.000, Expected=1944.700\n",
            ">Predicted=1944.700, Expected=1954.200\n",
            ">Predicted=1954.200, Expected=1937.800\n",
            ">Predicted=1937.800, Expected=1953.100\n",
            ">Predicted=1953.100, Expected=1956.300\n",
            ">Predicted=1956.300, Expected=1960.200\n",
            ">Predicted=1960.200, Expected=1940.000\n",
            ">Predicted=1940.000, Expected=1952.100\n",
            ">Predicted=1952.100, Expected=1901.200\n",
            ">Predicted=1901.200, Expected=1898.600\n",
            ">Predicted=1898.600, Expected=1859.900\n",
            ">Predicted=1859.900, Expected=1868.300\n",
            ">Predicted=1868.300, Expected=1857.700\n",
            ">Predicted=1857.700, Expected=1872.800\n",
            ">Predicted=1872.800, Expected=1894.300\n",
            ">Predicted=1894.300, Expected=1887.500\n",
            ">Predicted=1887.500, Expected=1908.400\n",
            ">Predicted=1908.400, Expected=1900.200\n",
            ">Predicted=1900.200, Expected=1912.500\n",
            ">Predicted=1912.500, Expected=1901.100\n",
            ">Predicted=1901.100, Expected=1883.600\n",
            ">Predicted=1883.600, Expected=1888.600\n",
            ">Predicted=1888.600, Expected=1919.500\n",
            ">Predicted=1919.500, Expected=1922.500\n",
            ">Predicted=1922.500, Expected=1888.500\n",
            ">Predicted=1888.500, Expected=1901.300\n",
            ">Predicted=1901.300, Expected=1903.200\n",
            ">Predicted=1903.200, Expected=1900.800\n",
            ">Predicted=1900.800, Expected=1906.400\n",
            ">Predicted=1906.400, Expected=1910.400\n",
            ">Predicted=1910.400, Expected=1924.600\n",
            ">Predicted=1924.600, Expected=1901.100\n",
            ">Predicted=1901.100, Expected=1902.000\n",
            ">Predicted=1902.000, Expected=1902.700\n",
            ">Predicted=1902.700, Expected=1908.800\n",
            ">Predicted=1908.800, Expected=1876.200\n",
            ">Predicted=1876.200, Expected=1865.600\n",
            ">Predicted=1865.600, Expected=1877.400\n",
            ">Predicted=1877.400, Expected=1890.400\n",
            ">Predicted=1890.400, Expected=1908.500\n",
            ">Predicted=1908.500, Expected=1894.600\n",
            ">Predicted=1894.600, Expected=1945.300\n",
            ">Predicted=1945.300, Expected=1950.300\n",
            ">Predicted=1950.300, Expected=1853.200\n",
            ">Predicted=1853.200, Expected=1875.400\n",
            ">Predicted=1875.400, Expected=1860.700\n",
            ">Predicted=1860.700, Expected=1872.600\n",
            ">Predicted=1872.600, Expected=1885.700\n",
            ">Predicted=1885.700, Expected=1887.300\n",
            ">Predicted=1887.300, Expected=1884.500\n",
            ">Predicted=1884.500, Expected=1873.500\n",
            ">Predicted=1873.500, Expected=1861.100\n",
            ">Predicted=1861.100, Expected=1872.600\n",
            ">Predicted=1872.600, Expected=1837.800\n",
            ">Predicted=1837.800, Expected=1804.800\n",
            ">Predicted=1804.800, Expected=1805.700\n",
            ">Predicted=1805.700, Expected=1781.900\n",
            ">Predicted=1781.900, Expected=1775.700\n",
            ">Predicted=1775.700, Expected=1814.100\n",
            ">Predicted=1814.100, Expected=1825.700\n",
            ">Predicted=1825.700, Expected=1836.800\n",
            ">Predicted=1836.800, Expected=1835.900\n",
            ">Predicted=1835.900, Expected=1861.800\n",
            ">Predicted=1861.800, Expected=1870.800\n",
            ">Predicted=1870.800, Expected=1834.600\n",
            ">Predicted=1834.600, Expected=1833.600\n",
            ">Predicted=1833.600, Expected=1839.800\n",
            ">Predicted=1839.800, Expected=1828.700\n",
            ">Predicted=1828.700, Expected=1852.300\n",
            ">Predicted=1852.300, Expected=1856.100\n",
            ">Predicted=1856.100, Expected=1887.200\n",
            ">Predicted=1887.200, Expected=1885.700\n",
            ">Predicted=1885.700, Expected=1879.200\n",
            ">Predicted=1879.200, Expected=1866.600\n",
            ">Predicted=1866.600, Expected=1874.700\n",
            ">Predicted=1874.700, Expected=1879.900\n",
            ">Predicted=1879.900, Expected=1877.200\n",
            ">Predicted=1877.200, Expected=1879.700\n",
            ">Predicted=1879.700, Expected=1891.000\n",
            ">Predicted=1891.000, Expected=1893.100\n",
            ">Predicted=1893.100, Expected=1944.700\n",
            ">Predicted=1944.700, Expected=1952.700\n",
            ">Predicted=1952.700, Expected=1906.900\n",
            ">Predicted=1906.900, Expected=1912.300\n",
            ">Predicted=1912.300, Expected=1834.100\n",
            ">Predicted=1834.100, Expected=1849.600\n",
            ">Predicted=1849.600, Expected=1842.900\n",
            ">Predicted=1842.900, Expected=1853.600\n",
            ">Predicted=1853.600, Expected=1850.300\n",
            ">Predicted=1850.300, Expected=1829.300\n",
            ">Predicted=1829.300, Expected=1839.500\n",
            ">Predicted=1839.500, Expected=1865.900\n",
            ">Predicted=1865.900, Expected=1865.300\n",
            ">Predicted=1865.300, Expected=1855.700\n",
            ">Predicted=1855.700, Expected=1854.900\n",
            ">Predicted=1854.900, Expected=1850.700\n",
            ">Predicted=1850.700, Expected=1844.900\n",
            ">Predicted=1844.900, Expected=1837.900\n",
            ">Predicted=1837.900, Expected=1847.300\n",
            ">Predicted=1847.300, Expected=1860.800\n",
            ">Predicted=1860.800, Expected=1830.500\n",
            ">Predicted=1830.500, Expected=1832.200\n",
            ">Predicted=1832.200, Expected=1788.900\n",
            ">Predicted=1788.900, Expected=1810.900\n",
            ">Predicted=1810.900, Expected=1831.900\n",
            ">Predicted=1831.900, Expected=1835.300\n",
            ">Predicted=1835.300, Expected=1840.600\n",
            ">Predicted=1840.600, Expected=1824.900\n",
            ">Predicted=1824.900, Expected=1821.600\n",
            ">Predicted=1821.600, Expected=1797.200\n",
            ">Predicted=1797.200, Expected=1771.100\n",
            ">Predicted=1771.100, Expected=1773.400\n",
            ">Predicted=1773.400, Expected=1775.800\n",
            ">Predicted=1775.800, Expected=1806.700\n",
            ">Predicted=1806.700, Expected=1804.400\n",
            ">Predicted=1804.400, Expected=1796.400\n",
            ">Predicted=1796.400, Expected=1774.400\n",
            ">Predicted=1774.400, Expected=1728.100\n",
            ">Predicted=1728.100, Expected=1722.500\n",
            ">Predicted=1722.500, Expected=1733.100\n",
            ">Predicted=1733.100, Expected=1715.300\n",
            ">Predicted=1715.300, Expected=1700.200\n",
            ">Predicted=1700.200, Expected=1698.000\n",
            ">Predicted=1698.000, Expected=1677.700\n",
            ">Predicted=1677.700, Expected=1716.600\n",
            ">Predicted=1716.600, Expected=1721.500\n",
            ">Predicted=1721.500, Expected=1722.300\n",
            ">Predicted=1722.300, Expected=1719.500\n",
            ">Predicted=1719.500, Expected=1728.900\n",
            "RMSE: 22.054\n"
          ]
        }
      ]
    },
    {
      "cell_type": "markdown",
      "source": [
        "### **ARIMA Hyperparameters**"
      ],
      "metadata": {
        "id": "Swc54bwspZE6"
      }
    },
    {
      "cell_type": "code",
      "source": [
        "# grid search ARIMA parameters for a time series\n",
        "\n",
        "import warnings\n",
        "from pandas import read_csv\n",
        "from statsmodels.tsa.arima_model import ARIMA\n",
        "from sklearn.metrics import mean_squared_error\n",
        "from math import sqrt\n",
        "\n",
        "\n",
        "# evaluate an ARIMA model for a given order (p,d,q) and return RMSE\n",
        "def evaluate_arima_model(X, arima_order):\n",
        "# prepare training dataset\n",
        "    X = X.astype('float32')\n",
        "    train_size = int(len(X) * 0.70)\n",
        "    train, test = X[0:train_size], X[train_size:]\n",
        "    history = [x for x in train]\n",
        "# make predictions\n",
        "    predictions = list()\n",
        "    for t in range(len(test)):\n",
        "        model = ARIMA(history, order=arima_order)\n",
        "# model_fit = model.fit(disp=0)\n",
        "        model_fit = model.fit(disp=0)\n",
        "        yhat = model_fit.forecast()[0]\n",
        "        predictions.append(yhat)\n",
        "        history.append(test[t])\n",
        "# calculate out of sample error\n",
        "    rmse = sqrt(mean_squared_error(test, predictions))\n",
        "    return rmse"
      ],
      "metadata": {
        "id": "dgNmC1ozmVsc"
      },
      "execution_count": 28,
      "outputs": []
    },
    {
      "cell_type": "markdown",
      "source": [
        "### **Grid search for p,d,q values**"
      ],
      "metadata": {
        "id": "Y7I-F-DQpN5U"
      }
    },
    {
      "cell_type": "code",
      "source": [
        "# evaluate combinations of p, d and q values for an ARIMA model\n",
        "def evaluate_models(dataset, p_values, d_values, q_values):\n",
        "    dataset = dataset.astype('float32')\n",
        "    best_score, best_cfg = float('inf'), None\n",
        "    for p in p_values:\n",
        "        for d in d_values:\n",
        "            for q in q_values:\n",
        "                order = (p,d,q)\n",
        "                try:\n",
        "                    rmse = evaluate_arima_model(train, order)\n",
        "                    if rmse < best_score:\n",
        "                        best_score, best_cfg = rmse, order\n",
        "                    print('ARIMA%s RMSE=%.3f' % (order,rmse))\n",
        "                except:\n",
        "                    continue\n",
        "    print('Best ARIMA%s RMSE=%.3f' % (best_cfg, best_score))"
      ],
      "metadata": {
        "id": "1kTFGriJmVvL"
      },
      "execution_count": 29,
      "outputs": []
    },
    {
      "cell_type": "code",
      "source": [
        "# load dataset\n",
        "train = read_csv('dataset.csv', header=None, index_col=0, parse_dates=True, squeeze=True)\n",
        "# evaluate parameters\n",
        "p_values = range(0, 3)\n",
        "d_values = range(0, 3)\n",
        "q_values = range(0, 3)\n",
        "warnings.filterwarnings(\"ignore\")\n",
        "evaluate_models(train.values, p_values, d_values, q_values)"
      ],
      "metadata": {
        "colab": {
          "base_uri": "https://localhost:8080/"
        },
        "id": "sb06aog9mVxw",
        "outputId": "7d88c040-af38-420e-cb62-54ad57c2f346"
      },
      "execution_count": 30,
      "outputs": [
        {
          "output_type": "stream",
          "name": "stdout",
          "text": [
            "ARIMA(0, 0, 0) RMSE=404.494\n",
            "ARIMA(0, 0, 1) RMSE=213.119\n",
            "ARIMA(0, 1, 0) RMSE=22.066\n",
            "ARIMA(0, 1, 1) RMSE=22.116\n",
            "ARIMA(0, 1, 2) RMSE=22.158\n",
            "ARIMA(0, 2, 0) RMSE=32.654\n",
            "ARIMA(0, 2, 1) RMSE=22.137\n",
            "ARIMA(1, 0, 0) RMSE=22.096\n",
            "ARIMA(1, 1, 0) RMSE=22.118\n",
            "ARIMA(1, 2, 0) RMSE=26.915\n",
            "ARIMA(1, 2, 1) RMSE=22.187\n",
            "ARIMA(1, 2, 2) RMSE=22.233\n",
            "ARIMA(2, 0, 0) RMSE=22.762\n",
            "ARIMA(2, 1, 0) RMSE=22.151\n",
            "ARIMA(2, 1, 1) RMSE=22.136\n",
            "ARIMA(2, 2, 0) RMSE=25.821\n",
            "Best ARIMA(0, 1, 0) RMSE=22.066\n"
          ]
        }
      ]
    },
    {
      "cell_type": "markdown",
      "source": [
        "### **Build Model based on the optimized values**"
      ],
      "metadata": {
        "id": "oA4CaeO0sd2d"
      }
    },
    {
      "cell_type": "code",
      "source": [
        "# save finalized model to file\n",
        "from pandas import read_csv\n",
        "from statsmodels.tsa.arima_model import ARIMA\n",
        "import numpy"
      ],
      "metadata": {
        "id": "7XIT8u1dmV0O"
      },
      "execution_count": 31,
      "outputs": []
    },
    {
      "cell_type": "code",
      "source": [
        "# load data\n",
        "train = read_csv('dataset.csv', header=0, index_col=0, parse_dates=True)\n",
        "# prepare data\n",
        "X = train.values\n",
        "X = X.astype('float32')"
      ],
      "metadata": {
        "id": "8M5RqtGTmV3B"
      },
      "execution_count": 32,
      "outputs": []
    },
    {
      "cell_type": "code",
      "source": [
        "# fit model\n",
        "model = ARIMA(X, order=(0,1,0))\n",
        "model_fit = model.fit()\n",
        "forecast=model_fit.forecast(steps=200)[0]\n",
        "model_fit.plot_predict(1, 1004)\n",
        "plt.show()"
      ],
      "metadata": {
        "colab": {
          "base_uri": "https://localhost:8080/",
          "height": 377
        },
        "id": "ifFimA2qsuDr",
        "outputId": "e7feebcd-ea71-4b16-93f8-cbc82b5d4163"
      },
      "execution_count": 33,
      "outputs": [
        {
          "output_type": "display_data",
          "data": {
            "image/png": "[encoded data removed]",
            "text/plain": [
              "<Figure size 720x432 with 1 Axes>"
            ]
          },
          "metadata": {}
        }
      ]
    },
    {
      "cell_type": "code",
      "source": [
        "#Error on the test data\n",
        "val=pd.read_csv('validation.csv',header=None)\n",
        "rmse = sqrt(mean_squared_error(val[1], forecast))\n",
        "rmse"
      ],
      "metadata": {
        "colab": {
          "base_uri": "https://localhost:8080/"
        },
        "id": "RtrhVr-ssuAD",
        "outputId": "648aa55e-b0c9-4705-9d02-3d5f3228b6e2"
      },
      "execution_count": 34,
      "outputs": [
        {
          "output_type": "execute_result",
          "data": {
            "text/plain": [
              "55.26872791354572"
            ]
          },
          "metadata": {},
          "execution_count": 34
        }
      ]
    },
    {
      "cell_type": "code",
      "source": [
        "val[1]"
      ],
      "metadata": {
        "colab": {
          "base_uri": "https://localhost:8080/"
        },
        "id": "lrD6IT3KC8cE",
        "outputId": "cdb617c7-45b0-428d-bd39-154481325165"
      },
      "execution_count": 35,
      "outputs": [
        {
          "output_type": "execute_result",
          "data": {
            "text/plain": [
              "0      1724.900024\n",
              "1      1732.199951\n",
              "2      1712.099976\n",
              "3      1683.900024\n",
              "4      1713.800049\n",
              "          ...     \n",
              "195    1812.699951\n",
              "196    1827.500000\n",
              "197    1799.400024\n",
              "198    1814.000000\n",
              "199    1824.599976\n",
              "Name: 1, Length: 200, dtype: float64"
            ]
          },
          "metadata": {},
          "execution_count": 35
        }
      ]
    },
    {
      "cell_type": "code",
      "source": [
        "forecast"
      ],
      "metadata": {
        "colab": {
          "base_uri": "https://localhost:8080/"
        },
        "id": "gMZQaXVKCl-j",
        "outputId": "5c68f4db-6333-4b6d-9f9a-bbee0d862d27"
      },
      "execution_count": 36,
      "outputs": [
        {
          "output_type": "execute_result",
          "data": {
            "text/plain": [
              "array([1729.41461303, 1729.92920165, 1730.44379027, 1730.95837889,\n",
              "       1731.47296751, 1731.98755613, 1732.50214475, 1733.01673337,\n",
              "       1733.53132199, 1734.04591061, 1734.56049923, 1735.07508785,\n",
              "       1735.58967647, 1736.10426509, 1736.61885371, 1737.13344233,\n",
              "       1737.64803095, 1738.16261957, 1738.67720819, 1739.19179681,\n",
              "       1739.70638543, 1740.22097405, 1740.73556267, 1741.25015129,\n",
              "       1741.76473991, 1742.27932853, 1742.79391715, 1743.30850577,\n",
              "       1743.82309439, 1744.33768301, 1744.85227163, 1745.36686025,\n",
              "       1745.88144887, 1746.39603749, 1746.91062611, 1747.42521473,\n",
              "       1747.93980335, 1748.45439197, 1748.96898059, 1749.48356921,\n",
              "       1749.99815783, 1750.51274645, 1751.02733507, 1751.54192369,\n",
              "       1752.05651231, 1752.57110093, 1753.08568955, 1753.60027817,\n",
              "       1754.11486679, 1754.62945541, 1755.14404403, 1755.65863265,\n",
              "       1756.17322127, 1756.68780989, 1757.20239851, 1757.71698713,\n",
              "       1758.23157575, 1758.74616437, 1759.26075299, 1759.77534161,\n",
              "       1760.28993023, 1760.80451885, 1761.31910747, 1761.83369609,\n",
              "       1762.34828471, 1762.86287333, 1763.37746195, 1763.89205057,\n",
              "       1764.40663919, 1764.92122781, 1765.43581643, 1765.95040505,\n",
              "       1766.46499367, 1766.97958229, 1767.49417091, 1768.00875953,\n",
              "       1768.52334815, 1769.03793677, 1769.55252539, 1770.06711401,\n",
              "       1770.58170263, 1771.09629125, 1771.61087987, 1772.12546849,\n",
              "       1772.64005711, 1773.15464573, 1773.66923435, 1774.18382297,\n",
              "       1774.69841159, 1775.21300021, 1775.72758883, 1776.24217745,\n",
              "       1776.75676607, 1777.27135469, 1777.78594331, 1778.30053193,\n",
              "       1778.81512055, 1779.32970917, 1779.84429779, 1780.35888641,\n",
              "       1780.87347503, 1781.38806365, 1781.90265227, 1782.41724089,\n",
              "       1782.93182951, 1783.44641813, 1783.96100675, 1784.47559537,\n",
              "       1784.99018399, 1785.50477261, 1786.01936123, 1786.53394985,\n",
              "       1787.04853847, 1787.56312709, 1788.07771571, 1788.59230433,\n",
              "       1789.10689295, 1789.62148157, 1790.13607019, 1790.65065881,\n",
              "       1791.16524743, 1791.67983605, 1792.19442467, 1792.70901329,\n",
              "       1793.22360191, 1793.73819053, 1794.25277915, 1794.76736777,\n",
              "       1795.28195639, 1795.79654501, 1796.31113363, 1796.82572225,\n",
              "       1797.34031087, 1797.85489949, 1798.36948811, 1798.88407673,\n",
              "       1799.39866535, 1799.91325397, 1800.42784259, 1800.94243121,\n",
              "       1801.45701983, 1801.97160845, 1802.48619707, 1803.00078569,\n",
              "       1803.51537431, 1804.02996293, 1804.54455155, 1805.05914017,\n",
              "       1805.57372879, 1806.08831741, 1806.60290603, 1807.11749465,\n",
              "       1807.63208327, 1808.14667189, 1808.66126051, 1809.17584913,\n",
              "       1809.69043775, 1810.20502637, 1810.71961499, 1811.23420361,\n",
              "       1811.74879223, 1812.26338085, 1812.77796947, 1813.29255809,\n",
              "       1813.80714671, 1814.32173533, 1814.83632395, 1815.35091257,\n",
              "       1815.86550119, 1816.38008981, 1816.89467843, 1817.40926705,\n",
              "       1817.92385567, 1818.43844429, 1818.95303291, 1819.46762153,\n",
              "       1819.98221015, 1820.49679877, 1821.01138739, 1821.52597601,\n",
              "       1822.04056463, 1822.55515325, 1823.06974187, 1823.58433049,\n",
              "       1824.09891911, 1824.61350773, 1825.12809635, 1825.64268497,\n",
              "       1826.15727359, 1826.67186221, 1827.18645083, 1827.70103945,\n",
              "       1828.21562807, 1828.73021669, 1829.24480531, 1829.75939393,\n",
              "       1830.27398255, 1830.78857117, 1831.30315979, 1831.81774841])"
            ]
          },
          "metadata": {},
          "execution_count": 36
        }
      ]
    },
    {
      "cell_type": "markdown",
      "source": [
        "### **Combine train and test data and build final model**"
      ],
      "metadata": {
        "id": "B8hLYWQRugRq"
      }
    },
    {
      "cell_type": "code",
      "source": [
        "# fit model\n",
        "#data = read_csv('data', header=0, index_col=0, parse_dates=True)\n",
        "# prepare data\n",
        "X = data.values\n",
        "X = X.astype('float32')"
      ],
      "metadata": {
        "id": "1hBb6mnzstpz"
      },
      "execution_count": 37,
      "outputs": []
    },
    {
      "cell_type": "code",
      "source": [
        "model = ARIMA(X, order=(0,1,0))\n",
        "model_fit = model.fit()"
      ],
      "metadata": {
        "id": "jPP31eRtstWG"
      },
      "execution_count": 38,
      "outputs": []
    },
    {
      "cell_type": "code",
      "source": [
        "forecast_final=model_fit.forecast(steps=30)[0]\n",
        "model_fit.plot_predict(1,1034)\n",
        "plt.show()"
      ],
      "metadata": {
        "colab": {
          "base_uri": "https://localhost:8080/",
          "height": 377
        },
        "id": "8t8hwtlXstTp",
        "outputId": "0517f925-e7a8-4b2f-80c7-4871700ac5ad"
      },
      "execution_count": 39,
      "outputs": [
        {
          "output_type": "display_data",
          "data": {
            "image/png": "[encoded data removed]",
            "text/plain": [
              "<Figure size 720x432 with 1 Axes>"
            ]
          },
          "metadata": {}
        }
      ]
    },
    {
      "cell_type": "code",
      "source": [
        "forecast_final"
      ],
      "metadata": {
        "colab": {
          "base_uri": "https://localhost:8080/"
        },
        "id": "Gp-HgTYgstRO",
        "outputId": "ad880f5d-a7b3-49fc-d4f9-95c0bb458c85"
      },
      "execution_count": 40,
      "outputs": [
        {
          "output_type": "execute_result",
          "data": {
            "text/plain": [
              "array([1825.10581741, 1825.61165924, 1826.11750106, 1826.62334289,\n",
              "       1827.12918471, 1827.63502653, 1828.14086836, 1828.64671018,\n",
              "       1829.15255201, 1829.65839383, 1830.16423566, 1830.67007748,\n",
              "       1831.17591931, 1831.68176113, 1832.18760296, 1832.69344478,\n",
              "       1833.19928661, 1833.70512843, 1834.21097026, 1834.71681208,\n",
              "       1835.22265391, 1835.72849573, 1836.23433756, 1836.74017938,\n",
              "       1837.24602121, 1837.75186303, 1838.25770486, 1838.76354668,\n",
              "       1839.2693885 , 1839.77523033])"
            ]
          },
          "metadata": {},
          "execution_count": 40
        }
      ]
    },
    {
      "cell_type": "code",
      "source": [
        ""
      ],
      "metadata": {
        "id": "amDmJ02HudFq"
      },
      "execution_count": null,
      "outputs": []
    }
  ]
}