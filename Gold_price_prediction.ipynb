{
  "nbformat": 4,
  "nbformat_minor": 0,
  "metadata": {
    "colab": {
      "name": "Gold_price_prediction.ipynb",
      "provenance": [],
      "collapsed_sections": [],
      "include_colab_link": true
    },
    "kernelspec": {
      "name": "python3",
      "display_name": "Python 3"
    },
    "language_info": {
      "name": "python"
    }
  },
  "cells": [
    {
      "cell_type": "markdown",
      "metadata": {
        "id": "view-in-github",
        "colab_type": "text"
      },
      "source": [
        "<a href=\"https://colab.research.google.com/github/RiteshopShrivastava/Gold-Price-forecasting/blob/main/Gold_price_prediction.ipynb\" target=\"_parent\"><img src=\"https://colab.research.google.com/assets/colab-badge.svg\" alt=\"Open In Colab\"/></a>"
      ]
    },
    {
      "cell_type": "markdown",
      "source": [
        "## **Gold Price Prediction** \n",
        "**Objective :**- Forecasting gold price for next 30 days based on historical data.\n",
        "(Considering last four years of historical data)"
      ],
      "metadata": {
        "id": "xEF5x6qhDvcY"
      }
    },
    {
      "cell_type": "code",
      "source": [
        "!pip install yfinance"
      ],
      "metadata": {
        "id": "LKSZgKQfVrSY"
      },
      "execution_count": null,
      "outputs": []
    },
    {
      "cell_type": "code",
      "execution_count": null,
      "metadata": {
        "id": "d-5LaPLgWw4z"
      },
      "outputs": [],
      "source": [
        "import numpy as np\n",
        "import pandas as pd\n",
        "import yfinance as yf\n",
        "from datetime import date\n",
        "import matplotlib.pyplot as plt\n",
        "from statsmodels.graphics.tsaplots import plot_acf\n",
        "from statsmodels.graphics.tsaplots import plot_pacf\n",
        "from statsmodels.tsa.stattools import adfuller\n",
        "from statsmodels.tsa.seasonal import seasonal_decompose"
      ]
    },
    {
      "cell_type": "code",
      "source": [
        "start='2018-01-01'\n",
        "end=date.today().strftime('%Y-%m-%d')\n",
        "data=yf.download('GC=F',start=start,end=end)"
      ],
      "metadata": {
        "colab": {
          "base_uri": "https://localhost:8080/"
        },
        "id": "nAz6gG0vZVA7",
        "outputId": "6374f953-6c03-4580-fb7c-ee07d01d3480"
      },
      "execution_count": null,
      "outputs": [
        {
          "output_type": "stream",
          "name": "stdout",
          "text": [
            "\r[*********************100%***********************]  1 of 1 completed\n"
          ]
        }
      ]
    },
    {
      "cell_type": "code",
      "source": [
        "data=yf.download('GC=F',start=start,end=end)[['Adj Close']]\n",
        "data"
      ],
      "metadata": {
        "colab": {
          "base_uri": "https://localhost:8080/",
          "height": 472
        },
        "id": "bV0-8Ys-dRJ6",
        "outputId": "261387c4-3699-45f3-aa59-6123ca7e9790"
      },
      "execution_count": null,
      "outputs": [
        {
          "output_type": "stream",
          "name": "stdout",
          "text": [
            "\r[*********************100%***********************]  1 of 1 completed\n"
          ]
        },
        {
          "output_type": "execute_result",
          "data": {
            "text/html": [
              "\n",
              "  <div id=\"df-17039e8a-948c-4860-bc4c-f0711488fc26\">\n",
              "    <div class=\"colab-df-container\">\n",
              "      <div>\n",
              "<style scoped>\n",
              "    .dataframe tbody tr th:only-of-type {\n",
              "        vertical-align: middle;\n",
              "    }\n",
              "\n",
              "    .dataframe tbody tr th {\n",
              "        vertical-align: top;\n",
              "    }\n",
              "\n",
              "    .dataframe thead th {\n",
              "        text-align: right;\n",
              "    }\n",
              "</style>\n",
              "<table border=\"1\" class=\"dataframe\">\n",
              "  <thead>\n",
              "    <tr style=\"text-align: right;\">\n",
              "      <th></th>\n",
              "      <th>Adj Close</th>\n",
              "    </tr>\n",
              "    <tr>\n",
              "      <th>Date</th>\n",
              "      <th></th>\n",
              "    </tr>\n",
              "  </thead>\n",
              "  <tbody>\n",
              "    <tr>\n",
              "      <th>2018-01-02</th>\n",
              "      <td>1313.699951</td>\n",
              "    </tr>\n",
              "    <tr>\n",
              "      <th>2018-01-03</th>\n",
              "      <td>1316.199951</td>\n",
              "    </tr>\n",
              "    <tr>\n",
              "      <th>2018-01-04</th>\n",
              "      <td>1319.400024</td>\n",
              "    </tr>\n",
              "    <tr>\n",
              "      <th>2018-01-05</th>\n",
              "      <td>1320.300049</td>\n",
              "    </tr>\n",
              "    <tr>\n",
              "      <th>2018-01-08</th>\n",
              "      <td>1318.599976</td>\n",
              "    </tr>\n",
              "    <tr>\n",
              "      <th>...</th>\n",
              "      <td>...</td>\n",
              "    </tr>\n",
              "    <tr>\n",
              "      <th>2021-12-21</th>\n",
              "      <td>1787.900024</td>\n",
              "    </tr>\n",
              "    <tr>\n",
              "      <th>2021-12-22</th>\n",
              "      <td>1801.599976</td>\n",
              "    </tr>\n",
              "    <tr>\n",
              "      <th>2021-12-23</th>\n",
              "      <td>1811.199951</td>\n",
              "    </tr>\n",
              "    <tr>\n",
              "      <th>2021-12-27</th>\n",
              "      <td>1808.099976</td>\n",
              "    </tr>\n",
              "    <tr>\n",
              "      <th>2021-12-28</th>\n",
              "      <td>1810.199951</td>\n",
              "    </tr>\n",
              "  </tbody>\n",
              "</table>\n",
              "<p>1005 rows × 1 columns</p>\n",
              "</div>\n",
              "      <button class=\"colab-df-convert\" onclick=\"convertToInteractive('df-17039e8a-948c-4860-bc4c-f0711488fc26')\"\n",
              "              title=\"Convert this dataframe to an interactive table.\"\n",
              "              style=\"display:none;\">\n",
              "        \n",
              "  <svg xmlns=\"http://www.w3.org/2000/svg\" height=\"24px\"viewBox=\"0 0 24 24\"\n",
              "       width=\"24px\">\n",
              "    <path d=\"M0 0h24v24H0V0z\" fill=\"none\"/>\n",
              "    <path d=\"M18.56 5.44l.94 2.06.94-2.06 2.06-.94-2.06-.94-.94-2.06-.94 2.06-2.06.94zm-11 1L8.5 8.5l.94-2.06 2.06-.94-2.06-.94L8.5 2.5l-.94 2.06-2.06.94zm10 10l.94 2.06.94-2.06 2.06-.94-2.06-.94-.94-2.06-.94 2.06-2.06.94z\"/><path d=\"M17.41 7.96l-1.37-1.37c-.4-.4-.92-.59-1.43-.59-.52 0-1.04.2-1.43.59L10.3 9.45l-7.72 7.72c-.78.78-.78 2.05 0 2.83L4 21.41c.39.39.9.59 1.41.59.51 0 1.02-.2 1.41-.59l7.78-7.78 2.81-2.81c.8-.78.8-2.07 0-2.86zM5.41 20L4 18.59l7.72-7.72 1.47 1.35L5.41 20z\"/>\n",
              "  </svg>\n",
              "      </button>\n",
              "      \n",
              "  <style>\n",
              "    .colab-df-container {\n",
              "      display:flex;\n",
              "      flex-wrap:wrap;\n",
              "      gap: 12px;\n",
              "    }\n",
              "\n",
              "    .colab-df-convert {\n",
              "      background-color: #E8F0FE;\n",
              "      border: none;\n",
              "      border-radius: 50%;\n",
              "      cursor: pointer;\n",
              "      display: none;\n",
              "      fill: #1967D2;\n",
              "      height: 32px;\n",
              "      padding: 0 0 0 0;\n",
              "      width: 32px;\n",
              "    }\n",
              "\n",
              "    .colab-df-convert:hover {\n",
              "      background-color: #E2EBFA;\n",
              "      box-shadow: 0px 1px 2px rgba(60, 64, 67, 0.3), 0px 1px 3px 1px rgba(60, 64, 67, 0.15);\n",
              "      fill: #174EA6;\n",
              "    }\n",
              "\n",
              "    [theme=dark] .colab-df-convert {\n",
              "      background-color: #3B4455;\n",
              "      fill: #D2E3FC;\n",
              "    }\n",
              "\n",
              "    [theme=dark] .colab-df-convert:hover {\n",
              "      background-color: #434B5C;\n",
              "      box-shadow: 0px 1px 3px 1px rgba(0, 0, 0, 0.15);\n",
              "      filter: drop-shadow(0px 1px 2px rgba(0, 0, 0, 0.3));\n",
              "      fill: #FFFFFF;\n",
              "    }\n",
              "  </style>\n",
              "\n",
              "      <script>\n",
              "        const buttonEl =\n",
              "          document.querySelector('#df-17039e8a-948c-4860-bc4c-f0711488fc26 button.colab-df-convert');\n",
              "        buttonEl.style.display =\n",
              "          google.colab.kernel.accessAllowed ? 'block' : 'none';\n",
              "\n",
              "        async function convertToInteractive(key) {\n",
              "          const element = document.querySelector('#df-17039e8a-948c-4860-bc4c-f0711488fc26');\n",
              "          const dataTable =\n",
              "            await google.colab.kernel.invokeFunction('convertToInteractive',\n",
              "                                                     [key], {});\n",
              "          if (!dataTable) return;\n",
              "\n",
              "          const docLinkHtml = 'Like what you see? Visit the ' +\n",
              "            '<a target=\"_blank\" href=https://colab.research.google.com/notebooks/data_table.ipynb>data table notebook</a>'\n",
              "            + ' to learn more about interactive tables.';\n",
              "          element.innerHTML = '';\n",
              "          dataTable['output_type'] = 'display_data';\n",
              "          await google.colab.output.renderOutput(dataTable, element);\n",
              "          const docLink = document.createElement('div');\n",
              "          docLink.innerHTML = docLinkHtml;\n",
              "          element.appendChild(docLink);\n",
              "        }\n",
              "      </script>\n",
              "    </div>\n",
              "  </div>\n",
              "  "
            ],
            "text/plain": [
              "              Adj Close\n",
              "Date                   \n",
              "2018-01-02  1313.699951\n",
              "2018-01-03  1316.199951\n",
              "2018-01-04  1319.400024\n",
              "2018-01-05  1320.300049\n",
              "2018-01-08  1318.599976\n",
              "...                 ...\n",
              "2021-12-21  1787.900024\n",
              "2021-12-22  1801.599976\n",
              "2021-12-23  1811.199951\n",
              "2021-12-27  1808.099976\n",
              "2021-12-28  1810.199951\n",
              "\n",
              "[1005 rows x 1 columns]"
            ]
          },
          "metadata": {},
          "execution_count": 104
        }
      ]
    },
    {
      "cell_type": "code",
      "source": [
        "data.rename(columns={\"Adj Close\": 'Price'},inplace=True)"
      ],
      "metadata": {
        "id": "37PRnVZoJ-O0"
      },
      "execution_count": null,
      "outputs": []
    },
    {
      "cell_type": "code",
      "source": [
        "data.head()"
      ],
      "metadata": {
        "colab": {
          "base_uri": "https://localhost:8080/",
          "height": 238
        },
        "id": "RQiWI53aZ-aA",
        "outputId": "84fda37d-9285-4423-e614-d13729f6a430"
      },
      "execution_count": null,
      "outputs": [
        {
          "output_type": "execute_result",
          "data": {
            "text/html": [
              "\n",
              "  <div id=\"df-c3d93918-5cfc-4fc7-a17e-7aefbf41a043\">\n",
              "    <div class=\"colab-df-container\">\n",
              "      <div>\n",
              "<style scoped>\n",
              "    .dataframe tbody tr th:only-of-type {\n",
              "        vertical-align: middle;\n",
              "    }\n",
              "\n",
              "    .dataframe tbody tr th {\n",
              "        vertical-align: top;\n",
              "    }\n",
              "\n",
              "    .dataframe thead th {\n",
              "        text-align: right;\n",
              "    }\n",
              "</style>\n",
              "<table border=\"1\" class=\"dataframe\">\n",
              "  <thead>\n",
              "    <tr style=\"text-align: right;\">\n",
              "      <th></th>\n",
              "      <th>Price</th>\n",
              "    </tr>\n",
              "    <tr>\n",
              "      <th>Date</th>\n",
              "      <th></th>\n",
              "    </tr>\n",
              "  </thead>\n",
              "  <tbody>\n",
              "    <tr>\n",
              "      <th>2018-01-02</th>\n",
              "      <td>1313.699951</td>\n",
              "    </tr>\n",
              "    <tr>\n",
              "      <th>2018-01-03</th>\n",
              "      <td>1316.199951</td>\n",
              "    </tr>\n",
              "    <tr>\n",
              "      <th>2018-01-04</th>\n",
              "      <td>1319.400024</td>\n",
              "    </tr>\n",
              "    <tr>\n",
              "      <th>2018-01-05</th>\n",
              "      <td>1320.300049</td>\n",
              "    </tr>\n",
              "    <tr>\n",
              "      <th>2018-01-08</th>\n",
              "      <td>1318.599976</td>\n",
              "    </tr>\n",
              "  </tbody>\n",
              "</table>\n",
              "</div>\n",
              "      <button class=\"colab-df-convert\" onclick=\"convertToInteractive('df-c3d93918-5cfc-4fc7-a17e-7aefbf41a043')\"\n",
              "              title=\"Convert this dataframe to an interactive table.\"\n",
              "              style=\"display:none;\">\n",
              "        \n",
              "  <svg xmlns=\"http://www.w3.org/2000/svg\" height=\"24px\"viewBox=\"0 0 24 24\"\n",
              "       width=\"24px\">\n",
              "    <path d=\"M0 0h24v24H0V0z\" fill=\"none\"/>\n",
              "    <path d=\"M18.56 5.44l.94 2.06.94-2.06 2.06-.94-2.06-.94-.94-2.06-.94 2.06-2.06.94zm-11 1L8.5 8.5l.94-2.06 2.06-.94-2.06-.94L8.5 2.5l-.94 2.06-2.06.94zm10 10l.94 2.06.94-2.06 2.06-.94-2.06-.94-.94-2.06-.94 2.06-2.06.94z\"/><path d=\"M17.41 7.96l-1.37-1.37c-.4-.4-.92-.59-1.43-.59-.52 0-1.04.2-1.43.59L10.3 9.45l-7.72 7.72c-.78.78-.78 2.05 0 2.83L4 21.41c.39.39.9.59 1.41.59.51 0 1.02-.2 1.41-.59l7.78-7.78 2.81-2.81c.8-.78.8-2.07 0-2.86zM5.41 20L4 18.59l7.72-7.72 1.47 1.35L5.41 20z\"/>\n",
              "  </svg>\n",
              "      </button>\n",
              "      \n",
              "  <style>\n",
              "    .colab-df-container {\n",
              "      display:flex;\n",
              "      flex-wrap:wrap;\n",
              "      gap: 12px;\n",
              "    }\n",
              "\n",
              "    .colab-df-convert {\n",
              "      background-color: #E8F0FE;\n",
              "      border: none;\n",
              "      border-radius: 50%;\n",
              "      cursor: pointer;\n",
              "      display: none;\n",
              "      fill: #1967D2;\n",
              "      height: 32px;\n",
              "      padding: 0 0 0 0;\n",
              "      width: 32px;\n",
              "    }\n",
              "\n",
              "    .colab-df-convert:hover {\n",
              "      background-color: #E2EBFA;\n",
              "      box-shadow: 0px 1px 2px rgba(60, 64, 67, 0.3), 0px 1px 3px 1px rgba(60, 64, 67, 0.15);\n",
              "      fill: #174EA6;\n",
              "    }\n",
              "\n",
              "    [theme=dark] .colab-df-convert {\n",
              "      background-color: #3B4455;\n",
              "      fill: #D2E3FC;\n",
              "    }\n",
              "\n",
              "    [theme=dark] .colab-df-convert:hover {\n",
              "      background-color: #434B5C;\n",
              "      box-shadow: 0px 1px 3px 1px rgba(0, 0, 0, 0.15);\n",
              "      filter: drop-shadow(0px 1px 2px rgba(0, 0, 0, 0.3));\n",
              "      fill: #FFFFFF;\n",
              "    }\n",
              "  </style>\n",
              "\n",
              "      <script>\n",
              "        const buttonEl =\n",
              "          document.querySelector('#df-c3d93918-5cfc-4fc7-a17e-7aefbf41a043 button.colab-df-convert');\n",
              "        buttonEl.style.display =\n",
              "          google.colab.kernel.accessAllowed ? 'block' : 'none';\n",
              "\n",
              "        async function convertToInteractive(key) {\n",
              "          const element = document.querySelector('#df-c3d93918-5cfc-4fc7-a17e-7aefbf41a043');\n",
              "          const dataTable =\n",
              "            await google.colab.kernel.invokeFunction('convertToInteractive',\n",
              "                                                     [key], {});\n",
              "          if (!dataTable) return;\n",
              "\n",
              "          const docLinkHtml = 'Like what you see? Visit the ' +\n",
              "            '<a target=\"_blank\" href=https://colab.research.google.com/notebooks/data_table.ipynb>data table notebook</a>'\n",
              "            + ' to learn more about interactive tables.';\n",
              "          element.innerHTML = '';\n",
              "          dataTable['output_type'] = 'display_data';\n",
              "          await google.colab.output.renderOutput(dataTable, element);\n",
              "          const docLink = document.createElement('div');\n",
              "          docLink.innerHTML = docLinkHtml;\n",
              "          element.appendChild(docLink);\n",
              "        }\n",
              "      </script>\n",
              "    </div>\n",
              "  </div>\n",
              "  "
            ],
            "text/plain": [
              "                  Price\n",
              "Date                   \n",
              "2018-01-02  1313.699951\n",
              "2018-01-03  1316.199951\n",
              "2018-01-04  1319.400024\n",
              "2018-01-05  1320.300049\n",
              "2018-01-08  1318.599976"
            ]
          },
          "metadata": {},
          "execution_count": 106
        }
      ]
    },
    {
      "cell_type": "code",
      "source": [
        "data.tail()"
      ],
      "metadata": {
        "colab": {
          "base_uri": "https://localhost:8080/",
          "height": 238
        },
        "id": "R14sbyh3aA-P",
        "outputId": "0c69d473-1494-4ad2-e74c-653005614b4a"
      },
      "execution_count": null,
      "outputs": [
        {
          "output_type": "execute_result",
          "data": {
            "text/html": [
              "\n",
              "  <div id=\"df-2eb6a6d4-e603-4eda-b758-9a6102fe2aa1\">\n",
              "    <div class=\"colab-df-container\">\n",
              "      <div>\n",
              "<style scoped>\n",
              "    .dataframe tbody tr th:only-of-type {\n",
              "        vertical-align: middle;\n",
              "    }\n",
              "\n",
              "    .dataframe tbody tr th {\n",
              "        vertical-align: top;\n",
              "    }\n",
              "\n",
              "    .dataframe thead th {\n",
              "        text-align: right;\n",
              "    }\n",
              "</style>\n",
              "<table border=\"1\" class=\"dataframe\">\n",
              "  <thead>\n",
              "    <tr style=\"text-align: right;\">\n",
              "      <th></th>\n",
              "      <th>Price</th>\n",
              "    </tr>\n",
              "    <tr>\n",
              "      <th>Date</th>\n",
              "      <th></th>\n",
              "    </tr>\n",
              "  </thead>\n",
              "  <tbody>\n",
              "    <tr>\n",
              "      <th>2021-12-21</th>\n",
              "      <td>1787.900024</td>\n",
              "    </tr>\n",
              "    <tr>\n",
              "      <th>2021-12-22</th>\n",
              "      <td>1801.599976</td>\n",
              "    </tr>\n",
              "    <tr>\n",
              "      <th>2021-12-23</th>\n",
              "      <td>1811.199951</td>\n",
              "    </tr>\n",
              "    <tr>\n",
              "      <th>2021-12-27</th>\n",
              "      <td>1808.099976</td>\n",
              "    </tr>\n",
              "    <tr>\n",
              "      <th>2021-12-28</th>\n",
              "      <td>1810.199951</td>\n",
              "    </tr>\n",
              "  </tbody>\n",
              "</table>\n",
              "</div>\n",
              "      <button class=\"colab-df-convert\" onclick=\"convertToInteractive('df-2eb6a6d4-e603-4eda-b758-9a6102fe2aa1')\"\n",
              "              title=\"Convert this dataframe to an interactive table.\"\n",
              "              style=\"display:none;\">\n",
              "        \n",
              "  <svg xmlns=\"http://www.w3.org/2000/svg\" height=\"24px\"viewBox=\"0 0 24 24\"\n",
              "       width=\"24px\">\n",
              "    <path d=\"M0 0h24v24H0V0z\" fill=\"none\"/>\n",
              "    <path d=\"M18.56 5.44l.94 2.06.94-2.06 2.06-.94-2.06-.94-.94-2.06-.94 2.06-2.06.94zm-11 1L8.5 8.5l.94-2.06 2.06-.94-2.06-.94L8.5 2.5l-.94 2.06-2.06.94zm10 10l.94 2.06.94-2.06 2.06-.94-2.06-.94-.94-2.06-.94 2.06-2.06.94z\"/><path d=\"M17.41 7.96l-1.37-1.37c-.4-.4-.92-.59-1.43-.59-.52 0-1.04.2-1.43.59L10.3 9.45l-7.72 7.72c-.78.78-.78 2.05 0 2.83L4 21.41c.39.39.9.59 1.41.59.51 0 1.02-.2 1.41-.59l7.78-7.78 2.81-2.81c.8-.78.8-2.07 0-2.86zM5.41 20L4 18.59l7.72-7.72 1.47 1.35L5.41 20z\"/>\n",
              "  </svg>\n",
              "      </button>\n",
              "      \n",
              "  <style>\n",
              "    .colab-df-container {\n",
              "      display:flex;\n",
              "      flex-wrap:wrap;\n",
              "      gap: 12px;\n",
              "    }\n",
              "\n",
              "    .colab-df-convert {\n",
              "      background-color: #E8F0FE;\n",
              "      border: none;\n",
              "      border-radius: 50%;\n",
              "      cursor: pointer;\n",
              "      display: none;\n",
              "      fill: #1967D2;\n",
              "      height: 32px;\n",
              "      padding: 0 0 0 0;\n",
              "      width: 32px;\n",
              "    }\n",
              "\n",
              "    .colab-df-convert:hover {\n",
              "      background-color: #E2EBFA;\n",
              "      box-shadow: 0px 1px 2px rgba(60, 64, 67, 0.3), 0px 1px 3px 1px rgba(60, 64, 67, 0.15);\n",
              "      fill: #174EA6;\n",
              "    }\n",
              "\n",
              "    [theme=dark] .colab-df-convert {\n",
              "      background-color: #3B4455;\n",
              "      fill: #D2E3FC;\n",
              "    }\n",
              "\n",
              "    [theme=dark] .colab-df-convert:hover {\n",
              "      background-color: #434B5C;\n",
              "      box-shadow: 0px 1px 3px 1px rgba(0, 0, 0, 0.15);\n",
              "      filter: drop-shadow(0px 1px 2px rgba(0, 0, 0, 0.3));\n",
              "      fill: #FFFFFF;\n",
              "    }\n",
              "  </style>\n",
              "\n",
              "      <script>\n",
              "        const buttonEl =\n",
              "          document.querySelector('#df-2eb6a6d4-e603-4eda-b758-9a6102fe2aa1 button.colab-df-convert');\n",
              "        buttonEl.style.display =\n",
              "          google.colab.kernel.accessAllowed ? 'block' : 'none';\n",
              "\n",
              "        async function convertToInteractive(key) {\n",
              "          const element = document.querySelector('#df-2eb6a6d4-e603-4eda-b758-9a6102fe2aa1');\n",
              "          const dataTable =\n",
              "            await google.colab.kernel.invokeFunction('convertToInteractive',\n",
              "                                                     [key], {});\n",
              "          if (!dataTable) return;\n",
              "\n",
              "          const docLinkHtml = 'Like what you see? Visit the ' +\n",
              "            '<a target=\"_blank\" href=https://colab.research.google.com/notebooks/data_table.ipynb>data table notebook</a>'\n",
              "            + ' to learn more about interactive tables.';\n",
              "          element.innerHTML = '';\n",
              "          dataTable['output_type'] = 'display_data';\n",
              "          await google.colab.output.renderOutput(dataTable, element);\n",
              "          const docLink = document.createElement('div');\n",
              "          docLink.innerHTML = docLinkHtml;\n",
              "          element.appendChild(docLink);\n",
              "        }\n",
              "      </script>\n",
              "    </div>\n",
              "  </div>\n",
              "  "
            ],
            "text/plain": [
              "                  Price\n",
              "Date                   \n",
              "2021-12-21  1787.900024\n",
              "2021-12-22  1801.599976\n",
              "2021-12-23  1811.199951\n",
              "2021-12-27  1808.099976\n",
              "2021-12-28  1810.199951"
            ]
          },
          "metadata": {},
          "execution_count": 107
        }
      ]
    },
    {
      "cell_type": "code",
      "source": [
        "train = data.head(804)\n",
        "test = data.tail(200)"
      ],
      "metadata": {
        "id": "uHPUeBTBiaVI"
      },
      "execution_count": null,
      "outputs": []
    },
    {
      "cell_type": "markdown",
      "source": [
        "## **EDA**"
      ],
      "metadata": {
        "id": "l9bkAnzueXNo"
      }
    },
    {
      "cell_type": "code",
      "source": [
        "data.info()"
      ],
      "metadata": {
        "colab": {
          "base_uri": "https://localhost:8080/"
        },
        "id": "xO0ZJf9ud4rz",
        "outputId": "91cd6f3b-8cec-4719-b3f6-abafa24c1bdf"
      },
      "execution_count": null,
      "outputs": [
        {
          "output_type": "stream",
          "name": "stdout",
          "text": [
            "<class 'pandas.core.frame.DataFrame'>\n",
            "DatetimeIndex: 1005 entries, 2018-01-02 to 2021-12-28\n",
            "Data columns (total 1 columns):\n",
            " #   Column  Non-Null Count  Dtype  \n",
            "---  ------  --------------  -----  \n",
            " 0   Price   1005 non-null   float64\n",
            "dtypes: float64(1)\n",
            "memory usage: 15.7 KB\n"
          ]
        }
      ]
    },
    {
      "cell_type": "markdown",
      "source": [
        "**Line chart**"
      ],
      "metadata": {
        "id": "3oNLY6tm-0PN"
      }
    },
    {
      "cell_type": "code",
      "source": [
        "import seaborn as sns\n",
        "plt.figure(figsize=(20,7))\n",
        "sns.set(style='darkgrid')\n",
        "sns.lineplot( y=\"Price\", x=\"Date\", data=data)\n",
        "#sns.lineplot( y=\"Price\", x=data.index, data=data)\n",
        "plt.title(\" Gold Price movement throughout our Observation\")\n",
        "plt.ylabel('Gold Price')\n",
        "plt.show()"
      ],
      "metadata": {
        "colab": {
          "base_uri": "https://localhost:8080/",
          "height": 464
        },
        "id": "G0jX5jYEjVVA",
        "outputId": "b39e8961-e2da-49f7-bb4f-d3d18bcf0499"
      },
      "execution_count": null,
      "outputs": [
        {
          "output_type": "display_data",
          "data": {
            "image/png": "[encoded data removed]",
            "text/plain": [
              "<Figure size 1440x504 with 1 Axes>"
            ]
          },
          "metadata": {}
        }
      ]
    },
    {
      "cell_type": "markdown",
      "source": [
        "**Another Way to draw line chart**"
      ],
      "metadata": {
        "id": "p8UU18pt-vCU"
      }
    },
    {
      "cell_type": "code",
      "source": [
        "#from IPython.core.pylabtools import figsize\n",
        "#plt.figure(figsize=(20,7))\n",
        "#data.Price.plot()\n",
        "#plt.title(\" Gold Price movement throughout our Observation\")\n",
        "#plt.ylabel('Gold Price')\n",
        "#plt.show()"
      ],
      "metadata": {
        "id": "I8-r0sSagau6"
      },
      "execution_count": null,
      "outputs": []
    },
    {
      "cell_type": "code",
      "source": [
        "data"
      ],
      "metadata": {
        "colab": {
          "base_uri": "https://localhost:8080/",
          "height": 455
        },
        "id": "rLHABN8_crTj",
        "outputId": "c1c7b290-b6d5-4c1f-c16a-1af4e8dc3613"
      },
      "execution_count": null,
      "outputs": [
        {
          "output_type": "execute_result",
          "data": {
            "text/html": [
              "\n",
              "  <div id=\"df-9cff7de0-c958-4724-8c5d-6d9bb9be6902\">\n",
              "    <div class=\"colab-df-container\">\n",
              "      <div>\n",
              "<style scoped>\n",
              "    .dataframe tbody tr th:only-of-type {\n",
              "        vertical-align: middle;\n",
              "    }\n",
              "\n",
              "    .dataframe tbody tr th {\n",
              "        vertical-align: top;\n",
              "    }\n",
              "\n",
              "    .dataframe thead th {\n",
              "        text-align: right;\n",
              "    }\n",
              "</style>\n",
              "<table border=\"1\" class=\"dataframe\">\n",
              "  <thead>\n",
              "    <tr style=\"text-align: right;\">\n",
              "      <th></th>\n",
              "      <th>Price</th>\n",
              "    </tr>\n",
              "    <tr>\n",
              "      <th>Date</th>\n",
              "      <th></th>\n",
              "    </tr>\n",
              "  </thead>\n",
              "  <tbody>\n",
              "    <tr>\n",
              "      <th>2018-01-02</th>\n",
              "      <td>1313.699951</td>\n",
              "    </tr>\n",
              "    <tr>\n",
              "      <th>2018-01-03</th>\n",
              "      <td>1316.199951</td>\n",
              "    </tr>\n",
              "    <tr>\n",
              "      <th>2018-01-04</th>\n",
              "      <td>1319.400024</td>\n",
              "    </tr>\n",
              "    <tr>\n",
              "      <th>2018-01-05</th>\n",
              "      <td>1320.300049</td>\n",
              "    </tr>\n",
              "    <tr>\n",
              "      <th>2018-01-08</th>\n",
              "      <td>1318.599976</td>\n",
              "    </tr>\n",
              "    <tr>\n",
              "      <th>...</th>\n",
              "      <td>...</td>\n",
              "    </tr>\n",
              "    <tr>\n",
              "      <th>2021-12-21</th>\n",
              "      <td>1787.900024</td>\n",
              "    </tr>\n",
              "    <tr>\n",
              "      <th>2021-12-22</th>\n",
              "      <td>1801.599976</td>\n",
              "    </tr>\n",
              "    <tr>\n",
              "      <th>2021-12-23</th>\n",
              "      <td>1811.199951</td>\n",
              "    </tr>\n",
              "    <tr>\n",
              "      <th>2021-12-27</th>\n",
              "      <td>1808.099976</td>\n",
              "    </tr>\n",
              "    <tr>\n",
              "      <th>2021-12-28</th>\n",
              "      <td>1810.199951</td>\n",
              "    </tr>\n",
              "  </tbody>\n",
              "</table>\n",
              "<p>1005 rows × 1 columns</p>\n",
              "</div>\n",
              "      <button class=\"colab-df-convert\" onclick=\"convertToInteractive('df-9cff7de0-c958-4724-8c5d-6d9bb9be6902')\"\n",
              "              title=\"Convert this dataframe to an interactive table.\"\n",
              "              style=\"display:none;\">\n",
              "        \n",
              "  <svg xmlns=\"http://www.w3.org/2000/svg\" height=\"24px\"viewBox=\"0 0 24 24\"\n",
              "       width=\"24px\">\n",
              "    <path d=\"M0 0h24v24H0V0z\" fill=\"none\"/>\n",
              "    <path d=\"M18.56 5.44l.94 2.06.94-2.06 2.06-.94-2.06-.94-.94-2.06-.94 2.06-2.06.94zm-11 1L8.5 8.5l.94-2.06 2.06-.94-2.06-.94L8.5 2.5l-.94 2.06-2.06.94zm10 10l.94 2.06.94-2.06 2.06-.94-2.06-.94-.94-2.06-.94 2.06-2.06.94z\"/><path d=\"M17.41 7.96l-1.37-1.37c-.4-.4-.92-.59-1.43-.59-.52 0-1.04.2-1.43.59L10.3 9.45l-7.72 7.72c-.78.78-.78 2.05 0 2.83L4 21.41c.39.39.9.59 1.41.59.51 0 1.02-.2 1.41-.59l7.78-7.78 2.81-2.81c.8-.78.8-2.07 0-2.86zM5.41 20L4 18.59l7.72-7.72 1.47 1.35L5.41 20z\"/>\n",
              "  </svg>\n",
              "      </button>\n",
              "      \n",
              "  <style>\n",
              "    .colab-df-container {\n",
              "      display:flex;\n",
              "      flex-wrap:wrap;\n",
              "      gap: 12px;\n",
              "    }\n",
              "\n",
              "    .colab-df-convert {\n",
              "      background-color: #E8F0FE;\n",
              "      border: none;\n",
              "      border-radius: 50%;\n",
              "      cursor: pointer;\n",
              "      display: none;\n",
              "      fill: #1967D2;\n",
              "      height: 32px;\n",
              "      padding: 0 0 0 0;\n",
              "      width: 32px;\n",
              "    }\n",
              "\n",
              "    .colab-df-convert:hover {\n",
              "      background-color: #E2EBFA;\n",
              "      box-shadow: 0px 1px 2px rgba(60, 64, 67, 0.3), 0px 1px 3px 1px rgba(60, 64, 67, 0.15);\n",
              "      fill: #174EA6;\n",
              "    }\n",
              "\n",
              "    [theme=dark] .colab-df-convert {\n",
              "      background-color: #3B4455;\n",
              "      fill: #D2E3FC;\n",
              "    }\n",
              "\n",
              "    [theme=dark] .colab-df-convert:hover {\n",
              "      background-color: #434B5C;\n",
              "      box-shadow: 0px 1px 3px 1px rgba(0, 0, 0, 0.15);\n",
              "      filter: drop-shadow(0px 1px 2px rgba(0, 0, 0, 0.3));\n",
              "      fill: #FFFFFF;\n",
              "    }\n",
              "  </style>\n",
              "\n",
              "      <script>\n",
              "        const buttonEl =\n",
              "          document.querySelector('#df-9cff7de0-c958-4724-8c5d-6d9bb9be6902 button.colab-df-convert');\n",
              "        buttonEl.style.display =\n",
              "          google.colab.kernel.accessAllowed ? 'block' : 'none';\n",
              "\n",
              "        async function convertToInteractive(key) {\n",
              "          const element = document.querySelector('#df-9cff7de0-c958-4724-8c5d-6d9bb9be6902');\n",
              "          const dataTable =\n",
              "            await google.colab.kernel.invokeFunction('convertToInteractive',\n",
              "                                                     [key], {});\n",
              "          if (!dataTable) return;\n",
              "\n",
              "          const docLinkHtml = 'Like what you see? Visit the ' +\n",
              "            '<a target=\"_blank\" href=https://colab.research.google.com/notebooks/data_table.ipynb>data table notebook</a>'\n",
              "            + ' to learn more about interactive tables.';\n",
              "          element.innerHTML = '';\n",
              "          dataTable['output_type'] = 'display_data';\n",
              "          await google.colab.output.renderOutput(dataTable, element);\n",
              "          const docLink = document.createElement('div');\n",
              "          docLink.innerHTML = docLinkHtml;\n",
              "          element.appendChild(docLink);\n",
              "        }\n",
              "      </script>\n",
              "    </div>\n",
              "  </div>\n",
              "  "
            ],
            "text/plain": [
              "                  Price\n",
              "Date                   \n",
              "2018-01-02  1313.699951\n",
              "2018-01-03  1316.199951\n",
              "2018-01-04  1319.400024\n",
              "2018-01-05  1320.300049\n",
              "2018-01-08  1318.599976\n",
              "...                 ...\n",
              "2021-12-21  1787.900024\n",
              "2021-12-22  1801.599976\n",
              "2021-12-23  1811.199951\n",
              "2021-12-27  1808.099976\n",
              "2021-12-28  1810.199951\n",
              "\n",
              "[1005 rows x 1 columns]"
            ]
          },
          "metadata": {},
          "execution_count": 112
        }
      ]
    },
    {
      "cell_type": "code",
      "source": [
        "data.info()"
      ],
      "metadata": {
        "colab": {
          "base_uri": "https://localhost:8080/"
        },
        "id": "9X3Ky6Jjd3C-",
        "outputId": "3f8c8e53-2155-422e-870d-60b29bc58766"
      },
      "execution_count": null,
      "outputs": [
        {
          "output_type": "stream",
          "name": "stdout",
          "text": [
            "<class 'pandas.core.frame.DataFrame'>\n",
            "DatetimeIndex: 1005 entries, 2018-01-02 to 2021-12-28\n",
            "Data columns (total 1 columns):\n",
            " #   Column  Non-Null Count  Dtype  \n",
            "---  ------  --------------  -----  \n",
            " 0   Price   1005 non-null   float64\n",
            "dtypes: float64(1)\n",
            "memory usage: 15.7 KB\n"
          ]
        }
      ]
    },
    {
      "cell_type": "code",
      "source": [
        "data.isnull().sum()"
      ],
      "metadata": {
        "colab": {
          "base_uri": "https://localhost:8080/"
        },
        "id": "gSvV6xbmJyeU",
        "outputId": "43994942-42c6-40fd-82e8-84d42e0f3057"
      },
      "execution_count": null,
      "outputs": [
        {
          "output_type": "execute_result",
          "data": {
            "text/plain": [
              "Price    0\n",
              "dtype: int64"
            ]
          },
          "metadata": {},
          "execution_count": 114
        }
      ]
    },
    {
      "cell_type": "code",
      "source": [
        "print(len(data))"
      ],
      "metadata": {
        "colab": {
          "base_uri": "https://localhost:8080/"
        },
        "id": "e0By_1GPbvM7",
        "outputId": "9c55c045-a3ca-40a7-a813-5f31b4c83def"
      },
      "execution_count": null,
      "outputs": [
        {
          "output_type": "stream",
          "name": "stdout",
          "text": [
            "1005\n"
          ]
        }
      ]
    },
    {
      "cell_type": "code",
      "source": [
        "data.describe().T"
      ],
      "metadata": {
        "colab": {
          "base_uri": "https://localhost:8080/",
          "height": 81
        },
        "id": "SO9B_2FhKUvK",
        "outputId": "ec605de6-3a52-45be-ce55-219125581e34"
      },
      "execution_count": null,
      "outputs": [
        {
          "output_type": "execute_result",
          "data": {
            "text/html": [
              "\n",
              "  <div id=\"df-c0f08498-f5eb-45ba-8a24-42a0970b2398\">\n",
              "    <div class=\"colab-df-container\">\n",
              "      <div>\n",
              "<style scoped>\n",
              "    .dataframe tbody tr th:only-of-type {\n",
              "        vertical-align: middle;\n",
              "    }\n",
              "\n",
              "    .dataframe tbody tr th {\n",
              "        vertical-align: top;\n",
              "    }\n",
              "\n",
              "    .dataframe thead th {\n",
              "        text-align: right;\n",
              "    }\n",
              "</style>\n",
              "<table border=\"1\" class=\"dataframe\">\n",
              "  <thead>\n",
              "    <tr style=\"text-align: right;\">\n",
              "      <th></th>\n",
              "      <th>count</th>\n",
              "      <th>mean</th>\n",
              "      <th>std</th>\n",
              "      <th>min</th>\n",
              "      <th>25%</th>\n",
              "      <th>50%</th>\n",
              "      <th>75%</th>\n",
              "      <th>max</th>\n",
              "    </tr>\n",
              "  </thead>\n",
              "  <tbody>\n",
              "    <tr>\n",
              "      <th>Price</th>\n",
              "      <td>1005.0</td>\n",
              "      <td>1558.044875</td>\n",
              "      <td>249.371879</td>\n",
              "      <td>1176.199951</td>\n",
              "      <td>1311.300049</td>\n",
              "      <td>1526.5</td>\n",
              "      <td>1791.400024</td>\n",
              "      <td>2051.5</td>\n",
              "    </tr>\n",
              "  </tbody>\n",
              "</table>\n",
              "</div>\n",
              "      <button class=\"colab-df-convert\" onclick=\"convertToInteractive('df-c0f08498-f5eb-45ba-8a24-42a0970b2398')\"\n",
              "              title=\"Convert this dataframe to an interactive table.\"\n",
              "              style=\"display:none;\">\n",
              "        \n",
              "  <svg xmlns=\"http://www.w3.org/2000/svg\" height=\"24px\"viewBox=\"0 0 24 24\"\n",
              "       width=\"24px\">\n",
              "    <path d=\"M0 0h24v24H0V0z\" fill=\"none\"/>\n",
              "    <path d=\"M18.56 5.44l.94 2.06.94-2.06 2.06-.94-2.06-.94-.94-2.06-.94 2.06-2.06.94zm-11 1L8.5 8.5l.94-2.06 2.06-.94-2.06-.94L8.5 2.5l-.94 2.06-2.06.94zm10 10l.94 2.06.94-2.06 2.06-.94-2.06-.94-.94-2.06-.94 2.06-2.06.94z\"/><path d=\"M17.41 7.96l-1.37-1.37c-.4-.4-.92-.59-1.43-.59-.52 0-1.04.2-1.43.59L10.3 9.45l-7.72 7.72c-.78.78-.78 2.05 0 2.83L4 21.41c.39.39.9.59 1.41.59.51 0 1.02-.2 1.41-.59l7.78-7.78 2.81-2.81c.8-.78.8-2.07 0-2.86zM5.41 20L4 18.59l7.72-7.72 1.47 1.35L5.41 20z\"/>\n",
              "  </svg>\n",
              "      </button>\n",
              "      \n",
              "  <style>\n",
              "    .colab-df-container {\n",
              "      display:flex;\n",
              "      flex-wrap:wrap;\n",
              "      gap: 12px;\n",
              "    }\n",
              "\n",
              "    .colab-df-convert {\n",
              "      background-color: #E8F0FE;\n",
              "      border: none;\n",
              "      border-radius: 50%;\n",
              "      cursor: pointer;\n",
              "      display: none;\n",
              "      fill: #1967D2;\n",
              "      height: 32px;\n",
              "      padding: 0 0 0 0;\n",
              "      width: 32px;\n",
              "    }\n",
              "\n",
              "    .colab-df-convert:hover {\n",
              "      background-color: #E2EBFA;\n",
              "      box-shadow: 0px 1px 2px rgba(60, 64, 67, 0.3), 0px 1px 3px 1px rgba(60, 64, 67, 0.15);\n",
              "      fill: #174EA6;\n",
              "    }\n",
              "\n",
              "    [theme=dark] .colab-df-convert {\n",
              "      background-color: #3B4455;\n",
              "      fill: #D2E3FC;\n",
              "    }\n",
              "\n",
              "    [theme=dark] .colab-df-convert:hover {\n",
              "      background-color: #434B5C;\n",
              "      box-shadow: 0px 1px 3px 1px rgba(0, 0, 0, 0.15);\n",
              "      filter: drop-shadow(0px 1px 2px rgba(0, 0, 0, 0.3));\n",
              "      fill: #FFFFFF;\n",
              "    }\n",
              "  </style>\n",
              "\n",
              "      <script>\n",
              "        const buttonEl =\n",
              "          document.querySelector('#df-c0f08498-f5eb-45ba-8a24-42a0970b2398 button.colab-df-convert');\n",
              "        buttonEl.style.display =\n",
              "          google.colab.kernel.accessAllowed ? 'block' : 'none';\n",
              "\n",
              "        async function convertToInteractive(key) {\n",
              "          const element = document.querySelector('#df-c0f08498-f5eb-45ba-8a24-42a0970b2398');\n",
              "          const dataTable =\n",
              "            await google.colab.kernel.invokeFunction('convertToInteractive',\n",
              "                                                     [key], {});\n",
              "          if (!dataTable) return;\n",
              "\n",
              "          const docLinkHtml = 'Like what you see? Visit the ' +\n",
              "            '<a target=\"_blank\" href=https://colab.research.google.com/notebooks/data_table.ipynb>data table notebook</a>'\n",
              "            + ' to learn more about interactive tables.';\n",
              "          element.innerHTML = '';\n",
              "          dataTable['output_type'] = 'display_data';\n",
              "          await google.colab.output.renderOutput(dataTable, element);\n",
              "          const docLink = document.createElement('div');\n",
              "          docLink.innerHTML = docLinkHtml;\n",
              "          element.appendChild(docLink);\n",
              "        }\n",
              "      </script>\n",
              "    </div>\n",
              "  </div>\n",
              "  "
            ],
            "text/plain": [
              "        count         mean         std  ...     50%          75%     max\n",
              "Price  1005.0  1558.044875  249.371879  ...  1526.5  1791.400024  2051.5\n",
              "\n",
              "[1 rows x 8 columns]"
            ]
          },
          "metadata": {},
          "execution_count": 116
        }
      ]
    },
    {
      "cell_type": "markdown",
      "source": [
        "### **Checking for Stationarity in data using Dickey-Fuller test**"
      ],
      "metadata": {
        "id": "hgt3w9dpzzEh"
      }
    },
    {
      "cell_type": "code",
      "source": [
        "X = train['Price'].values\n",
        "\n",
        "result = adfuller(X)\n",
        "#print(result)\n",
        "print('ADF Statistic: %f' % result[0])\n",
        "print('p-value: %f' % result[1])\n",
        "print('Critical Values:')\n",
        "print(f'Inference: Time Series is {\"non\" if result[1]>=0.05 else\" \"} stationary')"
      ],
      "metadata": {
        "colab": {
          "base_uri": "https://localhost:8080/"
        },
        "id": "CoERL5cLupIU",
        "outputId": "063150d8-9ba7-4af8-f9ee-d61de3891513"
      },
      "execution_count": null,
      "outputs": [
        {
          "output_type": "stream",
          "name": "stdout",
          "text": [
            "ADF Statistic: -0.542786\n",
            "p-value: 0.883393\n",
            "Critical Values:\n",
            "Inference: Time Series is non stationary\n"
          ]
        }
      ]
    },
    {
      "cell_type": "markdown",
      "source": [
        "## **As the p-value > 0.05, we Fail to reject the null hypothesis (H0), the data has a unit root and is non-stationary.**"
      ],
      "metadata": {
        "id": "QTEJoJ4l1GFD"
      }
    },
    {
      "cell_type": "markdown",
      "source": [
        "### **Auto correlation graph**"
      ],
      "metadata": {
        "id": "3M-NNkMZm00W"
      }
    },
    {
      "cell_type": "code",
      "source": [
        "plt.rc(\"figure\", figsize=(10,6))\n",
        "plot_acf(train['Price'],lags=35)\n",
        "plt.show()"
      ],
      "metadata": {
        "colab": {
          "base_uri": "https://localhost:8080/",
          "height": 393
        },
        "id": "OytGUlDAmlUa",
        "outputId": "4dd55671-df1b-4bbc-e125-34004548ed7c"
      },
      "execution_count": null,
      "outputs": [
        {
          "output_type": "display_data",
          "data": {
            "image/png": "[encoded data removed]",
            "text/plain": [
              "<Figure size 720x432 with 1 Axes>"
            ]
          },
          "metadata": {}
        }
      ]
    },
    {
      "cell_type": "markdown",
      "source": [
        "### **PACF graph**"
      ],
      "metadata": {
        "id": "6oM19RDam4Oo"
      }
    },
    {
      "cell_type": "code",
      "source": [
        "plot_pacf(train['Price'],lags=35)\n",
        "plt.show()"
      ],
      "metadata": {
        "colab": {
          "base_uri": "https://localhost:8080/",
          "height": 393
        },
        "id": "wuXqzcVym31x",
        "outputId": "935d1f8c-f7fe-48d7-8078-f283f9d2639b"
      },
      "execution_count": null,
      "outputs": [
        {
          "output_type": "display_data",
          "data": {
            "image/png": "[encoded data removed]",
            "text/plain": [
              "<Figure size 720x432 with 1 Axes>"
            ]
          },
          "metadata": {}
        }
      ]
    },
    {
      "cell_type": "markdown",
      "source": [
        "## **DIFFERENCE TRANSFORM to remove Seasonality**"
      ],
      "metadata": {
        "id": "a4ayENu_1a-5"
      }
    },
    {
      "cell_type": "code",
      "source": [
        "data_without_sea = train.diff().dropna()"
      ],
      "metadata": {
        "id": "8hHYumdQ0JBk"
      },
      "execution_count": null,
      "outputs": []
    },
    {
      "cell_type": "code",
      "source": [
        "data_without_sea.info()"
      ],
      "metadata": {
        "colab": {
          "base_uri": "https://localhost:8080/"
        },
        "id": "aIrmUbJ4c1Hb",
        "outputId": "2d93fbb8-005d-4a45-cda7-bf7a2084bffc"
      },
      "execution_count": null,
      "outputs": [
        {
          "output_type": "stream",
          "name": "stdout",
          "text": [
            "<class 'pandas.core.frame.DataFrame'>\n",
            "DatetimeIndex: 803 entries, 2018-01-03 to 2021-03-15\n",
            "Data columns (total 1 columns):\n",
            " #   Column  Non-Null Count  Dtype  \n",
            "---  ------  --------------  -----  \n",
            " 0   Price   803 non-null    float64\n",
            "dtypes: float64(1)\n",
            "memory usage: 12.5 KB\n"
          ]
        }
      ]
    },
    {
      "cell_type": "markdown",
      "source": [
        "### **Again checking for Stationarity in data using Dickey-Fuller test**"
      ],
      "metadata": {
        "id": "hqLroG-oadYV"
      }
    },
    {
      "cell_type": "code",
      "source": [
        "X = data_without_sea['Price'].values\n",
        "result = adfuller(X)\n",
        "#print(result)\n",
        "print('ADF Statistic: %f' % result[0])\n",
        "print('p-value: %f' % result[1])\n",
        "print('Critical Values:')\n",
        "print(f'Inference: Time Series is {\"non\" if result[1]>=0.05 else\" \"}stationary')"
      ],
      "metadata": {
        "colab": {
          "base_uri": "https://localhost:8080/"
        },
        "id": "1HuA8bT1XmK1",
        "outputId": "50bcb090-1eca-463f-e263-afc1371ce0df"
      },
      "execution_count": null,
      "outputs": [
        {
          "output_type": "stream",
          "name": "stdout",
          "text": [
            "ADF Statistic: -13.530644\n",
            "p-value: 0.000000\n",
            "Critical Values:\n",
            "Inference: Time Series is  stationary\n"
          ]
        }
      ]
    },
    {
      "cell_type": "markdown",
      "source": [
        "### **Auto correlation graph after 1 step differencing**"
      ],
      "metadata": {
        "id": "1Vj3Ftsub-pF"
      }
    },
    {
      "cell_type": "code",
      "source": [
        "plt.rc(\"figure\", figsize=(10,6))\n",
        "plot_acf(data_without_sea['Price'], lags=35)\n",
        "plt.show()"
      ],
      "metadata": {
        "colab": {
          "base_uri": "https://localhost:8080/",
          "height": 393
        },
        "id": "16x-RvEzXmHg",
        "outputId": "28e996be-1790-4586-d7df-d21d1d88f2c9"
      },
      "execution_count": null,
      "outputs": [
        {
          "output_type": "display_data",
          "data": {
            "image/png": "[encoded data removed]",
            "text/plain": [
              "<Figure size 720x432 with 1 Axes>"
            ]
          },
          "metadata": {}
        }
      ]
    },
    {
      "cell_type": "markdown",
      "source": [
        "### **Partial Auto Correlation graph after differencing**"
      ],
      "metadata": {
        "id": "JEOTD_mznUN6"
      }
    },
    {
      "cell_type": "code",
      "source": [
        "plt.rc(\"figure\", figsize=(10,6))\n",
        "plot_pacf(data_without_sea)\n",
        "plt.show()"
      ],
      "metadata": {
        "colab": {
          "base_uri": "https://localhost:8080/",
          "height": 393
        },
        "id": "U-4AbjmqXmFO",
        "outputId": "edf501c2-d286-4468-d785-9461b6ca02a4"
      },
      "execution_count": null,
      "outputs": [
        {
          "output_type": "display_data",
          "data": {
            "image/png": "[encoded data removed]",
            "text/plain": [
              "<Figure size 720x432 with 1 Axes>"
            ]
          },
          "metadata": {}
        }
      ]
    },
    {
      "cell_type": "code",
      "source": [
        "plt.plot(data_without_sea)\n",
        "plt.show()"
      ],
      "metadata": {
        "colab": {
          "base_uri": "https://localhost:8080/",
          "height": 377
        },
        "id": "4WeFmOSpRDEi",
        "outputId": "c7c0d6db-6bbf-4002-e2bd-9af093aded9c"
      },
      "execution_count": null,
      "outputs": [
        {
          "output_type": "display_data",
          "data": {
            "image/png": "[encoded data removed]",
            "text/plain": [
              "<Figure size 720x432 with 1 Axes>"
            ]
          },
          "metadata": {}
        }
      ]
    },
    {
      "cell_type": "code",
      "source": [
        ""
      ],
      "metadata": {
        "id": "idhQJnfwR-CA"
      },
      "execution_count": null,
      "outputs": []
    },
    {
      "cell_type": "code",
      "source": [
        "data_without_sea.info()"
      ],
      "metadata": {
        "colab": {
          "base_uri": "https://localhost:8080/"
        },
        "id": "YryDYbrKc41b",
        "outputId": "77f2d8f1-ab25-4585-ee86-bda1f781c989"
      },
      "execution_count": null,
      "outputs": [
        {
          "output_type": "stream",
          "name": "stdout",
          "text": [
            "<class 'pandas.core.frame.DataFrame'>\n",
            "DatetimeIndex: 803 entries, 2018-01-03 to 2021-03-15\n",
            "Data columns (total 1 columns):\n",
            " #   Column  Non-Null Count  Dtype  \n",
            "---  ------  --------------  -----  \n",
            " 0   Price   803 non-null    float64\n",
            "dtypes: float64(1)\n",
            "memory usage: 12.5 KB\n"
          ]
        }
      ]
    },
    {
      "cell_type": "code",
      "source": [
        "# separate out a validation dataset\n",
        "\n",
        "print('Dataset %d, Validation %d' % (len(train), len(test)))\n",
        "train.to_csv('dataset.csv', header=False)\n",
        "test.to_csv('validation.csv', header=False)\n"
      ],
      "metadata": {
        "colab": {
          "base_uri": "https://localhost:8080/"
        },
        "id": "Vrt6mgxsmTMg",
        "outputId": "4a3ec465-0c97-436a-9ebc-8ad8aa39f9d2"
      },
      "execution_count": null,
      "outputs": [
        {
          "output_type": "stream",
          "name": "stdout",
          "text": [
            "Dataset 804, Validation 200\n"
          ]
        }
      ]
    },
    {
      "cell_type": "markdown",
      "source": [
        "### **Persistence/ Base model**"
      ],
      "metadata": {
        "id": "1T1bd-ndpnX2"
      }
    },
    {
      "cell_type": "code",
      "source": [
        "# evaluate a persistence model\n",
        "from pandas import read_csv\n",
        "from sklearn.metrics import mean_squared_error\n",
        "from math import sqrt\n",
        "# load data\n",
        "train = read_csv('dataset.csv', header=None, index_col=0, parse_dates=True, squeeze=True)\n",
        "# prepare data\n",
        "X = train.values\n",
        "X = X.astype('float32')\n",
        "train_size = int(len(X) * 0.60)\n",
        "train, test = X[0:train_size], X[train_size:]"
      ],
      "metadata": {
        "id": "H3P2F45LXl72"
      },
      "execution_count": null,
      "outputs": []
    },
    {
      "cell_type": "code",
      "source": [
        "# walk-forward validation\n",
        "history = [x for x in train]\n",
        "predictions = list()\n",
        "for i in range(len(test)):\n",
        "    yhat = history[-1]\n",
        "    predictions.append(yhat)\n",
        "# observation\n",
        "    obs = test[i]\n",
        "    history.append(obs)\n",
        "    print('>Predicted=%.3f, Expected=%.3f' % (yhat, obs))\n",
        "# report performance\n",
        "rmse = sqrt(mean_squared_error(test, predictions))\n",
        "print('RMSE: %.3f' % rmse)"
      ],
      "metadata": {
        "colab": {
          "base_uri": "https://localhost:8080/"
        },
        "id": "LJqe6jdhmVog",
        "outputId": "35da76d1-0618-49e7-988e-d439ff5bd55c"
      },
      "execution_count": null,
      "outputs": [
        {
          "output_type": "stream",
          "name": "stdout",
          "text": [
            ">Predicted=1462.300, Expected=1478.200\n",
            ">Predicted=1478.200, Expected=1474.000\n",
            ">Predicted=1474.000, Expected=1476.900\n",
            ">Predicted=1476.900, Expected=1459.100\n",
            ">Predicted=1459.100, Expected=1459.300\n",
            ">Predicted=1459.300, Expected=1462.600\n",
            ">Predicted=1462.600, Expected=1469.400\n",
            ">Predicted=1469.400, Expected=1466.700\n",
            ">Predicted=1466.700, Expected=1475.600\n",
            ">Predicted=1475.600, Expected=1475.000\n",
            ">Predicted=1475.000, Expected=1474.600\n",
            ">Predicted=1474.600, Expected=1472.600\n",
            ">Predicted=1472.600, Expected=1478.200\n",
            ">Predicted=1478.200, Expected=1474.700\n",
            ">Predicted=1474.700, Expected=1482.500\n",
            ">Predicted=1482.500, Expected=1499.100\n",
            ">Predicted=1499.100, Expected=1509.300\n",
            ">Predicted=1509.300, Expected=1513.800\n",
            ">Predicted=1513.800, Expected=1514.500\n",
            ">Predicted=1514.500, Expected=1519.500\n",
            ">Predicted=1519.500, Expected=1524.500\n",
            ">Predicted=1524.500, Expected=1549.200\n",
            ">Predicted=1549.200, Expected=1566.200\n",
            ">Predicted=1566.200, Expected=1571.800\n",
            ">Predicted=1571.800, Expected=1557.400\n",
            ">Predicted=1557.400, Expected=1551.700\n",
            ">Predicted=1551.700, Expected=1557.500\n",
            ">Predicted=1557.500, Expected=1548.400\n",
            ">Predicted=1548.400, Expected=1542.400\n",
            ">Predicted=1542.400, Expected=1552.100\n",
            ">Predicted=1552.100, Expected=1549.000\n",
            ">Predicted=1549.000, Expected=1558.800\n",
            ">Predicted=1558.800, Expected=1556.400\n",
            ">Predicted=1556.400, Expected=1555.300\n",
            ">Predicted=1555.300, Expected=1564.600\n",
            ">Predicted=1564.600, Expected=1571.100\n",
            ">Predicted=1571.100, Expected=1576.800\n",
            ">Predicted=1576.800, Expected=1569.200\n",
            ">Predicted=1569.200, Expected=1569.800\n",
            ">Predicted=1569.800, Expected=1583.500\n",
            ">Predicted=1583.500, Expected=1582.900\n",
            ">Predicted=1582.900, Expected=1577.200\n",
            ">Predicted=1577.200, Expected=1550.400\n",
            ">Predicted=1550.400, Expected=1557.800\n",
            ">Predicted=1557.800, Expected=1565.100\n",
            ">Predicted=1565.100, Expected=1568.600\n",
            ">Predicted=1568.600, Expected=1574.700\n",
            ">Predicted=1574.700, Expected=1565.600\n",
            ">Predicted=1565.600, Expected=1567.400\n",
            ">Predicted=1567.400, Expected=1575.100\n",
            ">Predicted=1575.100, Expected=1582.700\n",
            ">Predicted=1582.700, Expected=1600.000\n",
            ">Predicted=1600.000, Expected=1607.500\n",
            ">Predicted=1607.500, Expected=1616.600\n",
            ">Predicted=1616.600, Expected=1644.600\n",
            ">Predicted=1644.600, Expected=1672.400\n",
            ">Predicted=1672.400, Expected=1646.900\n",
            ">Predicted=1646.900, Expected=1640.000\n",
            ">Predicted=1640.000, Expected=1640.000\n",
            ">Predicted=1640.000, Expected=1564.100\n",
            ">Predicted=1564.100, Expected=1592.300\n",
            ">Predicted=1592.300, Expected=1642.100\n",
            ">Predicted=1642.100, Expected=1641.100\n",
            ">Predicted=1641.100, Expected=1666.400\n",
            ">Predicted=1666.400, Expected=1670.800\n",
            ">Predicted=1670.800, Expected=1674.500\n",
            ">Predicted=1674.500, Expected=1659.100\n",
            ">Predicted=1659.100, Expected=1641.400\n",
            ">Predicted=1641.400, Expected=1589.300\n",
            ">Predicted=1589.300, Expected=1515.700\n",
            ">Predicted=1515.700, Expected=1485.900\n",
            ">Predicted=1485.900, Expected=1524.900\n",
            ">Predicted=1524.900, Expected=1477.300\n",
            ">Predicted=1477.300, Expected=1478.600\n",
            ">Predicted=1478.600, Expected=1484.000\n",
            ">Predicted=1484.000, Expected=1567.000\n",
            ">Predicted=1567.000, Expected=1660.200\n",
            ">Predicted=1660.200, Expected=1632.300\n",
            ">Predicted=1632.300, Expected=1650.100\n",
            ">Predicted=1650.100, Expected=1623.900\n",
            ">Predicted=1623.900, Expected=1622.000\n",
            ">Predicted=1622.000, Expected=1583.400\n",
            ">Predicted=1583.400, Expected=1578.200\n",
            ">Predicted=1578.200, Expected=1625.700\n",
            ">Predicted=1625.700, Expected=1633.700\n",
            ">Predicted=1633.700, Expected=1677.000\n",
            ">Predicted=1677.000, Expected=1664.800\n",
            ">Predicted=1664.800, Expected=1665.400\n",
            ">Predicted=1665.400, Expected=1736.200\n",
            ">Predicted=1736.200, Expected=1744.800\n",
            ">Predicted=1744.800, Expected=1756.700\n",
            ">Predicted=1756.700, Expected=1727.200\n",
            ">Predicted=1727.200, Expected=1720.400\n",
            ">Predicted=1720.400, Expected=1689.200\n",
            ">Predicted=1689.200, Expected=1701.600\n",
            ">Predicted=1701.600, Expected=1678.200\n",
            ">Predicted=1678.200, Expected=1728.700\n",
            ">Predicted=1728.700, Expected=1733.300\n",
            ">Predicted=1733.300, Expected=1723.500\n",
            ">Predicted=1723.500, Expected=1711.900\n",
            ">Predicted=1711.900, Expected=1710.500\n",
            ">Predicted=1710.500, Expected=1703.400\n",
            ">Predicted=1703.400, Expected=1684.200\n",
            ">Predicted=1684.200, Expected=1694.500\n",
            ">Predicted=1694.500, Expected=1706.900\n",
            ">Predicted=1706.900, Expected=1704.400\n",
            ">Predicted=1704.400, Expected=1684.200\n",
            ">Predicted=1684.200, Expected=1721.800\n",
            ">Predicted=1721.800, Expected=1709.900\n",
            ">Predicted=1709.900, Expected=1695.300\n",
            ">Predicted=1695.300, Expected=1704.400\n",
            ">Predicted=1704.400, Expected=1713.900\n",
            ">Predicted=1713.900, Expected=1738.100\n",
            ">Predicted=1738.100, Expected=1753.400\n",
            ">Predicted=1753.400, Expected=1731.800\n",
            ">Predicted=1731.800, Expected=1744.200\n",
            ">Predicted=1744.200, Expected=1750.600\n",
            ">Predicted=1750.600, Expected=1720.500\n",
            ">Predicted=1720.500, Expected=1734.600\n",
            ">Predicted=1734.600, Expected=1704.800\n",
            ">Predicted=1704.800, Expected=1710.300\n",
            ">Predicted=1710.300, Expected=1713.300\n",
            ">Predicted=1713.300, Expected=1736.900\n",
            ">Predicted=1736.900, Expected=1737.800\n",
            ">Predicted=1737.800, Expected=1725.200\n",
            ">Predicted=1725.200, Expected=1697.800\n",
            ">Predicted=1697.800, Expected=1718.900\n",
            ">Predicted=1718.900, Expected=1676.200\n",
            ">Predicted=1676.200, Expected=1698.300\n",
            ">Predicted=1698.300, Expected=1714.700\n",
            ">Predicted=1714.700, Expected=1713.300\n",
            ">Predicted=1713.300, Expected=1732.000\n",
            ">Predicted=1732.000, Expected=1729.300\n",
            ">Predicted=1729.300, Expected=1720.300\n",
            ">Predicted=1720.300, Expected=1729.600\n",
            ">Predicted=1729.600, Expected=1729.200\n",
            ">Predicted=1729.200, Expected=1724.800\n",
            ">Predicted=1724.800, Expected=1745.900\n",
            ">Predicted=1745.900, Expected=1756.700\n",
            ">Predicted=1756.700, Expected=1772.100\n",
            ">Predicted=1772.100, Expected=1765.800\n",
            ">Predicted=1765.800, Expected=1762.100\n",
            ">Predicted=1762.100, Expected=1772.500\n",
            ">Predicted=1772.500, Expected=1774.800\n",
            ">Predicted=1774.800, Expected=1793.000\n",
            ">Predicted=1793.000, Expected=1773.200\n",
            ">Predicted=1773.200, Expected=1784.000\n",
            ">Predicted=1784.000, Expected=1788.500\n",
            ">Predicted=1788.500, Expected=1804.200\n",
            ">Predicted=1804.200, Expected=1815.500\n",
            ">Predicted=1815.500, Expected=1799.200\n",
            ">Predicted=1799.200, Expected=1798.200\n",
            ">Predicted=1798.200, Expected=1811.000\n",
            ">Predicted=1811.000, Expected=1810.600\n",
            ">Predicted=1810.600, Expected=1811.400\n",
            ">Predicted=1811.400, Expected=1798.700\n",
            ">Predicted=1798.700, Expected=1808.300\n",
            ">Predicted=1808.300, Expected=1815.900\n",
            ">Predicted=1815.900, Expected=1842.400\n",
            ">Predicted=1842.400, Expected=1864.100\n",
            ">Predicted=1864.100, Expected=1889.100\n",
            ">Predicted=1889.100, Expected=1897.300\n",
            ">Predicted=1897.300, Expected=1931.000\n",
            ">Predicted=1931.000, Expected=1944.700\n",
            ">Predicted=1944.700, Expected=1953.500\n",
            ">Predicted=1953.500, Expected=1942.300\n",
            ">Predicted=1942.300, Expected=1962.800\n",
            ">Predicted=1962.800, Expected=1966.000\n",
            ">Predicted=1966.000, Expected=2001.200\n",
            ">Predicted=2001.200, Expected=2031.100\n",
            ">Predicted=2031.100, Expected=2051.500\n",
            ">Predicted=2051.500, Expected=2010.100\n",
            ">Predicted=2010.100, Expected=2024.400\n",
            ">Predicted=2024.400, Expected=1932.600\n",
            ">Predicted=1932.600, Expected=1934.900\n",
            ">Predicted=1934.900, Expected=1956.700\n",
            ">Predicted=1956.700, Expected=1937.000\n",
            ">Predicted=1937.000, Expected=1985.000\n",
            ">Predicted=1985.000, Expected=1999.400\n",
            ">Predicted=1999.400, Expected=1958.700\n",
            ">Predicted=1958.700, Expected=1933.800\n",
            ">Predicted=1933.800, Expected=1934.600\n",
            ">Predicted=1934.600, Expected=1927.700\n",
            ">Predicted=1927.700, Expected=1911.800\n",
            ">Predicted=1911.800, Expected=1940.700\n",
            ">Predicted=1940.700, Expected=1921.600\n",
            ">Predicted=1921.600, Expected=1964.600\n",
            ">Predicted=1964.600, Expected=1967.600\n",
            ">Predicted=1967.600, Expected=1968.200\n",
            ">Predicted=1968.200, Expected=1934.400\n",
            ">Predicted=1934.400, Expected=1927.600\n",
            ">Predicted=1927.600, Expected=1923.900\n",
            ">Predicted=1923.900, Expected=1933.000\n",
            ">Predicted=1933.000, Expected=1944.700\n",
            ">Predicted=1944.700, Expected=1954.200\n",
            ">Predicted=1954.200, Expected=1937.800\n",
            ">Predicted=1937.800, Expected=1953.100\n",
            ">Predicted=1953.100, Expected=1956.300\n",
            ">Predicted=1956.300, Expected=1960.200\n",
            ">Predicted=1960.200, Expected=1940.000\n",
            ">Predicted=1940.000, Expected=1952.100\n",
            ">Predicted=1952.100, Expected=1901.200\n",
            ">Predicted=1901.200, Expected=1898.600\n",
            ">Predicted=1898.600, Expected=1859.900\n",
            ">Predicted=1859.900, Expected=1868.300\n",
            ">Predicted=1868.300, Expected=1857.700\n",
            ">Predicted=1857.700, Expected=1872.800\n",
            ">Predicted=1872.800, Expected=1894.300\n",
            ">Predicted=1894.300, Expected=1887.500\n",
            ">Predicted=1887.500, Expected=1908.400\n",
            ">Predicted=1908.400, Expected=1900.200\n",
            ">Predicted=1900.200, Expected=1912.500\n",
            ">Predicted=1912.500, Expected=1901.100\n",
            ">Predicted=1901.100, Expected=1883.600\n",
            ">Predicted=1883.600, Expected=1888.600\n",
            ">Predicted=1888.600, Expected=1919.500\n",
            ">Predicted=1919.500, Expected=1922.500\n",
            ">Predicted=1922.500, Expected=1888.500\n",
            ">Predicted=1888.500, Expected=1901.300\n",
            ">Predicted=1901.300, Expected=1903.200\n",
            ">Predicted=1903.200, Expected=1900.800\n",
            ">Predicted=1900.800, Expected=1906.400\n",
            ">Predicted=1906.400, Expected=1910.400\n",
            ">Predicted=1910.400, Expected=1924.600\n",
            ">Predicted=1924.600, Expected=1901.100\n",
            ">Predicted=1901.100, Expected=1902.000\n",
            ">Predicted=1902.000, Expected=1902.700\n",
            ">Predicted=1902.700, Expected=1908.800\n",
            ">Predicted=1908.800, Expected=1876.200\n",
            ">Predicted=1876.200, Expected=1865.600\n",
            ">Predicted=1865.600, Expected=1877.400\n",
            ">Predicted=1877.400, Expected=1890.400\n",
            ">Predicted=1890.400, Expected=1908.500\n",
            ">Predicted=1908.500, Expected=1894.600\n",
            ">Predicted=1894.600, Expected=1945.300\n",
            ">Predicted=1945.300, Expected=1950.300\n",
            ">Predicted=1950.300, Expected=1853.200\n",
            ">Predicted=1853.200, Expected=1875.400\n",
            ">Predicted=1875.400, Expected=1860.700\n",
            ">Predicted=1860.700, Expected=1872.600\n",
            ">Predicted=1872.600, Expected=1885.700\n",
            ">Predicted=1885.700, Expected=1887.300\n",
            ">Predicted=1887.300, Expected=1884.500\n",
            ">Predicted=1884.500, Expected=1873.500\n",
            ">Predicted=1873.500, Expected=1861.100\n",
            ">Predicted=1861.100, Expected=1872.600\n",
            ">Predicted=1872.600, Expected=1837.800\n",
            ">Predicted=1837.800, Expected=1804.800\n",
            ">Predicted=1804.800, Expected=1805.700\n",
            ">Predicted=1805.700, Expected=1781.900\n",
            ">Predicted=1781.900, Expected=1775.700\n",
            ">Predicted=1775.700, Expected=1814.100\n",
            ">Predicted=1814.100, Expected=1825.700\n",
            ">Predicted=1825.700, Expected=1836.800\n",
            ">Predicted=1836.800, Expected=1835.900\n",
            ">Predicted=1835.900, Expected=1861.800\n",
            ">Predicted=1861.800, Expected=1870.800\n",
            ">Predicted=1870.800, Expected=1834.600\n",
            ">Predicted=1834.600, Expected=1833.600\n",
            ">Predicted=1833.600, Expected=1839.800\n",
            ">Predicted=1839.800, Expected=1828.700\n",
            ">Predicted=1828.700, Expected=1852.300\n",
            ">Predicted=1852.300, Expected=1856.100\n",
            ">Predicted=1856.100, Expected=1887.200\n",
            ">Predicted=1887.200, Expected=1885.700\n",
            ">Predicted=1885.700, Expected=1879.200\n",
            ">Predicted=1879.200, Expected=1866.600\n",
            ">Predicted=1866.600, Expected=1874.700\n",
            ">Predicted=1874.700, Expected=1879.900\n",
            ">Predicted=1879.900, Expected=1877.200\n",
            ">Predicted=1877.200, Expected=1879.700\n",
            ">Predicted=1879.700, Expected=1891.000\n",
            ">Predicted=1891.000, Expected=1893.100\n",
            ">Predicted=1893.100, Expected=1944.700\n",
            ">Predicted=1944.700, Expected=1952.700\n",
            ">Predicted=1952.700, Expected=1906.900\n",
            ">Predicted=1906.900, Expected=1912.300\n",
            ">Predicted=1912.300, Expected=1834.100\n",
            ">Predicted=1834.100, Expected=1849.600\n",
            ">Predicted=1849.600, Expected=1842.900\n",
            ">Predicted=1842.900, Expected=1853.600\n",
            ">Predicted=1853.600, Expected=1850.300\n",
            ">Predicted=1850.300, Expected=1829.300\n",
            ">Predicted=1829.300, Expected=1839.500\n",
            ">Predicted=1839.500, Expected=1865.900\n",
            ">Predicted=1865.900, Expected=1865.300\n",
            ">Predicted=1865.300, Expected=1855.700\n",
            ">Predicted=1855.700, Expected=1854.900\n",
            ">Predicted=1854.900, Expected=1850.700\n",
            ">Predicted=1850.700, Expected=1844.900\n",
            ">Predicted=1844.900, Expected=1837.900\n",
            ">Predicted=1837.900, Expected=1847.300\n",
            ">Predicted=1847.300, Expected=1860.800\n",
            ">Predicted=1860.800, Expected=1830.500\n",
            ">Predicted=1830.500, Expected=1832.200\n",
            ">Predicted=1832.200, Expected=1788.900\n",
            ">Predicted=1788.900, Expected=1810.900\n",
            ">Predicted=1810.900, Expected=1831.900\n",
            ">Predicted=1831.900, Expected=1835.300\n",
            ">Predicted=1835.300, Expected=1840.600\n",
            ">Predicted=1840.600, Expected=1824.900\n",
            ">Predicted=1824.900, Expected=1821.600\n",
            ">Predicted=1821.600, Expected=1797.200\n",
            ">Predicted=1797.200, Expected=1771.100\n",
            ">Predicted=1771.100, Expected=1773.400\n",
            ">Predicted=1773.400, Expected=1775.800\n",
            ">Predicted=1775.800, Expected=1806.700\n",
            ">Predicted=1806.700, Expected=1804.400\n",
            ">Predicted=1804.400, Expected=1796.400\n",
            ">Predicted=1796.400, Expected=1774.400\n",
            ">Predicted=1774.400, Expected=1728.100\n",
            ">Predicted=1728.100, Expected=1722.500\n",
            ">Predicted=1722.500, Expected=1733.100\n",
            ">Predicted=1733.100, Expected=1715.300\n",
            ">Predicted=1715.300, Expected=1700.200\n",
            ">Predicted=1700.200, Expected=1698.000\n",
            ">Predicted=1698.000, Expected=1677.700\n",
            ">Predicted=1677.700, Expected=1716.600\n",
            ">Predicted=1716.600, Expected=1721.500\n",
            ">Predicted=1721.500, Expected=1722.300\n",
            ">Predicted=1722.300, Expected=1719.500\n",
            ">Predicted=1719.500, Expected=1728.900\n",
            "RMSE: 22.650\n"
          ]
        }
      ]
    },
    {
      "cell_type": "markdown",
      "source": [
        "### **ARIMA Hyperparameters**"
      ],
      "metadata": {
        "id": "Swc54bwspZE6"
      }
    },
    {
      "cell_type": "code",
      "source": [
        "# grid search ARIMA parameters for a time series\n",
        "\n",
        "import warnings\n",
        "from pandas import read_csv\n",
        "from statsmodels.tsa.arima_model import ARIMA\n",
        "from sklearn.metrics import mean_squared_error\n",
        "from math import sqrt\n",
        "\n",
        "\n",
        "# evaluate an ARIMA model for a given order (p,d,q) and return RMSE\n",
        "def evaluate_arima_model(X, arima_order):\n",
        "# prepare training dataset\n",
        "    X = X.astype('float32')\n",
        "    train_size = int(len(X) * 0.50)\n",
        "    train, test = X[0:train_size], X[train_size:]\n",
        "    history = [x for x in train]\n",
        "# make predictions\n",
        "    predictions = list()\n",
        "    for t in range(len(test)):\n",
        "        model = ARIMA(history, order=arima_order)\n",
        "# model_fit = model.fit(disp=0)\n",
        "        model_fit = model.fit(disp=0)\n",
        "        yhat = model_fit.forecast()[0]\n",
        "        predictions.append(yhat)\n",
        "        history.append(test[t])\n",
        "# calculate out of sample error\n",
        "    rmse = sqrt(mean_squared_error(test, predictions))\n",
        "    return rmse"
      ],
      "metadata": {
        "id": "dgNmC1ozmVsc"
      },
      "execution_count": null,
      "outputs": []
    },
    {
      "cell_type": "markdown",
      "source": [
        "### **Grid search for p,d,q values**"
      ],
      "metadata": {
        "id": "Y7I-F-DQpN5U"
      }
    },
    {
      "cell_type": "code",
      "source": [
        "# evaluate combinations of p, d and q values for an ARIMA model\n",
        "def evaluate_models(dataset, p_values, d_values, q_values):\n",
        "    dataset = dataset.astype('float32')\n",
        "    best_score, best_cfg = float('inf'), None\n",
        "    for p in p_values:\n",
        "        for d in d_values:\n",
        "            for q in q_values:\n",
        "                order = (p,d,q)\n",
        "                try:\n",
        "                    rmse = evaluate_arima_model(train, order)\n",
        "                    if rmse < best_score:\n",
        "                        best_score, best_cfg = rmse, order\n",
        "                    print('ARIMA%s RMSE=%.3f' % (order,rmse))\n",
        "                except:\n",
        "                    continue\n",
        "    print('Best ARIMA%s RMSE=%.3f' % (best_cfg, best_score))"
      ],
      "metadata": {
        "id": "1kTFGriJmVvL"
      },
      "execution_count": null,
      "outputs": []
    },
    {
      "cell_type": "code",
      "source": [
        "# load dataset\n",
        "train = read_csv('dataset.csv', header=None, index_col=0, parse_dates=True, squeeze=True)\n",
        "# evaluate parameters\n",
        "p_values = range(0, 3)\n",
        "d_values = range(0, 3)\n",
        "q_values = range(0, 3)\n",
        "warnings.filterwarnings(\"ignore\")\n",
        "evaluate_models(train.values, p_values, d_values, q_values)"
      ],
      "metadata": {
        "colab": {
          "base_uri": "https://localhost:8080/"
        },
        "id": "sb06aog9mVxw",
        "outputId": "5fd2b775-af2c-4c2b-f128-98c6bbecef8a"
      },
      "execution_count": null,
      "outputs": [
        {
          "output_type": "stream",
          "name": "stdout",
          "text": [
            "ARIMA(0, 0, 0) RMSE=340.046\n",
            "ARIMA(0, 0, 1) RMSE=179.053\n",
            "ARIMA(0, 1, 0) RMSE=20.948\n",
            "ARIMA(0, 1, 1) RMSE=21.039\n",
            "ARIMA(0, 1, 2) RMSE=21.141\n",
            "ARIMA(0, 2, 0) RMSE=29.812\n",
            "ARIMA(0, 2, 1) RMSE=21.023\n",
            "ARIMA(1, 0, 0) RMSE=20.979\n",
            "ARIMA(1, 1, 0) RMSE=21.049\n",
            "ARIMA(1, 2, 0) RMSE=25.509\n",
            "ARIMA(1, 2, 1) RMSE=21.128\n",
            "ARIMA(2, 0, 0) RMSE=21.778\n",
            "ARIMA(2, 1, 0) RMSE=21.135\n",
            "ARIMA(2, 1, 1) RMSE=21.197\n",
            "ARIMA(2, 2, 0) RMSE=24.497\n",
            "Best ARIMA(0, 1, 0) RMSE=20.948\n"
          ]
        }
      ]
    },
    {
      "cell_type": "markdown",
      "source": [
        "### **Build Model based on the optimized values**"
      ],
      "metadata": {
        "id": "oA4CaeO0sd2d"
      }
    },
    {
      "cell_type": "code",
      "source": [
        "# save finalized model to file\n",
        "from pandas import read_csv\n",
        "from statsmodels.tsa.arima_model import ARIMA\n",
        "import numpy"
      ],
      "metadata": {
        "id": "7XIT8u1dmV0O"
      },
      "execution_count": 184,
      "outputs": []
    },
    {
      "cell_type": "code",
      "source": [
        "# load data\n",
        "train = read_csv('dataset.csv', header=0, index_col=0, parse_dates=True)\n",
        "# prepare data\n",
        "X = train.values\n",
        "X = X.astype('float32')"
      ],
      "metadata": {
        "id": "8M5RqtGTmV3B"
      },
      "execution_count": 185,
      "outputs": []
    },
    {
      "cell_type": "code",
      "source": [
        "# fit model\n",
        "model = ARIMA(X, order=(0,1,0))\n",
        "model_fit = model.fit()\n",
        "forecast=model_fit.forecast(steps=200)[0]\n",
        "model_fit.plot_predict(1, 1004)\n",
        "plt.show()"
      ],
      "metadata": {
        "colab": {
          "base_uri": "https://localhost:8080/",
          "height": 377
        },
        "id": "ifFimA2qsuDr",
        "outputId": "f0ffa403-14c6-4be4-c543-7b733f09ed3e"
      },
      "execution_count": 186,
      "outputs": [
        {
          "output_type": "display_data",
          "data": {
            "image/png": "[encoded data removed]",
            "text/plain": [
              "<Figure size 720x432 with 1 Axes>"
            ]
          },
          "metadata": {}
        }
      ]
    },
    {
      "cell_type": "code",
      "source": [
        "#Error on the test data\n",
        "val=pd.read_csv('validation.csv',header=None)\n",
        "rmse = sqrt(mean_squared_error(val[1], forecast))\n",
        "rmse"
      ],
      "metadata": {
        "colab": {
          "base_uri": "https://localhost:8080/"
        },
        "id": "RtrhVr-ssuAD",
        "outputId": "a1b6c2fd-dae4-4392-ce2c-56d8d4b8d5cd"
      },
      "execution_count": null,
      "outputs": [
        {
          "output_type": "execute_result",
          "data": {
            "text/plain": [
              "54.2776720598264"
            ]
          },
          "metadata": {},
          "execution_count": 165
        }
      ]
    },
    {
      "cell_type": "code",
      "source": [
        "val[1]"
      ],
      "metadata": {
        "colab": {
          "base_uri": "https://localhost:8080/"
        },
        "id": "lrD6IT3KC8cE",
        "outputId": "4fba2210-ed43-48cf-da86-7984e655162e"
      },
      "execution_count": null,
      "outputs": [
        {
          "output_type": "execute_result",
          "data": {
            "text/plain": [
              "0      1726.800049\n",
              "1      1732.199951\n",
              "2      1741.400024\n",
              "3      1737.800049\n",
              "4      1724.699951\n",
              "          ...     \n",
              "195    1787.900024\n",
              "196    1801.599976\n",
              "197    1811.199951\n",
              "198    1808.099976\n",
              "199    1810.199951\n",
              "Name: 1, Length: 200, dtype: float64"
            ]
          },
          "metadata": {},
          "execution_count": 166
        }
      ]
    },
    {
      "cell_type": "code",
      "source": [
        "forecast"
      ],
      "metadata": {
        "colab": {
          "base_uri": "https://localhost:8080/"
        },
        "id": "gMZQaXVKCl-j",
        "outputId": "b8649980-9802-40ad-972c-47bb948800c3"
      },
      "execution_count": null,
      "outputs": [
        {
          "output_type": "execute_result",
          "data": {
            "text/plain": [
              "array([1729.41461303, 1729.92920165, 1730.44379027, 1730.95837889,\n",
              "       1731.47296751, 1731.98755613, 1732.50214475, 1733.01673337,\n",
              "       1733.53132199, 1734.04591061, 1734.56049923, 1735.07508785,\n",
              "       1735.58967647, 1736.10426509, 1736.61885371, 1737.13344233,\n",
              "       1737.64803095, 1738.16261957, 1738.67720819, 1739.19179681,\n",
              "       1739.70638543, 1740.22097405, 1740.73556267, 1741.25015129,\n",
              "       1741.76473991, 1742.27932853, 1742.79391715, 1743.30850577,\n",
              "       1743.82309439, 1744.33768301, 1744.85227163, 1745.36686025,\n",
              "       1745.88144887, 1746.39603749, 1746.91062611, 1747.42521473,\n",
              "       1747.93980335, 1748.45439197, 1748.96898059, 1749.48356921,\n",
              "       1749.99815783, 1750.51274645, 1751.02733507, 1751.54192369,\n",
              "       1752.05651231, 1752.57110093, 1753.08568955, 1753.60027817,\n",
              "       1754.11486679, 1754.62945541, 1755.14404403, 1755.65863265,\n",
              "       1756.17322127, 1756.68780989, 1757.20239851, 1757.71698713,\n",
              "       1758.23157575, 1758.74616437, 1759.26075299, 1759.77534161,\n",
              "       1760.28993023, 1760.80451885, 1761.31910747, 1761.83369609,\n",
              "       1762.34828471, 1762.86287333, 1763.37746195, 1763.89205057,\n",
              "       1764.40663919, 1764.92122781, 1765.43581643, 1765.95040505,\n",
              "       1766.46499367, 1766.97958229, 1767.49417091, 1768.00875953,\n",
              "       1768.52334815, 1769.03793677, 1769.55252539, 1770.06711401,\n",
              "       1770.58170263, 1771.09629125, 1771.61087987, 1772.12546849,\n",
              "       1772.64005711, 1773.15464573, 1773.66923435, 1774.18382297,\n",
              "       1774.69841159, 1775.21300021, 1775.72758883, 1776.24217745,\n",
              "       1776.75676607, 1777.27135469, 1777.78594331, 1778.30053193,\n",
              "       1778.81512055, 1779.32970917, 1779.84429779, 1780.35888641,\n",
              "       1780.87347503, 1781.38806365, 1781.90265227, 1782.41724089,\n",
              "       1782.93182951, 1783.44641813, 1783.96100675, 1784.47559537,\n",
              "       1784.99018399, 1785.50477261, 1786.01936123, 1786.53394985,\n",
              "       1787.04853847, 1787.56312709, 1788.07771571, 1788.59230433,\n",
              "       1789.10689295, 1789.62148157, 1790.13607019, 1790.65065881,\n",
              "       1791.16524743, 1791.67983605, 1792.19442467, 1792.70901329,\n",
              "       1793.22360191, 1793.73819053, 1794.25277915, 1794.76736777,\n",
              "       1795.28195639, 1795.79654501, 1796.31113363, 1796.82572225,\n",
              "       1797.34031087, 1797.85489949, 1798.36948811, 1798.88407673,\n",
              "       1799.39866535, 1799.91325397, 1800.42784259, 1800.94243121,\n",
              "       1801.45701983, 1801.97160845, 1802.48619707, 1803.00078569,\n",
              "       1803.51537431, 1804.02996293, 1804.54455155, 1805.05914017,\n",
              "       1805.57372879, 1806.08831741, 1806.60290603, 1807.11749465,\n",
              "       1807.63208327, 1808.14667189, 1808.66126051, 1809.17584913,\n",
              "       1809.69043775, 1810.20502637, 1810.71961499, 1811.23420361,\n",
              "       1811.74879223, 1812.26338085, 1812.77796947, 1813.29255809,\n",
              "       1813.80714671, 1814.32173533, 1814.83632395, 1815.35091257,\n",
              "       1815.86550119, 1816.38008981, 1816.89467843, 1817.40926705,\n",
              "       1817.92385567, 1818.43844429, 1818.95303291, 1819.46762153,\n",
              "       1819.98221015, 1820.49679877, 1821.01138739, 1821.52597601,\n",
              "       1822.04056463, 1822.55515325, 1823.06974187, 1823.58433049,\n",
              "       1824.09891911, 1824.61350773, 1825.12809635, 1825.64268497,\n",
              "       1826.15727359, 1826.67186221, 1827.18645083, 1827.70103945,\n",
              "       1828.21562807, 1828.73021669, 1829.24480531, 1829.75939393,\n",
              "       1830.27398255, 1830.78857117, 1831.30315979, 1831.81774841])"
            ]
          },
          "metadata": {},
          "execution_count": 167
        }
      ]
    },
    {
      "cell_type": "markdown",
      "source": [
        "### **Combine train and test data and build final model**"
      ],
      "metadata": {
        "id": "B8hLYWQRugRq"
      }
    },
    {
      "cell_type": "code",
      "source": [
        "# fit model\n",
        "#data = read_csv('data', header=0, index_col=0, parse_dates=True)\n",
        "# prepare data\n",
        "X = data.values\n",
        "X = X.astype('float32')"
      ],
      "metadata": {
        "id": "1hBb6mnzstpz"
      },
      "execution_count": 188,
      "outputs": []
    },
    {
      "cell_type": "code",
      "source": [
        "model = ARIMA(X, order=(0,1,0))\n",
        "model_fit = model.fit()"
      ],
      "metadata": {
        "id": "jPP31eRtstWG"
      },
      "execution_count": 189,
      "outputs": []
    },
    {
      "cell_type": "code",
      "source": [
        "forecast_final=model_fit.forecast(steps=30)[0]\n",
        "model_fit.plot_predict(1,1034)\n",
        "plt.show()"
      ],
      "metadata": {
        "colab": {
          "base_uri": "https://localhost:8080/",
          "height": 377
        },
        "id": "8t8hwtlXstTp",
        "outputId": "16ff2a26-e4d6-4310-f1d1-2e68b7663a6b"
      },
      "execution_count": 190,
      "outputs": [
        {
          "output_type": "display_data",
          "data": {
            "image/png": "[encoded data removed]",
            "text/plain": [
              "<Figure size 720x432 with 1 Axes>"
            ]
          },
          "metadata": {}
        }
      ]
    },
    {
      "cell_type": "code",
      "source": [
        "forecast_final"
      ],
      "metadata": {
        "colab": {
          "base_uri": "https://localhost:8080/"
        },
        "id": "Gp-HgTYgstRO",
        "outputId": "7810148f-01d8-4189-98d1-242dcda1ec74"
      },
      "execution_count": 191,
      "outputs": [
        {
          "output_type": "execute_result",
          "data": {
            "text/plain": [
              "array([1810.69447308, 1811.188995  , 1811.68351691, 1812.17803882,\n",
              "       1812.67256073, 1813.16708265, 1813.66160456, 1814.15612647,\n",
              "       1814.65064838, 1815.1451703 , 1815.63969221, 1816.13421412,\n",
              "       1816.62873603, 1817.12325794, 1817.61777986, 1818.11230177,\n",
              "       1818.60682368, 1819.10134559, 1819.59586751, 1820.09038942,\n",
              "       1820.58491133, 1821.07943324, 1821.57395516, 1822.06847707,\n",
              "       1822.56299898, 1823.05752089, 1823.55204281, 1824.04656472,\n",
              "       1824.54108663, 1825.03560854])"
            ]
          },
          "metadata": {},
          "execution_count": 191
        }
      ]
    },
    {
      "cell_type": "code",
      "source": [
        ""
      ],
      "metadata": {
        "id": "amDmJ02HudFq"
      },
      "execution_count": null,
      "outputs": []
    }
  ]
}