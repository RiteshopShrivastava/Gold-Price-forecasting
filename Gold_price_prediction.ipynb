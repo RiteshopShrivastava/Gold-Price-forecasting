{
  "nbformat": 4,
  "nbformat_minor": 0,
  "metadata": {
    "colab": {
      "name": "Gold_price_prediction.ipynb",
      "provenance": [],
      "collapsed_sections": [],
      "include_colab_link": true
    },
    "kernelspec": {
      "name": "python3",
      "display_name": "Python 3"
    },
    "language_info": {
      "name": "python"
    }
  },
  "cells": [
    {
      "cell_type": "markdown",
      "metadata": {
        "id": "view-in-github",
        "colab_type": "text"
      },
      "source": [
        "<a href=\"https://colab.research.google.com/github/RiteshopShrivastava/Gold-Price-forecasting/blob/main/Gold_price_prediction.ipynb\" target=\"_parent\"><img src=\"https://colab.research.google.com/assets/colab-badge.svg\" alt=\"Open In Colab\"/></a>"
      ]
    },
    {
      "cell_type": "markdown",
      "source": [
        "## **Gold Price Prediction** \n",
        "**Objective :**- Forecasting gold price for next 30 days based on historical data.\n",
        "(Considering last four years of historical data)"
      ],
      "metadata": {
        "id": "xEF5x6qhDvcY"
      }
    },
    {
      "cell_type": "code",
      "source": [
        "!pip install yfinance"
      ],
      "metadata": {
        "id": "LKSZgKQfVrSY",
        "colab": {
          "base_uri": "https://localhost:8080/"
        },
        "outputId": "d2833606-3750-43ba-df18-b158ad17e50c"
      },
      "execution_count": 1,
      "outputs": [
        {
          "output_type": "stream",
          "name": "stdout",
          "text": [
            "Collecting yfinance\n",
            "  Downloading yfinance-0.1.68-py2.py3-none-any.whl (26 kB)\n",
            "Requirement already satisfied: pandas>=0.24 in /usr/local/lib/python3.7/dist-packages (from yfinance) (1.1.5)\n",
            "Collecting lxml>=4.5.1\n",
            "  Downloading lxml-4.7.1-cp37-cp37m-manylinux_2_17_x86_64.manylinux2014_x86_64.manylinux_2_24_x86_64.whl (6.4 MB)\n",
            "\u001b[K     |████████████████████████████████| 6.4 MB 6.3 MB/s \n",
            "\u001b[?25hCollecting requests>=2.26\n",
            "  Downloading requests-2.27.1-py2.py3-none-any.whl (63 kB)\n",
            "\u001b[K     |████████████████████████████████| 63 kB 1.5 MB/s \n",
            "\u001b[?25hRequirement already satisfied: multitasking>=0.0.7 in /usr/local/lib/python3.7/dist-packages (from yfinance) (0.0.10)\n",
            "Requirement already satisfied: numpy>=1.15 in /usr/local/lib/python3.7/dist-packages (from yfinance) (1.19.5)\n",
            "Requirement already satisfied: pytz>=2017.2 in /usr/local/lib/python3.7/dist-packages (from pandas>=0.24->yfinance) (2018.9)\n",
            "Requirement already satisfied: python-dateutil>=2.7.3 in /usr/local/lib/python3.7/dist-packages (from pandas>=0.24->yfinance) (2.8.2)\n",
            "Requirement already satisfied: six>=1.5 in /usr/local/lib/python3.7/dist-packages (from python-dateutil>=2.7.3->pandas>=0.24->yfinance) (1.15.0)\n",
            "Requirement already satisfied: idna<4,>=2.5 in /usr/local/lib/python3.7/dist-packages (from requests>=2.26->yfinance) (2.10)\n",
            "Requirement already satisfied: charset-normalizer~=2.0.0 in /usr/local/lib/python3.7/dist-packages (from requests>=2.26->yfinance) (2.0.9)\n",
            "Requirement already satisfied: urllib3<1.27,>=1.21.1 in /usr/local/lib/python3.7/dist-packages (from requests>=2.26->yfinance) (1.24.3)\n",
            "Requirement already satisfied: certifi>=2017.4.17 in /usr/local/lib/python3.7/dist-packages (from requests>=2.26->yfinance) (2021.10.8)\n",
            "Installing collected packages: requests, lxml, yfinance\n",
            "  Attempting uninstall: requests\n",
            "    Found existing installation: requests 2.23.0\n",
            "    Uninstalling requests-2.23.0:\n",
            "      Successfully uninstalled requests-2.23.0\n",
            "  Attempting uninstall: lxml\n",
            "    Found existing installation: lxml 4.2.6\n",
            "    Uninstalling lxml-4.2.6:\n",
            "      Successfully uninstalled lxml-4.2.6\n",
            "\u001b[31mERROR: pip's dependency resolver does not currently take into account all the packages that are installed. This behaviour is the source of the following dependency conflicts.\n",
            "google-colab 1.0.0 requires requests~=2.23.0, but you have requests 2.27.1 which is incompatible.\n",
            "datascience 0.10.6 requires folium==0.2.1, but you have folium 0.8.3 which is incompatible.\u001b[0m\n",
            "Successfully installed lxml-4.7.1 requests-2.27.1 yfinance-0.1.68\n"
          ]
        }
      ]
    },
    {
      "cell_type": "code",
      "execution_count": 2,
      "metadata": {
        "id": "d-5LaPLgWw4z",
        "colab": {
          "base_uri": "https://localhost:8080/"
        },
        "outputId": "5c5510de-a8be-47b4-fd20-864273d13c78"
      },
      "outputs": [
        {
          "output_type": "stream",
          "name": "stderr",
          "text": [
            "/usr/local/lib/python3.7/dist-packages/statsmodels/tools/_testing.py:19: FutureWarning: pandas.util.testing is deprecated. Use the functions in the public API at pandas.testing instead.\n",
            "  import pandas.util.testing as tm\n"
          ]
        }
      ],
      "source": [
        "import numpy as np\n",
        "import pandas as pd\n",
        "import yfinance as yf\n",
        "from datetime import date\n",
        "import matplotlib.pyplot as plt\n",
        "from statsmodels.graphics.tsaplots import plot_acf\n",
        "from statsmodels.graphics.tsaplots import plot_pacf\n",
        "from statsmodels.tsa.stattools import adfuller\n",
        "from statsmodels.tsa.seasonal import seasonal_decompose"
      ]
    },
    {
      "cell_type": "code",
      "source": [
        "start='2018-01-01'\n",
        "end=date.today().strftime('%Y-%m-%d')\n",
        "data=yf.download('GC=F',start=start,end=end)"
      ],
      "metadata": {
        "colab": {
          "base_uri": "https://localhost:8080/"
        },
        "id": "nAz6gG0vZVA7",
        "outputId": "dffd2c37-7707-41ad-cddd-72041fd3bf55"
      },
      "execution_count": 72,
      "outputs": [
        {
          "output_type": "stream",
          "name": "stdout",
          "text": [
            "\r[*********************100%***********************]  1 of 1 completed\n"
          ]
        }
      ]
    },
    {
      "cell_type": "code",
      "source": [
        "data=yf.download('GC=F',start=start,end=end)[['Adj Close']]\n",
        "data"
      ],
      "metadata": {
        "colab": {
          "base_uri": "https://localhost:8080/",
          "height": 472
        },
        "id": "bV0-8Ys-dRJ6",
        "outputId": "77a4c125-8008-47a1-d847-62a242ead140"
      },
      "execution_count": 73,
      "outputs": [
        {
          "output_type": "stream",
          "name": "stdout",
          "text": [
            "\r[*********************100%***********************]  1 of 1 completed\n"
          ]
        },
        {
          "output_type": "execute_result",
          "data": {
            "text/html": [
              "\n",
              "  <div id=\"df-3f066e96-d695-48fb-9ff1-906ad50cc2bc\">\n",
              "    <div class=\"colab-df-container\">\n",
              "      <div>\n",
              "<style scoped>\n",
              "    .dataframe tbody tr th:only-of-type {\n",
              "        vertical-align: middle;\n",
              "    }\n",
              "\n",
              "    .dataframe tbody tr th {\n",
              "        vertical-align: top;\n",
              "    }\n",
              "\n",
              "    .dataframe thead th {\n",
              "        text-align: right;\n",
              "    }\n",
              "</style>\n",
              "<table border=\"1\" class=\"dataframe\">\n",
              "  <thead>\n",
              "    <tr style=\"text-align: right;\">\n",
              "      <th></th>\n",
              "      <th>Adj Close</th>\n",
              "    </tr>\n",
              "    <tr>\n",
              "      <th>Date</th>\n",
              "      <th></th>\n",
              "    </tr>\n",
              "  </thead>\n",
              "  <tbody>\n",
              "    <tr>\n",
              "      <th>2018-01-02</th>\n",
              "      <td>1313.699951</td>\n",
              "    </tr>\n",
              "    <tr>\n",
              "      <th>2018-01-03</th>\n",
              "      <td>1316.199951</td>\n",
              "    </tr>\n",
              "    <tr>\n",
              "      <th>2018-01-04</th>\n",
              "      <td>1319.400024</td>\n",
              "    </tr>\n",
              "    <tr>\n",
              "      <th>2018-01-05</th>\n",
              "      <td>1320.300049</td>\n",
              "    </tr>\n",
              "    <tr>\n",
              "      <th>2018-01-08</th>\n",
              "      <td>1318.599976</td>\n",
              "    </tr>\n",
              "    <tr>\n",
              "      <th>...</th>\n",
              "      <td>...</td>\n",
              "    </tr>\n",
              "    <tr>\n",
              "      <th>2022-01-03</th>\n",
              "      <td>1799.400024</td>\n",
              "    </tr>\n",
              "    <tr>\n",
              "      <th>2022-01-04</th>\n",
              "      <td>1814.000000</td>\n",
              "    </tr>\n",
              "    <tr>\n",
              "      <th>2022-01-05</th>\n",
              "      <td>1824.599976</td>\n",
              "    </tr>\n",
              "    <tr>\n",
              "      <th>2022-01-06</th>\n",
              "      <td>1788.699951</td>\n",
              "    </tr>\n",
              "    <tr>\n",
              "      <th>2022-01-07</th>\n",
              "      <td>1797.000000</td>\n",
              "    </tr>\n",
              "  </tbody>\n",
              "</table>\n",
              "<p>1013 rows × 1 columns</p>\n",
              "</div>\n",
              "      <button class=\"colab-df-convert\" onclick=\"convertToInteractive('df-3f066e96-d695-48fb-9ff1-906ad50cc2bc')\"\n",
              "              title=\"Convert this dataframe to an interactive table.\"\n",
              "              style=\"display:none;\">\n",
              "        \n",
              "  <svg xmlns=\"http://www.w3.org/2000/svg\" height=\"24px\"viewBox=\"0 0 24 24\"\n",
              "       width=\"24px\">\n",
              "    <path d=\"M0 0h24v24H0V0z\" fill=\"none\"/>\n",
              "    <path d=\"M18.56 5.44l.94 2.06.94-2.06 2.06-.94-2.06-.94-.94-2.06-.94 2.06-2.06.94zm-11 1L8.5 8.5l.94-2.06 2.06-.94-2.06-.94L8.5 2.5l-.94 2.06-2.06.94zm10 10l.94 2.06.94-2.06 2.06-.94-2.06-.94-.94-2.06-.94 2.06-2.06.94z\"/><path d=\"M17.41 7.96l-1.37-1.37c-.4-.4-.92-.59-1.43-.59-.52 0-1.04.2-1.43.59L10.3 9.45l-7.72 7.72c-.78.78-.78 2.05 0 2.83L4 21.41c.39.39.9.59 1.41.59.51 0 1.02-.2 1.41-.59l7.78-7.78 2.81-2.81c.8-.78.8-2.07 0-2.86zM5.41 20L4 18.59l7.72-7.72 1.47 1.35L5.41 20z\"/>\n",
              "  </svg>\n",
              "      </button>\n",
              "      \n",
              "  <style>\n",
              "    .colab-df-container {\n",
              "      display:flex;\n",
              "      flex-wrap:wrap;\n",
              "      gap: 12px;\n",
              "    }\n",
              "\n",
              "    .colab-df-convert {\n",
              "      background-color: #E8F0FE;\n",
              "      border: none;\n",
              "      border-radius: 50%;\n",
              "      cursor: pointer;\n",
              "      display: none;\n",
              "      fill: #1967D2;\n",
              "      height: 32px;\n",
              "      padding: 0 0 0 0;\n",
              "      width: 32px;\n",
              "    }\n",
              "\n",
              "    .colab-df-convert:hover {\n",
              "      background-color: #E2EBFA;\n",
              "      box-shadow: 0px 1px 2px rgba(60, 64, 67, 0.3), 0px 1px 3px 1px rgba(60, 64, 67, 0.15);\n",
              "      fill: #174EA6;\n",
              "    }\n",
              "\n",
              "    [theme=dark] .colab-df-convert {\n",
              "      background-color: #3B4455;\n",
              "      fill: #D2E3FC;\n",
              "    }\n",
              "\n",
              "    [theme=dark] .colab-df-convert:hover {\n",
              "      background-color: #434B5C;\n",
              "      box-shadow: 0px 1px 3px 1px rgba(0, 0, 0, 0.15);\n",
              "      filter: drop-shadow(0px 1px 2px rgba(0, 0, 0, 0.3));\n",
              "      fill: #FFFFFF;\n",
              "    }\n",
              "  </style>\n",
              "\n",
              "      <script>\n",
              "        const buttonEl =\n",
              "          document.querySelector('#df-3f066e96-d695-48fb-9ff1-906ad50cc2bc button.colab-df-convert');\n",
              "        buttonEl.style.display =\n",
              "          google.colab.kernel.accessAllowed ? 'block' : 'none';\n",
              "\n",
              "        async function convertToInteractive(key) {\n",
              "          const element = document.querySelector('#df-3f066e96-d695-48fb-9ff1-906ad50cc2bc');\n",
              "          const dataTable =\n",
              "            await google.colab.kernel.invokeFunction('convertToInteractive',\n",
              "                                                     [key], {});\n",
              "          if (!dataTable) return;\n",
              "\n",
              "          const docLinkHtml = 'Like what you see? Visit the ' +\n",
              "            '<a target=\"_blank\" href=https://colab.research.google.com/notebooks/data_table.ipynb>data table notebook</a>'\n",
              "            + ' to learn more about interactive tables.';\n",
              "          element.innerHTML = '';\n",
              "          dataTable['output_type'] = 'display_data';\n",
              "          await google.colab.output.renderOutput(dataTable, element);\n",
              "          const docLink = document.createElement('div');\n",
              "          docLink.innerHTML = docLinkHtml;\n",
              "          element.appendChild(docLink);\n",
              "        }\n",
              "      </script>\n",
              "    </div>\n",
              "  </div>\n",
              "  "
            ],
            "text/plain": [
              "              Adj Close\n",
              "Date                   \n",
              "2018-01-02  1313.699951\n",
              "2018-01-03  1316.199951\n",
              "2018-01-04  1319.400024\n",
              "2018-01-05  1320.300049\n",
              "2018-01-08  1318.599976\n",
              "...                 ...\n",
              "2022-01-03  1799.400024\n",
              "2022-01-04  1814.000000\n",
              "2022-01-05  1824.599976\n",
              "2022-01-06  1788.699951\n",
              "2022-01-07  1797.000000\n",
              "\n",
              "[1013 rows x 1 columns]"
            ]
          },
          "metadata": {},
          "execution_count": 73
        }
      ]
    },
    {
      "cell_type": "code",
      "source": [
        "data.rename(columns={\"Adj Close\": 'Price'},inplace=True)"
      ],
      "metadata": {
        "id": "37PRnVZoJ-O0"
      },
      "execution_count": 74,
      "outputs": []
    },
    {
      "cell_type": "code",
      "source": [
        "data.head()"
      ],
      "metadata": {
        "colab": {
          "base_uri": "https://localhost:8080/",
          "height": 238
        },
        "id": "RQiWI53aZ-aA",
        "outputId": "836ac33a-6d7b-4fa0-ccbc-1f733369ca73"
      },
      "execution_count": 75,
      "outputs": [
        {
          "output_type": "execute_result",
          "data": {
            "text/html": [
              "\n",
              "  <div id=\"df-66c76bb0-38c4-4ea8-985a-e6d34743f854\">\n",
              "    <div class=\"colab-df-container\">\n",
              "      <div>\n",
              "<style scoped>\n",
              "    .dataframe tbody tr th:only-of-type {\n",
              "        vertical-align: middle;\n",
              "    }\n",
              "\n",
              "    .dataframe tbody tr th {\n",
              "        vertical-align: top;\n",
              "    }\n",
              "\n",
              "    .dataframe thead th {\n",
              "        text-align: right;\n",
              "    }\n",
              "</style>\n",
              "<table border=\"1\" class=\"dataframe\">\n",
              "  <thead>\n",
              "    <tr style=\"text-align: right;\">\n",
              "      <th></th>\n",
              "      <th>Price</th>\n",
              "    </tr>\n",
              "    <tr>\n",
              "      <th>Date</th>\n",
              "      <th></th>\n",
              "    </tr>\n",
              "  </thead>\n",
              "  <tbody>\n",
              "    <tr>\n",
              "      <th>2018-01-02</th>\n",
              "      <td>1313.699951</td>\n",
              "    </tr>\n",
              "    <tr>\n",
              "      <th>2018-01-03</th>\n",
              "      <td>1316.199951</td>\n",
              "    </tr>\n",
              "    <tr>\n",
              "      <th>2018-01-04</th>\n",
              "      <td>1319.400024</td>\n",
              "    </tr>\n",
              "    <tr>\n",
              "      <th>2018-01-05</th>\n",
              "      <td>1320.300049</td>\n",
              "    </tr>\n",
              "    <tr>\n",
              "      <th>2018-01-08</th>\n",
              "      <td>1318.599976</td>\n",
              "    </tr>\n",
              "  </tbody>\n",
              "</table>\n",
              "</div>\n",
              "      <button class=\"colab-df-convert\" onclick=\"convertToInteractive('df-66c76bb0-38c4-4ea8-985a-e6d34743f854')\"\n",
              "              title=\"Convert this dataframe to an interactive table.\"\n",
              "              style=\"display:none;\">\n",
              "        \n",
              "  <svg xmlns=\"http://www.w3.org/2000/svg\" height=\"24px\"viewBox=\"0 0 24 24\"\n",
              "       width=\"24px\">\n",
              "    <path d=\"M0 0h24v24H0V0z\" fill=\"none\"/>\n",
              "    <path d=\"M18.56 5.44l.94 2.06.94-2.06 2.06-.94-2.06-.94-.94-2.06-.94 2.06-2.06.94zm-11 1L8.5 8.5l.94-2.06 2.06-.94-2.06-.94L8.5 2.5l-.94 2.06-2.06.94zm10 10l.94 2.06.94-2.06 2.06-.94-2.06-.94-.94-2.06-.94 2.06-2.06.94z\"/><path d=\"M17.41 7.96l-1.37-1.37c-.4-.4-.92-.59-1.43-.59-.52 0-1.04.2-1.43.59L10.3 9.45l-7.72 7.72c-.78.78-.78 2.05 0 2.83L4 21.41c.39.39.9.59 1.41.59.51 0 1.02-.2 1.41-.59l7.78-7.78 2.81-2.81c.8-.78.8-2.07 0-2.86zM5.41 20L4 18.59l7.72-7.72 1.47 1.35L5.41 20z\"/>\n",
              "  </svg>\n",
              "      </button>\n",
              "      \n",
              "  <style>\n",
              "    .colab-df-container {\n",
              "      display:flex;\n",
              "      flex-wrap:wrap;\n",
              "      gap: 12px;\n",
              "    }\n",
              "\n",
              "    .colab-df-convert {\n",
              "      background-color: #E8F0FE;\n",
              "      border: none;\n",
              "      border-radius: 50%;\n",
              "      cursor: pointer;\n",
              "      display: none;\n",
              "      fill: #1967D2;\n",
              "      height: 32px;\n",
              "      padding: 0 0 0 0;\n",
              "      width: 32px;\n",
              "    }\n",
              "\n",
              "    .colab-df-convert:hover {\n",
              "      background-color: #E2EBFA;\n",
              "      box-shadow: 0px 1px 2px rgba(60, 64, 67, 0.3), 0px 1px 3px 1px rgba(60, 64, 67, 0.15);\n",
              "      fill: #174EA6;\n",
              "    }\n",
              "\n",
              "    [theme=dark] .colab-df-convert {\n",
              "      background-color: #3B4455;\n",
              "      fill: #D2E3FC;\n",
              "    }\n",
              "\n",
              "    [theme=dark] .colab-df-convert:hover {\n",
              "      background-color: #434B5C;\n",
              "      box-shadow: 0px 1px 3px 1px rgba(0, 0, 0, 0.15);\n",
              "      filter: drop-shadow(0px 1px 2px rgba(0, 0, 0, 0.3));\n",
              "      fill: #FFFFFF;\n",
              "    }\n",
              "  </style>\n",
              "\n",
              "      <script>\n",
              "        const buttonEl =\n",
              "          document.querySelector('#df-66c76bb0-38c4-4ea8-985a-e6d34743f854 button.colab-df-convert');\n",
              "        buttonEl.style.display =\n",
              "          google.colab.kernel.accessAllowed ? 'block' : 'none';\n",
              "\n",
              "        async function convertToInteractive(key) {\n",
              "          const element = document.querySelector('#df-66c76bb0-38c4-4ea8-985a-e6d34743f854');\n",
              "          const dataTable =\n",
              "            await google.colab.kernel.invokeFunction('convertToInteractive',\n",
              "                                                     [key], {});\n",
              "          if (!dataTable) return;\n",
              "\n",
              "          const docLinkHtml = 'Like what you see? Visit the ' +\n",
              "            '<a target=\"_blank\" href=https://colab.research.google.com/notebooks/data_table.ipynb>data table notebook</a>'\n",
              "            + ' to learn more about interactive tables.';\n",
              "          element.innerHTML = '';\n",
              "          dataTable['output_type'] = 'display_data';\n",
              "          await google.colab.output.renderOutput(dataTable, element);\n",
              "          const docLink = document.createElement('div');\n",
              "          docLink.innerHTML = docLinkHtml;\n",
              "          element.appendChild(docLink);\n",
              "        }\n",
              "      </script>\n",
              "    </div>\n",
              "  </div>\n",
              "  "
            ],
            "text/plain": [
              "                  Price\n",
              "Date                   \n",
              "2018-01-02  1313.699951\n",
              "2018-01-03  1316.199951\n",
              "2018-01-04  1319.400024\n",
              "2018-01-05  1320.300049\n",
              "2018-01-08  1318.599976"
            ]
          },
          "metadata": {},
          "execution_count": 75
        }
      ]
    },
    {
      "cell_type": "code",
      "source": [
        "data.tail()"
      ],
      "metadata": {
        "colab": {
          "base_uri": "https://localhost:8080/",
          "height": 238
        },
        "id": "R14sbyh3aA-P",
        "outputId": "1ef67716-21c8-4106-c1a1-e7c199de18e5"
      },
      "execution_count": 76,
      "outputs": [
        {
          "output_type": "execute_result",
          "data": {
            "text/html": [
              "\n",
              "  <div id=\"df-1036c23a-3478-4672-86fa-78884a20d99e\">\n",
              "    <div class=\"colab-df-container\">\n",
              "      <div>\n",
              "<style scoped>\n",
              "    .dataframe tbody tr th:only-of-type {\n",
              "        vertical-align: middle;\n",
              "    }\n",
              "\n",
              "    .dataframe tbody tr th {\n",
              "        vertical-align: top;\n",
              "    }\n",
              "\n",
              "    .dataframe thead th {\n",
              "        text-align: right;\n",
              "    }\n",
              "</style>\n",
              "<table border=\"1\" class=\"dataframe\">\n",
              "  <thead>\n",
              "    <tr style=\"text-align: right;\">\n",
              "      <th></th>\n",
              "      <th>Price</th>\n",
              "    </tr>\n",
              "    <tr>\n",
              "      <th>Date</th>\n",
              "      <th></th>\n",
              "    </tr>\n",
              "  </thead>\n",
              "  <tbody>\n",
              "    <tr>\n",
              "      <th>2022-01-03</th>\n",
              "      <td>1799.400024</td>\n",
              "    </tr>\n",
              "    <tr>\n",
              "      <th>2022-01-04</th>\n",
              "      <td>1814.000000</td>\n",
              "    </tr>\n",
              "    <tr>\n",
              "      <th>2022-01-05</th>\n",
              "      <td>1824.599976</td>\n",
              "    </tr>\n",
              "    <tr>\n",
              "      <th>2022-01-06</th>\n",
              "      <td>1788.699951</td>\n",
              "    </tr>\n",
              "    <tr>\n",
              "      <th>2022-01-07</th>\n",
              "      <td>1797.000000</td>\n",
              "    </tr>\n",
              "  </tbody>\n",
              "</table>\n",
              "</div>\n",
              "      <button class=\"colab-df-convert\" onclick=\"convertToInteractive('df-1036c23a-3478-4672-86fa-78884a20d99e')\"\n",
              "              title=\"Convert this dataframe to an interactive table.\"\n",
              "              style=\"display:none;\">\n",
              "        \n",
              "  <svg xmlns=\"http://www.w3.org/2000/svg\" height=\"24px\"viewBox=\"0 0 24 24\"\n",
              "       width=\"24px\">\n",
              "    <path d=\"M0 0h24v24H0V0z\" fill=\"none\"/>\n",
              "    <path d=\"M18.56 5.44l.94 2.06.94-2.06 2.06-.94-2.06-.94-.94-2.06-.94 2.06-2.06.94zm-11 1L8.5 8.5l.94-2.06 2.06-.94-2.06-.94L8.5 2.5l-.94 2.06-2.06.94zm10 10l.94 2.06.94-2.06 2.06-.94-2.06-.94-.94-2.06-.94 2.06-2.06.94z\"/><path d=\"M17.41 7.96l-1.37-1.37c-.4-.4-.92-.59-1.43-.59-.52 0-1.04.2-1.43.59L10.3 9.45l-7.72 7.72c-.78.78-.78 2.05 0 2.83L4 21.41c.39.39.9.59 1.41.59.51 0 1.02-.2 1.41-.59l7.78-7.78 2.81-2.81c.8-.78.8-2.07 0-2.86zM5.41 20L4 18.59l7.72-7.72 1.47 1.35L5.41 20z\"/>\n",
              "  </svg>\n",
              "      </button>\n",
              "      \n",
              "  <style>\n",
              "    .colab-df-container {\n",
              "      display:flex;\n",
              "      flex-wrap:wrap;\n",
              "      gap: 12px;\n",
              "    }\n",
              "\n",
              "    .colab-df-convert {\n",
              "      background-color: #E8F0FE;\n",
              "      border: none;\n",
              "      border-radius: 50%;\n",
              "      cursor: pointer;\n",
              "      display: none;\n",
              "      fill: #1967D2;\n",
              "      height: 32px;\n",
              "      padding: 0 0 0 0;\n",
              "      width: 32px;\n",
              "    }\n",
              "\n",
              "    .colab-df-convert:hover {\n",
              "      background-color: #E2EBFA;\n",
              "      box-shadow: 0px 1px 2px rgba(60, 64, 67, 0.3), 0px 1px 3px 1px rgba(60, 64, 67, 0.15);\n",
              "      fill: #174EA6;\n",
              "    }\n",
              "\n",
              "    [theme=dark] .colab-df-convert {\n",
              "      background-color: #3B4455;\n",
              "      fill: #D2E3FC;\n",
              "    }\n",
              "\n",
              "    [theme=dark] .colab-df-convert:hover {\n",
              "      background-color: #434B5C;\n",
              "      box-shadow: 0px 1px 3px 1px rgba(0, 0, 0, 0.15);\n",
              "      filter: drop-shadow(0px 1px 2px rgba(0, 0, 0, 0.3));\n",
              "      fill: #FFFFFF;\n",
              "    }\n",
              "  </style>\n",
              "\n",
              "      <script>\n",
              "        const buttonEl =\n",
              "          document.querySelector('#df-1036c23a-3478-4672-86fa-78884a20d99e button.colab-df-convert');\n",
              "        buttonEl.style.display =\n",
              "          google.colab.kernel.accessAllowed ? 'block' : 'none';\n",
              "\n",
              "        async function convertToInteractive(key) {\n",
              "          const element = document.querySelector('#df-1036c23a-3478-4672-86fa-78884a20d99e');\n",
              "          const dataTable =\n",
              "            await google.colab.kernel.invokeFunction('convertToInteractive',\n",
              "                                                     [key], {});\n",
              "          if (!dataTable) return;\n",
              "\n",
              "          const docLinkHtml = 'Like what you see? Visit the ' +\n",
              "            '<a target=\"_blank\" href=https://colab.research.google.com/notebooks/data_table.ipynb>data table notebook</a>'\n",
              "            + ' to learn more about interactive tables.';\n",
              "          element.innerHTML = '';\n",
              "          dataTable['output_type'] = 'display_data';\n",
              "          await google.colab.output.renderOutput(dataTable, element);\n",
              "          const docLink = document.createElement('div');\n",
              "          docLink.innerHTML = docLinkHtml;\n",
              "          element.appendChild(docLink);\n",
              "        }\n",
              "      </script>\n",
              "    </div>\n",
              "  </div>\n",
              "  "
            ],
            "text/plain": [
              "                  Price\n",
              "Date                   \n",
              "2022-01-03  1799.400024\n",
              "2022-01-04  1814.000000\n",
              "2022-01-05  1824.599976\n",
              "2022-01-06  1788.699951\n",
              "2022-01-07  1797.000000"
            ]
          },
          "metadata": {},
          "execution_count": 76
        }
      ]
    },
    {
      "cell_type": "code",
      "source": [
        "train = data.head(800)\n",
        "test = data.tail(213)"
      ],
      "metadata": {
        "id": "uHPUeBTBiaVI"
      },
      "execution_count": 38,
      "outputs": []
    },
    {
      "cell_type": "markdown",
      "source": [
        "## **EDA**"
      ],
      "metadata": {
        "id": "l9bkAnzueXNo"
      }
    },
    {
      "cell_type": "code",
      "source": [
        "data.info()"
      ],
      "metadata": {
        "colab": {
          "base_uri": "https://localhost:8080/"
        },
        "id": "xO0ZJf9ud4rz",
        "outputId": "1c2bd6ec-6b6e-49c3-d41f-461408994fa6"
      },
      "execution_count": 77,
      "outputs": [
        {
          "output_type": "stream",
          "name": "stdout",
          "text": [
            "<class 'pandas.core.frame.DataFrame'>\n",
            "DatetimeIndex: 1013 entries, 2018-01-02 to 2022-01-07\n",
            "Data columns (total 1 columns):\n",
            " #   Column  Non-Null Count  Dtype  \n",
            "---  ------  --------------  -----  \n",
            " 0   Price   1013 non-null   float64\n",
            "dtypes: float64(1)\n",
            "memory usage: 15.8 KB\n"
          ]
        }
      ]
    },
    {
      "cell_type": "markdown",
      "source": [
        "**Line chart**"
      ],
      "metadata": {
        "id": "3oNLY6tm-0PN"
      }
    },
    {
      "cell_type": "code",
      "source": [
        "import seaborn as sns\n",
        "plt.figure(figsize=(20,7))\n",
        "sns.set(style='darkgrid')\n",
        "sns.lineplot( y=\"Price\", x=\"Date\", data=data)\n",
        "#sns.lineplot( y=\"Price\", x=data.index, data=data)\n",
        "plt.title(\" Gold Price movement throughout our Observation\")\n",
        "plt.ylabel('Gold Price')\n",
        "plt.show()"
      ],
      "metadata": {
        "colab": {
          "base_uri": "https://localhost:8080/",
          "height": 464
        },
        "id": "G0jX5jYEjVVA",
        "outputId": "7b1d2cb4-8b37-4f30-c7a0-39cada9d5c55"
      },
      "execution_count": 78,
      "outputs": [
        {
          "output_type": "display_data",
          "data": {
            "image/png": "[encoded data removed]",
            "text/plain": [
              "<Figure size 1440x504 with 1 Axes>"
            ]
          },
          "metadata": {}
        }
      ]
    },
    {
      "cell_type": "markdown",
      "source": [
        "**Another Way to draw line chart**"
      ],
      "metadata": {
        "id": "p8UU18pt-vCU"
      }
    },
    {
      "cell_type": "code",
      "source": [
        "#from IPython.core.pylabtools import figsize\n",
        "#plt.figure(figsize=(20,7))\n",
        "#data.Price.plot()\n",
        "#plt.title(\" Gold Price movement throughout our Observation\")\n",
        "#plt.ylabel('Gold Price')\n",
        "#plt.show()"
      ],
      "metadata": {
        "id": "I8-r0sSagau6"
      },
      "execution_count": null,
      "outputs": []
    },
    {
      "cell_type": "code",
      "source": [
        "data.isnull().sum()"
      ],
      "metadata": {
        "colab": {
          "base_uri": "https://localhost:8080/"
        },
        "id": "gSvV6xbmJyeU",
        "outputId": "ccc47866-5621-48f7-f2f2-dae8e5de5a7e"
      },
      "execution_count": 80,
      "outputs": [
        {
          "output_type": "execute_result",
          "data": {
            "text/plain": [
              "Price    0\n",
              "dtype: int64"
            ]
          },
          "metadata": {},
          "execution_count": 80
        }
      ]
    },
    {
      "cell_type": "code",
      "source": [
        "print(len(data))"
      ],
      "metadata": {
        "colab": {
          "base_uri": "https://localhost:8080/"
        },
        "id": "e0By_1GPbvM7",
        "outputId": "edeb8683-3649-4b77-ba1e-1f9a1d363b94"
      },
      "execution_count": 81,
      "outputs": [
        {
          "output_type": "stream",
          "name": "stdout",
          "text": [
            "1013\n"
          ]
        }
      ]
    },
    {
      "cell_type": "code",
      "source": [
        "data.describe().T"
      ],
      "metadata": {
        "colab": {
          "base_uri": "https://localhost:8080/",
          "height": 81
        },
        "id": "SO9B_2FhKUvK",
        "outputId": "33246e93-4840-4cf9-a9c3-57468ecdbc6e"
      },
      "execution_count": 82,
      "outputs": [
        {
          "output_type": "execute_result",
          "data": {
            "text/html": [
              "\n",
              "  <div id=\"df-e41cf02d-467e-488d-a5ba-ae432cc15279\">\n",
              "    <div class=\"colab-df-container\">\n",
              "      <div>\n",
              "<style scoped>\n",
              "    .dataframe tbody tr th:only-of-type {\n",
              "        vertical-align: middle;\n",
              "    }\n",
              "\n",
              "    .dataframe tbody tr th {\n",
              "        vertical-align: top;\n",
              "    }\n",
              "\n",
              "    .dataframe thead th {\n",
              "        text-align: right;\n",
              "    }\n",
              "</style>\n",
              "<table border=\"1\" class=\"dataframe\">\n",
              "  <thead>\n",
              "    <tr style=\"text-align: right;\">\n",
              "      <th></th>\n",
              "      <th>count</th>\n",
              "      <th>mean</th>\n",
              "      <th>std</th>\n",
              "      <th>min</th>\n",
              "      <th>25%</th>\n",
              "      <th>50%</th>\n",
              "      <th>75%</th>\n",
              "      <th>max</th>\n",
              "    </tr>\n",
              "  </thead>\n",
              "  <tbody>\n",
              "    <tr>\n",
              "      <th>Price</th>\n",
              "      <td>1013.0</td>\n",
              "      <td>1560.023789</td>\n",
              "      <td>249.376143</td>\n",
              "      <td>1176.199951</td>\n",
              "      <td>1311.599976</td>\n",
              "      <td>1541.0</td>\n",
              "      <td>1792.699951</td>\n",
              "      <td>2051.5</td>\n",
              "    </tr>\n",
              "  </tbody>\n",
              "</table>\n",
              "</div>\n",
              "      <button class=\"colab-df-convert\" onclick=\"convertToInteractive('df-e41cf02d-467e-488d-a5ba-ae432cc15279')\"\n",
              "              title=\"Convert this dataframe to an interactive table.\"\n",
              "              style=\"display:none;\">\n",
              "        \n",
              "  <svg xmlns=\"http://www.w3.org/2000/svg\" height=\"24px\"viewBox=\"0 0 24 24\"\n",
              "       width=\"24px\">\n",
              "    <path d=\"M0 0h24v24H0V0z\" fill=\"none\"/>\n",
              "    <path d=\"M18.56 5.44l.94 2.06.94-2.06 2.06-.94-2.06-.94-.94-2.06-.94 2.06-2.06.94zm-11 1L8.5 8.5l.94-2.06 2.06-.94-2.06-.94L8.5 2.5l-.94 2.06-2.06.94zm10 10l.94 2.06.94-2.06 2.06-.94-2.06-.94-.94-2.06-.94 2.06-2.06.94z\"/><path d=\"M17.41 7.96l-1.37-1.37c-.4-.4-.92-.59-1.43-.59-.52 0-1.04.2-1.43.59L10.3 9.45l-7.72 7.72c-.78.78-.78 2.05 0 2.83L4 21.41c.39.39.9.59 1.41.59.51 0 1.02-.2 1.41-.59l7.78-7.78 2.81-2.81c.8-.78.8-2.07 0-2.86zM5.41 20L4 18.59l7.72-7.72 1.47 1.35L5.41 20z\"/>\n",
              "  </svg>\n",
              "      </button>\n",
              "      \n",
              "  <style>\n",
              "    .colab-df-container {\n",
              "      display:flex;\n",
              "      flex-wrap:wrap;\n",
              "      gap: 12px;\n",
              "    }\n",
              "\n",
              "    .colab-df-convert {\n",
              "      background-color: #E8F0FE;\n",
              "      border: none;\n",
              "      border-radius: 50%;\n",
              "      cursor: pointer;\n",
              "      display: none;\n",
              "      fill: #1967D2;\n",
              "      height: 32px;\n",
              "      padding: 0 0 0 0;\n",
              "      width: 32px;\n",
              "    }\n",
              "\n",
              "    .colab-df-convert:hover {\n",
              "      background-color: #E2EBFA;\n",
              "      box-shadow: 0px 1px 2px rgba(60, 64, 67, 0.3), 0px 1px 3px 1px rgba(60, 64, 67, 0.15);\n",
              "      fill: #174EA6;\n",
              "    }\n",
              "\n",
              "    [theme=dark] .colab-df-convert {\n",
              "      background-color: #3B4455;\n",
              "      fill: #D2E3FC;\n",
              "    }\n",
              "\n",
              "    [theme=dark] .colab-df-convert:hover {\n",
              "      background-color: #434B5C;\n",
              "      box-shadow: 0px 1px 3px 1px rgba(0, 0, 0, 0.15);\n",
              "      filter: drop-shadow(0px 1px 2px rgba(0, 0, 0, 0.3));\n",
              "      fill: #FFFFFF;\n",
              "    }\n",
              "  </style>\n",
              "\n",
              "      <script>\n",
              "        const buttonEl =\n",
              "          document.querySelector('#df-e41cf02d-467e-488d-a5ba-ae432cc15279 button.colab-df-convert');\n",
              "        buttonEl.style.display =\n",
              "          google.colab.kernel.accessAllowed ? 'block' : 'none';\n",
              "\n",
              "        async function convertToInteractive(key) {\n",
              "          const element = document.querySelector('#df-e41cf02d-467e-488d-a5ba-ae432cc15279');\n",
              "          const dataTable =\n",
              "            await google.colab.kernel.invokeFunction('convertToInteractive',\n",
              "                                                     [key], {});\n",
              "          if (!dataTable) return;\n",
              "\n",
              "          const docLinkHtml = 'Like what you see? Visit the ' +\n",
              "            '<a target=\"_blank\" href=https://colab.research.google.com/notebooks/data_table.ipynb>data table notebook</a>'\n",
              "            + ' to learn more about interactive tables.';\n",
              "          element.innerHTML = '';\n",
              "          dataTable['output_type'] = 'display_data';\n",
              "          await google.colab.output.renderOutput(dataTable, element);\n",
              "          const docLink = document.createElement('div');\n",
              "          docLink.innerHTML = docLinkHtml;\n",
              "          element.appendChild(docLink);\n",
              "        }\n",
              "      </script>\n",
              "    </div>\n",
              "  </div>\n",
              "  "
            ],
            "text/plain": [
              "        count         mean         std  ...     50%          75%     max\n",
              "Price  1013.0  1560.023789  249.376143  ...  1541.0  1792.699951  2051.5\n",
              "\n",
              "[1 rows x 8 columns]"
            ]
          },
          "metadata": {},
          "execution_count": 82
        }
      ]
    },
    {
      "cell_type": "markdown",
      "source": [
        "### **Checking for Stationarity in data using Dickey-Fuller test**"
      ],
      "metadata": {
        "id": "hgt3w9dpzzEh"
      }
    },
    {
      "cell_type": "code",
      "source": [
        "X = data['Price'].values\n",
        "\n",
        "result = adfuller(X)\n",
        "#print(result)\n",
        "print('ADF Statistic: %f' % result[0])\n",
        "print('p-value: %f' % result[1])\n",
        "print('Critical Values:')\n",
        "print(f'Inference: Time Series is {\"non\" if result[1]>=0.05 else\" \"} stationary')"
      ],
      "metadata": {
        "colab": {
          "base_uri": "https://localhost:8080/"
        },
        "id": "CoERL5cLupIU",
        "outputId": "f3b7d1b1-6bed-4882-a76e-b4ea9290c6f5"
      },
      "execution_count": 83,
      "outputs": [
        {
          "output_type": "stream",
          "name": "stdout",
          "text": [
            "ADF Statistic: -0.750097\n",
            "p-value: 0.833343\n",
            "Critical Values:\n",
            "Inference: Time Series is non stationary\n"
          ]
        }
      ]
    },
    {
      "cell_type": "markdown",
      "source": [
        "## **As the p-value > 0.05, we Fail to reject the null hypothesis (H0), the data has a unit root and is non-stationary.**"
      ],
      "metadata": {
        "id": "QTEJoJ4l1GFD"
      }
    },
    {
      "cell_type": "markdown",
      "source": [
        "### **Auto correlation graph**"
      ],
      "metadata": {
        "id": "3M-NNkMZm00W"
      }
    },
    {
      "cell_type": "code",
      "source": [
        "plt.rc(\"figure\", figsize=(10,6))\n",
        "plot_acf(data['Price'],lags=35)\n",
        "plt.show()"
      ],
      "metadata": {
        "colab": {
          "base_uri": "https://localhost:8080/",
          "height": 393
        },
        "id": "OytGUlDAmlUa",
        "outputId": "627b4210-f428-4776-8226-444bd0ef17c3"
      },
      "execution_count": 84,
      "outputs": [
        {
          "output_type": "display_data",
          "data": {
            "image/png": "[encoded data removed]",
            "text/plain": [
              "<Figure size 720x432 with 1 Axes>"
            ]
          },
          "metadata": {}
        }
      ]
    },
    {
      "cell_type": "markdown",
      "source": [
        "### **PACF graph**"
      ],
      "metadata": {
        "id": "6oM19RDam4Oo"
      }
    },
    {
      "cell_type": "code",
      "source": [
        "plot_pacf(data['Price'],lags=35)\n",
        "plt.show()"
      ],
      "metadata": {
        "colab": {
          "base_uri": "https://localhost:8080/",
          "height": 393
        },
        "id": "wuXqzcVym31x",
        "outputId": "c661e755-764c-43e8-c62c-731e0581f4e1"
      },
      "execution_count": 85,
      "outputs": [
        {
          "output_type": "display_data",
          "data": {
            "image/png": "[encoded data removed]",
            "text/plain": [
              "<Figure size 720x432 with 1 Axes>"
            ]
          },
          "metadata": {}
        }
      ]
    },
    {
      "cell_type": "markdown",
      "source": [
        "## **DIFFERENCE TRANSFORM to remove Seasonality**"
      ],
      "metadata": {
        "id": "a4ayENu_1a-5"
      }
    },
    {
      "cell_type": "code",
      "source": [
        "data_without_sea = data.diff().dropna()"
      ],
      "metadata": {
        "id": "8hHYumdQ0JBk"
      },
      "execution_count": 86,
      "outputs": []
    },
    {
      "cell_type": "code",
      "source": [
        "data_without_sea.info()"
      ],
      "metadata": {
        "colab": {
          "base_uri": "https://localhost:8080/"
        },
        "id": "aIrmUbJ4c1Hb",
        "outputId": "ded9f986-85ce-4dc2-83ed-8316b3c5a71f"
      },
      "execution_count": 87,
      "outputs": [
        {
          "output_type": "stream",
          "name": "stdout",
          "text": [
            "<class 'pandas.core.frame.DataFrame'>\n",
            "DatetimeIndex: 1012 entries, 2018-01-03 to 2022-01-07\n",
            "Data columns (total 1 columns):\n",
            " #   Column  Non-Null Count  Dtype  \n",
            "---  ------  --------------  -----  \n",
            " 0   Price   1012 non-null   float64\n",
            "dtypes: float64(1)\n",
            "memory usage: 15.8 KB\n"
          ]
        }
      ]
    },
    {
      "cell_type": "markdown",
      "source": [
        "### **Again checking for Stationarity in data using Dickey-Fuller test**"
      ],
      "metadata": {
        "id": "hqLroG-oadYV"
      }
    },
    {
      "cell_type": "code",
      "source": [
        "X = data_without_sea['Price'].values\n",
        "result = adfuller(X)\n",
        "#print(result)\n",
        "print('ADF Statistic: %f' % result[0])\n",
        "print('p-value: %f' % result[1])\n",
        "print('Critical Values:')\n",
        "print(f'Inference: Time Series is {\"non\" if result[1]>=0.05 else\" \"}stationary')"
      ],
      "metadata": {
        "colab": {
          "base_uri": "https://localhost:8080/"
        },
        "id": "1HuA8bT1XmK1",
        "outputId": "aa00ec2a-9db3-45a0-86b3-b964f577988b"
      },
      "execution_count": 88,
      "outputs": [
        {
          "output_type": "stream",
          "name": "stdout",
          "text": [
            "ADF Statistic: -14.784295\n",
            "p-value: 0.000000\n",
            "Critical Values:\n",
            "Inference: Time Series is  stationary\n"
          ]
        }
      ]
    },
    {
      "cell_type": "markdown",
      "source": [
        "### **Auto correlation graph after 1 step differencing**"
      ],
      "metadata": {
        "id": "1Vj3Ftsub-pF"
      }
    },
    {
      "cell_type": "code",
      "source": [
        "plt.rc(\"figure\", figsize=(10,6))\n",
        "plot_acf(data_without_sea['Price'], lags=35)\n",
        "plt.show()"
      ],
      "metadata": {
        "colab": {
          "base_uri": "https://localhost:8080/",
          "height": 393
        },
        "id": "16x-RvEzXmHg",
        "outputId": "3151cab6-d448-470e-a613-56fb603c2add"
      },
      "execution_count": 89,
      "outputs": [
        {
          "output_type": "display_data",
          "data": {
            "image/png": "[encoded data removed]",
            "text/plain": [
              "<Figure size 720x432 with 1 Axes>"
            ]
          },
          "metadata": {}
        }
      ]
    },
    {
      "cell_type": "markdown",
      "source": [
        "### **Partial Auto Correlation graph after differencing**"
      ],
      "metadata": {
        "id": "JEOTD_mznUN6"
      }
    },
    {
      "cell_type": "code",
      "source": [
        "plt.rc(\"figure\", figsize=(10,6))\n",
        "plot_pacf(data_without_sea)\n",
        "plt.show()"
      ],
      "metadata": {
        "colab": {
          "base_uri": "https://localhost:8080/",
          "height": 393
        },
        "id": "U-4AbjmqXmFO",
        "outputId": "9d68dbb6-1c21-4b55-d70a-f7c403adc136"
      },
      "execution_count": 90,
      "outputs": [
        {
          "output_type": "display_data",
          "data": {
            "image/png": "[encoded data removed]",
            "text/plain": [
              "<Figure size 720x432 with 1 Axes>"
            ]
          },
          "metadata": {}
        }
      ]
    },
    {
      "cell_type": "code",
      "source": [
        "plt.plot(data_without_sea)\n",
        "plt.show()"
      ],
      "metadata": {
        "colab": {
          "base_uri": "https://localhost:8080/",
          "height": 377
        },
        "id": "4WeFmOSpRDEi",
        "outputId": "59036021-3654-4ab0-cd10-6d61586fba34"
      },
      "execution_count": 91,
      "outputs": [
        {
          "output_type": "display_data",
          "data": {
            "image/png": "[encoded data removed]",
            "text/plain": [
              "<Figure size 720x432 with 1 Axes>"
            ]
          },
          "metadata": {}
        }
      ]
    },
    {
      "cell_type": "code",
      "source": [
        ""
      ],
      "metadata": {
        "id": "idhQJnfwR-CA"
      },
      "execution_count": null,
      "outputs": []
    },
    {
      "cell_type": "code",
      "source": [
        "data_without_sea.info()"
      ],
      "metadata": {
        "colab": {
          "base_uri": "https://localhost:8080/"
        },
        "id": "YryDYbrKc41b",
        "outputId": "6efcb06f-4452-49b7-e064-51b0b3eaba48"
      },
      "execution_count": 92,
      "outputs": [
        {
          "output_type": "stream",
          "name": "stdout",
          "text": [
            "<class 'pandas.core.frame.DataFrame'>\n",
            "DatetimeIndex: 1012 entries, 2018-01-03 to 2022-01-07\n",
            "Data columns (total 1 columns):\n",
            " #   Column  Non-Null Count  Dtype  \n",
            "---  ------  --------------  -----  \n",
            " 0   Price   1012 non-null   float64\n",
            "dtypes: float64(1)\n",
            "memory usage: 15.8 KB\n"
          ]
        }
      ]
    },
    {
      "cell_type": "code",
      "source": [
        "train = data.head(800)\n",
        "test = data.tail(212)"
      ],
      "metadata": {
        "id": "6BAbQThvicaq"
      },
      "execution_count": 93,
      "outputs": []
    },
    {
      "cell_type": "code",
      "source": [
        "# separate out a validation dataset\n",
        "\n",
        "print('Dataset %d, Validation %d' % (len(train), len(test)))\n",
        "#train_data = pd.DataFrame(data_without_sea)\n",
        "train.to_csv('dataset.csv', header=False)\n",
        "test.to_csv('validation.csv', header=False)"
      ],
      "metadata": {
        "colab": {
          "base_uri": "https://localhost:8080/"
        },
        "id": "Vrt6mgxsmTMg",
        "outputId": "1a4fb05a-c2a9-428e-ebb2-cde01d5653e3"
      },
      "execution_count": 95,
      "outputs": [
        {
          "output_type": "stream",
          "name": "stdout",
          "text": [
            "Dataset 800, Validation 212\n"
          ]
        }
      ]
    },
    {
      "cell_type": "code",
      "source": [
        ""
      ],
      "metadata": {
        "id": "27bsITzAdp2V"
      },
      "execution_count": 58,
      "outputs": []
    },
    {
      "cell_type": "markdown",
      "source": [
        "### **Persistence/ Base model**"
      ],
      "metadata": {
        "id": "1T1bd-ndpnX2"
      }
    },
    {
      "cell_type": "code",
      "source": [
        "# evaluate a persistence model\n",
        "from pandas import read_csv\n",
        "from sklearn.metrics import mean_squared_error\n",
        "from math import sqrt\n",
        "# load data\n",
        "train = read_csv('dataset.csv', header=None, index_col=0, parse_dates=True, squeeze=True)\n",
        "# prepare data\n",
        "X = train.values\n",
        "X = X.astype('float32')\n",
        "train_size = int(len(X) * 0.70)\n",
        "train, test = X[0:train_size], X[train_size:]"
      ],
      "metadata": {
        "id": "H3P2F45LXl72"
      },
      "execution_count": 96,
      "outputs": []
    },
    {
      "cell_type": "code",
      "source": [
        "# walk-forward validation\n",
        "history = [x for x in train]\n",
        "predictions = list()\n",
        "for i in range(len(test)):\n",
        "    yhat = history[-1]\n",
        "    predictions.append(yhat)\n",
        "# observation\n",
        "    obs = test[i]\n",
        "    history.append(obs)\n",
        "    print('>Predicted=%.3f, Expected=%.3f' % (yhat, obs))\n",
        "# report performance\n",
        "rmse = sqrt(mean_squared_error(test, predictions))\n",
        "print('RMSE: %.3f' % rmse)"
      ],
      "metadata": {
        "colab": {
          "base_uri": "https://localhost:8080/"
        },
        "id": "LJqe6jdhmVog",
        "outputId": "f6c27a1e-46c7-40df-f1b5-795840b08537"
      },
      "execution_count": 97,
      "outputs": [
        {
          "output_type": "stream",
          "name": "stdout",
          "text": [
            ">Predicted=1632.300, Expected=1650.100\n",
            ">Predicted=1650.100, Expected=1623.900\n",
            ">Predicted=1623.900, Expected=1622.000\n",
            ">Predicted=1622.000, Expected=1583.400\n",
            ">Predicted=1583.400, Expected=1578.200\n",
            ">Predicted=1578.200, Expected=1625.700\n",
            ">Predicted=1625.700, Expected=1633.700\n",
            ">Predicted=1633.700, Expected=1677.000\n",
            ">Predicted=1677.000, Expected=1664.800\n",
            ">Predicted=1664.800, Expected=1665.400\n",
            ">Predicted=1665.400, Expected=1736.200\n",
            ">Predicted=1736.200, Expected=1744.800\n",
            ">Predicted=1744.800, Expected=1756.700\n",
            ">Predicted=1756.700, Expected=1727.200\n",
            ">Predicted=1727.200, Expected=1720.400\n",
            ">Predicted=1720.400, Expected=1689.200\n",
            ">Predicted=1689.200, Expected=1701.600\n",
            ">Predicted=1701.600, Expected=1678.200\n",
            ">Predicted=1678.200, Expected=1728.700\n",
            ">Predicted=1728.700, Expected=1733.300\n",
            ">Predicted=1733.300, Expected=1723.500\n",
            ">Predicted=1723.500, Expected=1711.900\n",
            ">Predicted=1711.900, Expected=1710.500\n",
            ">Predicted=1710.500, Expected=1703.400\n",
            ">Predicted=1703.400, Expected=1684.200\n",
            ">Predicted=1684.200, Expected=1694.500\n",
            ">Predicted=1694.500, Expected=1706.900\n",
            ">Predicted=1706.900, Expected=1704.400\n",
            ">Predicted=1704.400, Expected=1684.200\n",
            ">Predicted=1684.200, Expected=1721.800\n",
            ">Predicted=1721.800, Expected=1709.900\n",
            ">Predicted=1709.900, Expected=1695.300\n",
            ">Predicted=1695.300, Expected=1704.400\n",
            ">Predicted=1704.400, Expected=1713.900\n",
            ">Predicted=1713.900, Expected=1738.100\n",
            ">Predicted=1738.100, Expected=1753.400\n",
            ">Predicted=1753.400, Expected=1731.800\n",
            ">Predicted=1731.800, Expected=1744.200\n",
            ">Predicted=1744.200, Expected=1750.600\n",
            ">Predicted=1750.600, Expected=1720.500\n",
            ">Predicted=1720.500, Expected=1734.600\n",
            ">Predicted=1734.600, Expected=1704.800\n",
            ">Predicted=1704.800, Expected=1710.300\n",
            ">Predicted=1710.300, Expected=1713.300\n",
            ">Predicted=1713.300, Expected=1736.900\n",
            ">Predicted=1736.900, Expected=1737.800\n",
            ">Predicted=1737.800, Expected=1725.200\n",
            ">Predicted=1725.200, Expected=1697.800\n",
            ">Predicted=1697.800, Expected=1718.900\n",
            ">Predicted=1718.900, Expected=1676.200\n",
            ">Predicted=1676.200, Expected=1698.300\n",
            ">Predicted=1698.300, Expected=1714.700\n",
            ">Predicted=1714.700, Expected=1713.300\n",
            ">Predicted=1713.300, Expected=1732.000\n",
            ">Predicted=1732.000, Expected=1729.300\n",
            ">Predicted=1729.300, Expected=1720.300\n",
            ">Predicted=1720.300, Expected=1729.600\n",
            ">Predicted=1729.600, Expected=1729.200\n",
            ">Predicted=1729.200, Expected=1724.800\n",
            ">Predicted=1724.800, Expected=1745.900\n",
            ">Predicted=1745.900, Expected=1756.700\n",
            ">Predicted=1756.700, Expected=1772.100\n",
            ">Predicted=1772.100, Expected=1765.800\n",
            ">Predicted=1765.800, Expected=1762.100\n",
            ">Predicted=1762.100, Expected=1772.500\n",
            ">Predicted=1772.500, Expected=1774.800\n",
            ">Predicted=1774.800, Expected=1793.000\n",
            ">Predicted=1793.000, Expected=1773.200\n",
            ">Predicted=1773.200, Expected=1784.000\n",
            ">Predicted=1784.000, Expected=1788.500\n",
            ">Predicted=1788.500, Expected=1804.200\n",
            ">Predicted=1804.200, Expected=1815.500\n",
            ">Predicted=1815.500, Expected=1799.200\n",
            ">Predicted=1799.200, Expected=1798.200\n",
            ">Predicted=1798.200, Expected=1811.000\n",
            ">Predicted=1811.000, Expected=1810.600\n",
            ">Predicted=1810.600, Expected=1811.400\n",
            ">Predicted=1811.400, Expected=1798.700\n",
            ">Predicted=1798.700, Expected=1808.300\n",
            ">Predicted=1808.300, Expected=1815.900\n",
            ">Predicted=1815.900, Expected=1842.400\n",
            ">Predicted=1842.400, Expected=1864.100\n",
            ">Predicted=1864.100, Expected=1889.100\n",
            ">Predicted=1889.100, Expected=1897.300\n",
            ">Predicted=1897.300, Expected=1931.000\n",
            ">Predicted=1931.000, Expected=1944.700\n",
            ">Predicted=1944.700, Expected=1953.500\n",
            ">Predicted=1953.500, Expected=1942.300\n",
            ">Predicted=1942.300, Expected=1962.800\n",
            ">Predicted=1962.800, Expected=1966.000\n",
            ">Predicted=1966.000, Expected=2001.200\n",
            ">Predicted=2001.200, Expected=2031.100\n",
            ">Predicted=2031.100, Expected=2051.500\n",
            ">Predicted=2051.500, Expected=2010.100\n",
            ">Predicted=2010.100, Expected=2024.400\n",
            ">Predicted=2024.400, Expected=1932.600\n",
            ">Predicted=1932.600, Expected=1934.900\n",
            ">Predicted=1934.900, Expected=1956.700\n",
            ">Predicted=1956.700, Expected=1937.000\n",
            ">Predicted=1937.000, Expected=1985.000\n",
            ">Predicted=1985.000, Expected=1999.400\n",
            ">Predicted=1999.400, Expected=1958.700\n",
            ">Predicted=1958.700, Expected=1933.800\n",
            ">Predicted=1933.800, Expected=1934.600\n",
            ">Predicted=1934.600, Expected=1927.700\n",
            ">Predicted=1927.700, Expected=1911.800\n",
            ">Predicted=1911.800, Expected=1940.700\n",
            ">Predicted=1940.700, Expected=1921.600\n",
            ">Predicted=1921.600, Expected=1964.600\n",
            ">Predicted=1964.600, Expected=1967.600\n",
            ">Predicted=1967.600, Expected=1968.200\n",
            ">Predicted=1968.200, Expected=1934.400\n",
            ">Predicted=1934.400, Expected=1927.600\n",
            ">Predicted=1927.600, Expected=1923.900\n",
            ">Predicted=1923.900, Expected=1933.000\n",
            ">Predicted=1933.000, Expected=1944.700\n",
            ">Predicted=1944.700, Expected=1954.200\n",
            ">Predicted=1954.200, Expected=1937.800\n",
            ">Predicted=1937.800, Expected=1953.100\n",
            ">Predicted=1953.100, Expected=1956.300\n",
            ">Predicted=1956.300, Expected=1960.200\n",
            ">Predicted=1960.200, Expected=1940.000\n",
            ">Predicted=1940.000, Expected=1952.100\n",
            ">Predicted=1952.100, Expected=1901.200\n",
            ">Predicted=1901.200, Expected=1898.600\n",
            ">Predicted=1898.600, Expected=1859.900\n",
            ">Predicted=1859.900, Expected=1868.300\n",
            ">Predicted=1868.300, Expected=1857.700\n",
            ">Predicted=1857.700, Expected=1872.800\n",
            ">Predicted=1872.800, Expected=1894.300\n",
            ">Predicted=1894.300, Expected=1887.500\n",
            ">Predicted=1887.500, Expected=1908.400\n",
            ">Predicted=1908.400, Expected=1900.200\n",
            ">Predicted=1900.200, Expected=1912.500\n",
            ">Predicted=1912.500, Expected=1901.100\n",
            ">Predicted=1901.100, Expected=1883.600\n",
            ">Predicted=1883.600, Expected=1888.600\n",
            ">Predicted=1888.600, Expected=1919.500\n",
            ">Predicted=1919.500, Expected=1922.500\n",
            ">Predicted=1922.500, Expected=1888.500\n",
            ">Predicted=1888.500, Expected=1901.300\n",
            ">Predicted=1901.300, Expected=1903.200\n",
            ">Predicted=1903.200, Expected=1900.800\n",
            ">Predicted=1900.800, Expected=1906.400\n",
            ">Predicted=1906.400, Expected=1910.400\n",
            ">Predicted=1910.400, Expected=1924.600\n",
            ">Predicted=1924.600, Expected=1901.100\n",
            ">Predicted=1901.100, Expected=1902.000\n",
            ">Predicted=1902.000, Expected=1902.700\n",
            ">Predicted=1902.700, Expected=1908.800\n",
            ">Predicted=1908.800, Expected=1876.200\n",
            ">Predicted=1876.200, Expected=1865.600\n",
            ">Predicted=1865.600, Expected=1877.400\n",
            ">Predicted=1877.400, Expected=1890.400\n",
            ">Predicted=1890.400, Expected=1908.500\n",
            ">Predicted=1908.500, Expected=1894.600\n",
            ">Predicted=1894.600, Expected=1945.300\n",
            ">Predicted=1945.300, Expected=1950.300\n",
            ">Predicted=1950.300, Expected=1853.200\n",
            ">Predicted=1853.200, Expected=1875.400\n",
            ">Predicted=1875.400, Expected=1860.700\n",
            ">Predicted=1860.700, Expected=1872.600\n",
            ">Predicted=1872.600, Expected=1885.700\n",
            ">Predicted=1885.700, Expected=1887.300\n",
            ">Predicted=1887.300, Expected=1884.500\n",
            ">Predicted=1884.500, Expected=1873.500\n",
            ">Predicted=1873.500, Expected=1861.100\n",
            ">Predicted=1861.100, Expected=1872.600\n",
            ">Predicted=1872.600, Expected=1837.800\n",
            ">Predicted=1837.800, Expected=1804.800\n",
            ">Predicted=1804.800, Expected=1805.700\n",
            ">Predicted=1805.700, Expected=1781.900\n",
            ">Predicted=1781.900, Expected=1775.700\n",
            ">Predicted=1775.700, Expected=1814.100\n",
            ">Predicted=1814.100, Expected=1825.700\n",
            ">Predicted=1825.700, Expected=1836.800\n",
            ">Predicted=1836.800, Expected=1835.900\n",
            ">Predicted=1835.900, Expected=1861.800\n",
            ">Predicted=1861.800, Expected=1870.800\n",
            ">Predicted=1870.800, Expected=1834.600\n",
            ">Predicted=1834.600, Expected=1833.600\n",
            ">Predicted=1833.600, Expected=1839.800\n",
            ">Predicted=1839.800, Expected=1828.700\n",
            ">Predicted=1828.700, Expected=1852.300\n",
            ">Predicted=1852.300, Expected=1856.100\n",
            ">Predicted=1856.100, Expected=1887.200\n",
            ">Predicted=1887.200, Expected=1885.700\n",
            ">Predicted=1885.700, Expected=1879.200\n",
            ">Predicted=1879.200, Expected=1866.600\n",
            ">Predicted=1866.600, Expected=1874.700\n",
            ">Predicted=1874.700, Expected=1879.900\n",
            ">Predicted=1879.900, Expected=1877.200\n",
            ">Predicted=1877.200, Expected=1879.700\n",
            ">Predicted=1879.700, Expected=1891.000\n",
            ">Predicted=1891.000, Expected=1893.100\n",
            ">Predicted=1893.100, Expected=1944.700\n",
            ">Predicted=1944.700, Expected=1952.700\n",
            ">Predicted=1952.700, Expected=1906.900\n",
            ">Predicted=1906.900, Expected=1912.300\n",
            ">Predicted=1912.300, Expected=1834.100\n",
            ">Predicted=1834.100, Expected=1849.600\n",
            ">Predicted=1849.600, Expected=1842.900\n",
            ">Predicted=1842.900, Expected=1853.600\n",
            ">Predicted=1853.600, Expected=1850.300\n",
            ">Predicted=1850.300, Expected=1829.300\n",
            ">Predicted=1829.300, Expected=1839.500\n",
            ">Predicted=1839.500, Expected=1865.900\n",
            ">Predicted=1865.900, Expected=1865.300\n",
            ">Predicted=1865.300, Expected=1855.700\n",
            ">Predicted=1855.700, Expected=1854.900\n",
            ">Predicted=1854.900, Expected=1850.700\n",
            ">Predicted=1850.700, Expected=1844.900\n",
            ">Predicted=1844.900, Expected=1837.900\n",
            ">Predicted=1837.900, Expected=1847.300\n",
            ">Predicted=1847.300, Expected=1860.800\n",
            ">Predicted=1860.800, Expected=1830.500\n",
            ">Predicted=1830.500, Expected=1832.200\n",
            ">Predicted=1832.200, Expected=1788.900\n",
            ">Predicted=1788.900, Expected=1810.900\n",
            ">Predicted=1810.900, Expected=1831.900\n",
            ">Predicted=1831.900, Expected=1835.300\n",
            ">Predicted=1835.300, Expected=1840.600\n",
            ">Predicted=1840.600, Expected=1824.900\n",
            ">Predicted=1824.900, Expected=1821.600\n",
            ">Predicted=1821.600, Expected=1797.200\n",
            ">Predicted=1797.200, Expected=1771.100\n",
            ">Predicted=1771.100, Expected=1773.400\n",
            ">Predicted=1773.400, Expected=1775.800\n",
            ">Predicted=1775.800, Expected=1806.700\n",
            ">Predicted=1806.700, Expected=1804.400\n",
            ">Predicted=1804.400, Expected=1796.400\n",
            ">Predicted=1796.400, Expected=1774.400\n",
            ">Predicted=1774.400, Expected=1728.100\n",
            ">Predicted=1728.100, Expected=1722.500\n",
            ">Predicted=1722.500, Expected=1733.100\n",
            ">Predicted=1733.100, Expected=1715.300\n",
            ">Predicted=1715.300, Expected=1700.200\n",
            ">Predicted=1700.200, Expected=1698.000\n",
            ">Predicted=1698.000, Expected=1677.700\n",
            ">Predicted=1677.700, Expected=1716.600\n",
            "RMSE: 22.229\n"
          ]
        }
      ]
    },
    {
      "cell_type": "markdown",
      "source": [
        "### **ARIMA Hyperparameters**"
      ],
      "metadata": {
        "id": "Swc54bwspZE6"
      }
    },
    {
      "cell_type": "code",
      "source": [
        "# grid search ARIMA parameters for a time series\n",
        "\n",
        "import warnings\n",
        "from pandas import read_csv\n",
        "from statsmodels.tsa.arima_model import ARIMA\n",
        "from sklearn.metrics import mean_squared_error\n",
        "from math import sqrt\n",
        "\n",
        "\n",
        "# evaluate an ARIMA model for a given order (p,d,q) and return RMSE\n",
        "def evaluate_arima_model(X, arima_order):\n",
        "# prepare training dataset\n",
        "    X = X.astype('float32')\n",
        "    train_size = int(len(X) * 0.70)\n",
        "    train, test = X[0:train_size], X[train_size:]\n",
        "    history = [x for x in train]\n",
        "# make predictions\n",
        "    predictions = list()\n",
        "    for t in range(len(test)):\n",
        "        model = ARIMA(history, order=arima_order)\n",
        "# model_fit = model.fit(disp=0)\n",
        "        model_fit = model.fit(disp=0)\n",
        "        yhat = model_fit.forecast()[0]\n",
        "        predictions.append(yhat)\n",
        "        history.append(test[t])\n",
        "# calculate out of sample error\n",
        "    rmse = sqrt(mean_squared_error(test, predictions))\n",
        "    return rmse"
      ],
      "metadata": {
        "id": "dgNmC1ozmVsc"
      },
      "execution_count": 98,
      "outputs": []
    },
    {
      "cell_type": "markdown",
      "source": [
        "### **Grid search for p,d,q values**"
      ],
      "metadata": {
        "id": "Y7I-F-DQpN5U"
      }
    },
    {
      "cell_type": "code",
      "source": [
        "# evaluate combinations of p, d and q values for an ARIMA model\n",
        "def evaluate_models(dataset, p_values, d_values, q_values):\n",
        "    dataset = dataset.astype('float32')\n",
        "    best_score, best_cfg = float('inf'), None\n",
        "    for p in p_values:\n",
        "        for d in d_values:\n",
        "            for q in q_values:\n",
        "                order = (p,d,q)\n",
        "                try:\n",
        "                    rmse = evaluate_arima_model(train, order)\n",
        "                    if rmse < best_score:\n",
        "                        best_score, best_cfg = rmse, order\n",
        "                    print('ARIMA%s RMSE=%.3f' % (order,rmse))\n",
        "                except:\n",
        "                    continue\n",
        "    print('Best ARIMA%s RMSE=%.3f' % (best_cfg, best_score))"
      ],
      "metadata": {
        "id": "1kTFGriJmVvL"
      },
      "execution_count": 99,
      "outputs": []
    },
    {
      "cell_type": "code",
      "source": [
        "# load dataset\n",
        "train = read_csv('dataset.csv', header=None, index_col=0, parse_dates=True, squeeze=True)\n",
        "# evaluate parameters\n",
        "p_values = range(0, 3)\n",
        "d_values = range(0, 3)\n",
        "q_values = range(0, 3)\n",
        "warnings.filterwarnings(\"ignore\")\n",
        "evaluate_models(train.values, p_values, d_values, q_values)"
      ],
      "metadata": {
        "colab": {
          "base_uri": "https://localhost:8080/"
        },
        "id": "sb06aog9mVxw",
        "outputId": "0c1852f9-d6cb-4e05-c13c-1b595151e962"
      },
      "execution_count": 100,
      "outputs": [
        {
          "output_type": "stream",
          "name": "stdout",
          "text": [
            "ARIMA(0, 0, 0) RMSE=405.946\n",
            "ARIMA(0, 0, 1) RMSE=213.837\n",
            "ARIMA(0, 1, 0) RMSE=22.243\n",
            "ARIMA(0, 1, 1) RMSE=22.310\n",
            "ARIMA(0, 1, 2) RMSE=22.350\n",
            "ARIMA(0, 2, 0) RMSE=32.960\n",
            "ARIMA(0, 2, 1) RMSE=22.317\n",
            "ARIMA(1, 0, 0) RMSE=22.268\n",
            "ARIMA(1, 1, 0) RMSE=22.308\n",
            "ARIMA(1, 2, 0) RMSE=27.028\n",
            "ARIMA(1, 2, 1) RMSE=22.379\n",
            "ARIMA(1, 2, 2) RMSE=22.422\n",
            "ARIMA(2, 0, 0) RMSE=22.949\n",
            "ARIMA(2, 1, 0) RMSE=22.345\n",
            "ARIMA(2, 1, 1) RMSE=22.360\n",
            "ARIMA(2, 2, 0) RMSE=26.214\n",
            "Best ARIMA(0, 1, 0) RMSE=22.243\n"
          ]
        }
      ]
    },
    {
      "cell_type": "markdown",
      "source": [
        "### **Build Model based on the optimized values**"
      ],
      "metadata": {
        "id": "oA4CaeO0sd2d"
      }
    },
    {
      "cell_type": "code",
      "source": [
        "# save finalized model to file\n",
        "from pandas import read_csv\n",
        "from statsmodels.tsa.arima_model import ARIMA\n",
        "import numpy"
      ],
      "metadata": {
        "id": "7XIT8u1dmV0O"
      },
      "execution_count": 101,
      "outputs": []
    },
    {
      "cell_type": "code",
      "source": [
        "# load data\n",
        "train = read_csv('dataset.csv', header=0, index_col=0, parse_dates=True)\n",
        "# prepare data\n",
        "X = train.values\n",
        "X = X.astype('float32')"
      ],
      "metadata": {
        "id": "8M5RqtGTmV3B"
      },
      "execution_count": 145,
      "outputs": []
    },
    {
      "cell_type": "code",
      "source": [
        "# fit model\n",
        "model = ARIMA(X, order=(0,1,0))\n",
        "model_fit = model.fit()\n",
        "forecast=model_fit.forecast(steps=212)[0]\n",
        "model_fit.plot_predict(1, 1012)\n",
        "plt.show()"
      ],
      "metadata": {
        "colab": {
          "base_uri": "https://localhost:8080/",
          "height": 377
        },
        "id": "ifFimA2qsuDr",
        "outputId": "84d4c933-d88b-4a09-f4c9-fd7a66a8a340"
      },
      "execution_count": 146,
      "outputs": [
        {
          "output_type": "display_data",
          "data": {
            "image/png": "[encoded data removed]",
            "text/plain": [
              "<Figure size 720x432 with 1 Axes>"
            ]
          },
          "metadata": {}
        }
      ]
    },
    {
      "cell_type": "code",
      "source": [
        "#Error on the test data\n",
        "val=pd.read_csv('validation.csv',header=None)\n",
        "rmse = sqrt(mean_squared_error(val[1], forecast))\n",
        "rmse"
      ],
      "metadata": {
        "colab": {
          "base_uri": "https://localhost:8080/"
        },
        "id": "RtrhVr-ssuAD",
        "outputId": "3270ff9a-de7f-45a0-ceaf-c08c4a516129"
      },
      "execution_count": 147,
      "outputs": [
        {
          "output_type": "execute_result",
          "data": {
            "text/plain": [
              "56.560071006639305"
            ]
          },
          "metadata": {},
          "execution_count": 147
        }
      ]
    },
    {
      "cell_type": "code",
      "source": [
        "val[1]"
      ],
      "metadata": {
        "colab": {
          "base_uri": "https://localhost:8080/"
        },
        "id": "lrD6IT3KC8cE",
        "outputId": "00526d10-2f4a-4bfc-ae41-f90180b59ff1"
      },
      "execution_count": 148,
      "outputs": [
        {
          "output_type": "execute_result",
          "data": {
            "text/plain": [
              "0      1722.300049\n",
              "1      1719.500000\n",
              "2      1728.900024\n",
              "3      1730.599976\n",
              "4      1726.800049\n",
              "          ...     \n",
              "207    1799.400024\n",
              "208    1814.000000\n",
              "209    1824.599976\n",
              "210    1788.699951\n",
              "211    1797.000000\n",
              "Name: 1, Length: 212, dtype: float64"
            ]
          },
          "metadata": {},
          "execution_count": 148
        }
      ]
    },
    {
      "cell_type": "code",
      "source": [
        "forecast"
      ],
      "metadata": {
        "colab": {
          "base_uri": "https://localhost:8080/"
        },
        "id": "gMZQaXVKCl-j",
        "outputId": "791714d5-c590-41f5-ebdf-aad7786b69ef"
      },
      "execution_count": 149,
      "outputs": [
        {
          "output_type": "execute_result",
          "data": {
            "text/plain": [
              "array([1717.10173   , 1717.60348442, 1718.10523884, 1718.60699325,\n",
              "       1719.10874767, 1719.61050209, 1720.1122565 , 1720.61401092,\n",
              "       1721.11576533, 1721.61751975, 1722.11927417, 1722.62102858,\n",
              "       1723.122783  , 1723.62453742, 1724.12629183, 1724.62804625,\n",
              "       1725.12980067, 1725.63155508, 1726.1333095 , 1726.63506392,\n",
              "       1727.13681833, 1727.63857275, 1728.14032717, 1728.64208158,\n",
              "       1729.143836  , 1729.64559042, 1730.14734483, 1730.64909925,\n",
              "       1731.15085367, 1731.65260808, 1732.1543625 , 1732.65611692,\n",
              "       1733.15787133, 1733.65962575, 1734.16138017, 1734.66313458,\n",
              "       1735.164889  , 1735.66664342, 1736.16839783, 1736.67015225,\n",
              "       1737.17190666, 1737.67366108, 1738.1754155 , 1738.67716991,\n",
              "       1739.17892433, 1739.68067875, 1740.18243316, 1740.68418758,\n",
              "       1741.185942  , 1741.68769641, 1742.18945083, 1742.69120525,\n",
              "       1743.19295966, 1743.69471408, 1744.1964685 , 1744.69822291,\n",
              "       1745.19997733, 1745.70173175, 1746.20348616, 1746.70524058,\n",
              "       1747.206995  , 1747.70874941, 1748.21050383, 1748.71225825,\n",
              "       1749.21401266, 1749.71576708, 1750.2175215 , 1750.71927591,\n",
              "       1751.22103033, 1751.72278475, 1752.22453916, 1752.72629358,\n",
              "       1753.22804799, 1753.72980241, 1754.23155683, 1754.73331124,\n",
              "       1755.23506566, 1755.73682008, 1756.23857449, 1756.74032891,\n",
              "       1757.24208333, 1757.74383774, 1758.24559216, 1758.74734658,\n",
              "       1759.24910099, 1759.75085541, 1760.25260983, 1760.75436424,\n",
              "       1761.25611866, 1761.75787308, 1762.25962749, 1762.76138191,\n",
              "       1763.26313633, 1763.76489074, 1764.26664516, 1764.76839958,\n",
              "       1765.27015399, 1765.77190841, 1766.27366283, 1766.77541724,\n",
              "       1767.27717166, 1767.77892607, 1768.28068049, 1768.78243491,\n",
              "       1769.28418932, 1769.78594374, 1770.28769816, 1770.78945257,\n",
              "       1771.29120699, 1771.79296141, 1772.29471582, 1772.79647024,\n",
              "       1773.29822466, 1773.79997907, 1774.30173349, 1774.80348791,\n",
              "       1775.30524232, 1775.80699674, 1776.30875116, 1776.81050557,\n",
              "       1777.31225999, 1777.81401441, 1778.31576882, 1778.81752324,\n",
              "       1779.31927766, 1779.82103207, 1780.32278649, 1780.82454091,\n",
              "       1781.32629532, 1781.82804974, 1782.32980416, 1782.83155857,\n",
              "       1783.33331299, 1783.8350674 , 1784.33682182, 1784.83857624,\n",
              "       1785.34033065, 1785.84208507, 1786.34383949, 1786.8455939 ,\n",
              "       1787.34734832, 1787.84910274, 1788.35085715, 1788.85261157,\n",
              "       1789.35436599, 1789.8561204 , 1790.35787482, 1790.85962924,\n",
              "       1791.36138365, 1791.86313807, 1792.36489249, 1792.8666469 ,\n",
              "       1793.36840132, 1793.87015574, 1794.37191015, 1794.87366457,\n",
              "       1795.37541899, 1795.8771734 , 1796.37892782, 1796.88068224,\n",
              "       1797.38243665, 1797.88419107, 1798.38594549, 1798.8876999 ,\n",
              "       1799.38945432, 1799.89120873, 1800.39296315, 1800.89471757,\n",
              "       1801.39647198, 1801.8982264 , 1802.39998082, 1802.90173523,\n",
              "       1803.40348965, 1803.90524407, 1804.40699848, 1804.9087529 ,\n",
              "       1805.41050732, 1805.91226173, 1806.41401615, 1806.91577057,\n",
              "       1807.41752498, 1807.9192794 , 1808.42103382, 1808.92278823,\n",
              "       1809.42454265, 1809.92629707, 1810.42805148, 1810.9298059 ,\n",
              "       1811.43156032, 1811.93331473, 1812.43506915, 1812.93682357,\n",
              "       1813.43857798, 1813.9403324 , 1814.44208681, 1814.94384123,\n",
              "       1815.44559565, 1815.94735006, 1816.44910448, 1816.9508589 ,\n",
              "       1817.45261331, 1817.95436773, 1818.45612215, 1818.95787656,\n",
              "       1819.45963098, 1819.9613854 , 1820.46313981, 1820.96489423,\n",
              "       1821.46664865, 1821.96840306, 1822.47015748, 1822.9719119 ])"
            ]
          },
          "metadata": {},
          "execution_count": 149
        }
      ]
    },
    {
      "cell_type": "markdown",
      "source": [
        "### **Combine train and test data and build final model**"
      ],
      "metadata": {
        "id": "B8hLYWQRugRq"
      }
    },
    {
      "cell_type": "code",
      "source": [
        "# fit model\n",
        "#data = read_csv('data', header=0, index_col=0, parse_dates=True)\n",
        "# prepare data\n",
        "X = data_without_sea.values\n",
        "X = X.astype('float32')"
      ],
      "metadata": {
        "id": "1hBb6mnzstpz"
      },
      "execution_count": 150,
      "outputs": []
    },
    {
      "cell_type": "code",
      "source": [
        "model = ARIMA(X, order=(0,1,0))\n",
        "model_fit = model.fit()"
      ],
      "metadata": {
        "id": "jPP31eRtstWG"
      },
      "execution_count": 151,
      "outputs": []
    },
    {
      "cell_type": "code",
      "source": [
        "forecast_final=model_fit.forecast(steps=30)[0]\n",
        "model_fit.plot_predict(1,1042)\n",
        "plt.show()"
      ],
      "metadata": {
        "colab": {
          "base_uri": "https://localhost:8080/",
          "height": 377
        },
        "id": "8t8hwtlXstTp",
        "outputId": "9269ef27-714f-4740-d359-82daf2382590"
      },
      "execution_count": 152,
      "outputs": [
        {
          "output_type": "display_data",
          "data": {
            "image/png": "[encoded data removed]",
            "text/plain": [
              "<Figure size 720x432 with 1 Axes>"
            ]
          },
          "metadata": {}
        }
      ]
    },
    {
      "cell_type": "code",
      "source": [
        "forecast_final"
      ],
      "metadata": {
        "colab": {
          "base_uri": "https://localhost:8080/"
        },
        "id": "Gp-HgTYgstRO",
        "outputId": "f34ff3fe-eae0-4578-d53d-3de453ce26fc"
      },
      "execution_count": 153,
      "outputs": [
        {
          "output_type": "execute_result",
          "data": {
            "text/plain": [
              "array([8.30578577, 8.31152271, 8.31725966, 8.3229966 , 8.32873354,\n",
              "       8.33447048, 8.34020743, 8.34594437, 8.35168131, 8.35741825,\n",
              "       8.3631552 , 8.36889214, 8.37462908, 8.38036602, 8.38610297,\n",
              "       8.39183991, 8.39757685, 8.40331379, 8.40905073, 8.41478768,\n",
              "       8.42052462, 8.42626156, 8.4319985 , 8.43773545, 8.44347239,\n",
              "       8.44920933, 8.45494627, 8.46068322, 8.46642016, 8.4721571 ])"
            ]
          },
          "metadata": {},
          "execution_count": 153
        }
      ]
    },
    {
      "cell_type": "code",
      "source": [
        ""
      ],
      "metadata": {
        "id": "gJnQqiN8pgwM"
      },
      "execution_count": null,
      "outputs": []
    }
  ]
}