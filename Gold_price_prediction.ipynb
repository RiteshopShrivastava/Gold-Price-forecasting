{
 "cells": [
  {
   "cell_type": "markdown",
   "metadata": {
    "id": "xEF5x6qhDvcY"
   },
   "source": [
    "## **Gold Price Prediction** \n",
    "**Objective :**- Forecasting gold price for next 30 days based on historical data.\n",
    "(Considering last four years of historical data)"
   ]
  },
  {
   "cell_type": "code",
   "execution_count": 2,
   "metadata": {
    "ExecuteTime": {
     "end_time": "2022-01-09T10:52:58.747253Z",
     "start_time": "2022-01-09T10:52:38.233224Z"
    },
    "colab": {
     "base_uri": "https://localhost:8080/"
    },
    "id": "LKSZgKQfVrSY",
    "outputId": "b323e635-5462-486a-983c-88f75781123e"
   },
   "outputs": [
    {
     "name": "stdout",
     "output_type": "stream",
     "text": [
      "Requirement already satisfied: yfinance in c:\\python\\lib\\site-packages (0.1.68)\n",
      "Requirement already satisfied: pandas>=0.24 in c:\\python\\lib\\site-packages (from yfinance) (1.1.3)\n",
      "Requirement already satisfied: numpy>=1.15 in c:\\python\\lib\\site-packages (from yfinance) (1.19.2)\n",
      "Requirement already satisfied: requests>=2.26 in c:\\python\\lib\\site-packages (from yfinance) (2.27.0)\n",
      "Requirement already satisfied: multitasking>=0.0.7 in c:\\python\\lib\\site-packages (from yfinance) (0.0.10)\n",
      "Requirement already satisfied: lxml>=4.5.1 in c:\\python\\lib\\site-packages (from yfinance) (4.6.1)\n",
      "Requirement already satisfied: python-dateutil>=2.7.3 in c:\\python\\lib\\site-packages (from pandas>=0.24->yfinance) (2.8.1)\n",
      "Requirement already satisfied: pytz>=2017.2 in c:\\python\\lib\\site-packages (from pandas>=0.24->yfinance) (2020.1)\n",
      "Requirement already satisfied: charset-normalizer~=2.0.0; python_version >= \"3\" in c:\\python\\lib\\site-packages (from requests>=2.26->yfinance) (2.0.9)\n",
      "Requirement already satisfied: urllib3<1.27,>=1.21.1 in c:\\python\\lib\\site-packages (from requests>=2.26->yfinance) (1.25.11)\n",
      "Requirement already satisfied: certifi>=2017.4.17 in c:\\python\\lib\\site-packages (from requests>=2.26->yfinance) (2020.6.20)\n",
      "Requirement already satisfied: idna<4,>=2.5; python_version >= \"3\" in c:\\python\\lib\\site-packages (from requests>=2.26->yfinance) (2.10)\n",
      "Requirement already satisfied: six>=1.5 in c:\\python\\lib\\site-packages (from python-dateutil>=2.7.3->pandas>=0.24->yfinance) (1.15.0)\n"
     ]
    }
   ],
   "source": [
    "!pip install yfinance"
   ]
  },
  {
   "cell_type": "code",
   "execution_count": 3,
   "metadata": {
    "ExecuteTime": {
     "end_time": "2022-01-09T10:53:12.267683Z",
     "start_time": "2022-01-09T10:53:02.751663Z"
    },
    "colab": {
     "base_uri": "https://localhost:8080/"
    },
    "id": "d-5LaPLgWw4z",
    "outputId": "0d2e0113-3756-4439-ed02-031d35b0ca40"
   },
   "outputs": [],
   "source": [
    "import numpy as np\n",
    "import pandas as pd\n",
    "import yfinance as yf\n",
    "from datetime import date\n",
    "import matplotlib.pyplot as plt\n",
    "from statsmodels.graphics.tsaplots import plot_acf\n",
    "from statsmodels.graphics.tsaplots import plot_pacf\n",
    "from statsmodels.tsa.stattools import adfuller\n",
    "from statsmodels.tsa.seasonal import seasonal_decompose"
   ]
  },
  {
   "cell_type": "code",
   "execution_count": 4,
   "metadata": {
    "ExecuteTime": {
     "end_time": "2022-01-09T10:53:25.681067Z",
     "start_time": "2022-01-09T10:53:13.166934Z"
    },
    "colab": {
     "base_uri": "https://localhost:8080/"
    },
    "id": "nAz6gG0vZVA7",
    "outputId": "ad2bb9bf-2b82-4d61-ca80-3e9ffe469ace"
   },
   "outputs": [
    {
     "name": "stdout",
     "output_type": "stream",
     "text": [
      "[*********************100%***********************]  1 of 1 completed\n"
     ]
    }
   ],
   "source": [
    "start='2018-01-01'\n",
    "end=date.today().strftime('%Y-%m-%d')\n",
    "data=yf.download('GC=F',start=start,end=end)"
   ]
  },
  {
   "cell_type": "code",
   "execution_count": 5,
   "metadata": {
    "ExecuteTime": {
     "end_time": "2022-01-09T10:53:26.720869Z",
     "start_time": "2022-01-09T10:53:25.780119Z"
    },
    "colab": {
     "base_uri": "https://localhost:8080/",
     "height": 472
    },
    "id": "bV0-8Ys-dRJ6",
    "outputId": "4d083e77-6ecc-4703-b54c-2967ee9506fd"
   },
   "outputs": [
    {
     "name": "stdout",
     "output_type": "stream",
     "text": [
      "[*********************100%***********************]  1 of 1 completed\n"
     ]
    },
    {
     "data": {
      "text/html": [
       "<div>\n",
       "<style scoped>\n",
       "    .dataframe tbody tr th:only-of-type {\n",
       "        vertical-align: middle;\n",
       "    }\n",
       "\n",
       "    .dataframe tbody tr th {\n",
       "        vertical-align: top;\n",
       "    }\n",
       "\n",
       "    .dataframe thead th {\n",
       "        text-align: right;\n",
       "    }\n",
       "</style>\n",
       "<table border=\"1\" class=\"dataframe\">\n",
       "  <thead>\n",
       "    <tr style=\"text-align: right;\">\n",
       "      <th></th>\n",
       "      <th>Adj Close</th>\n",
       "    </tr>\n",
       "    <tr>\n",
       "      <th>Date</th>\n",
       "      <th></th>\n",
       "    </tr>\n",
       "  </thead>\n",
       "  <tbody>\n",
       "    <tr>\n",
       "      <th>2018-01-02</th>\n",
       "      <td>1313.699951</td>\n",
       "    </tr>\n",
       "    <tr>\n",
       "      <th>2018-01-03</th>\n",
       "      <td>1316.199951</td>\n",
       "    </tr>\n",
       "    <tr>\n",
       "      <th>2018-01-04</th>\n",
       "      <td>1319.400024</td>\n",
       "    </tr>\n",
       "    <tr>\n",
       "      <th>2018-01-05</th>\n",
       "      <td>1320.300049</td>\n",
       "    </tr>\n",
       "    <tr>\n",
       "      <th>2018-01-08</th>\n",
       "      <td>1318.599976</td>\n",
       "    </tr>\n",
       "    <tr>\n",
       "      <th>...</th>\n",
       "      <td>...</td>\n",
       "    </tr>\n",
       "    <tr>\n",
       "      <th>2022-01-03</th>\n",
       "      <td>1799.400024</td>\n",
       "    </tr>\n",
       "    <tr>\n",
       "      <th>2022-01-04</th>\n",
       "      <td>1814.000000</td>\n",
       "    </tr>\n",
       "    <tr>\n",
       "      <th>2022-01-05</th>\n",
       "      <td>1824.599976</td>\n",
       "    </tr>\n",
       "    <tr>\n",
       "      <th>2022-01-06</th>\n",
       "      <td>1788.699951</td>\n",
       "    </tr>\n",
       "    <tr>\n",
       "      <th>2022-01-07</th>\n",
       "      <td>1797.000000</td>\n",
       "    </tr>\n",
       "  </tbody>\n",
       "</table>\n",
       "<p>1013 rows × 1 columns</p>\n",
       "</div>"
      ],
      "text/plain": [
       "              Adj Close\n",
       "Date                   \n",
       "2018-01-02  1313.699951\n",
       "2018-01-03  1316.199951\n",
       "2018-01-04  1319.400024\n",
       "2018-01-05  1320.300049\n",
       "2018-01-08  1318.599976\n",
       "...                 ...\n",
       "2022-01-03  1799.400024\n",
       "2022-01-04  1814.000000\n",
       "2022-01-05  1824.599976\n",
       "2022-01-06  1788.699951\n",
       "2022-01-07  1797.000000\n",
       "\n",
       "[1013 rows x 1 columns]"
      ]
     },
     "execution_count": 5,
     "metadata": {},
     "output_type": "execute_result"
    }
   ],
   "source": [
    "data=yf.download('GC=F',start=start,end=end)[['Adj Close']]\n",
    "data"
   ]
  },
  {
   "cell_type": "code",
   "execution_count": 7,
   "metadata": {
    "ExecuteTime": {
     "end_time": "2022-01-09T10:53:37.933158Z",
     "start_time": "2022-01-09T10:53:37.925560Z"
    },
    "colab": {
     "base_uri": "https://localhost:8080/"
    },
    "id": "37PRnVZoJ-O0",
    "outputId": "b390b5b1-0671-4838-efeb-dceec13f79b3"
   },
   "outputs": [
    {
     "name": "stderr",
     "output_type": "stream",
     "text": [
      "C:\\Python\\lib\\site-packages\\pandas\\core\\frame.py:4296: SettingWithCopyWarning: \n",
      "A value is trying to be set on a copy of a slice from a DataFrame\n",
      "\n",
      "See the caveats in the documentation: https://pandas.pydata.org/pandas-docs/stable/user_guide/indexing.html#returning-a-view-versus-a-copy\n",
      "  return super().rename(\n"
     ]
    }
   ],
   "source": [
    "data.rename(columns={\"Adj Close\": 'Price'},inplace=True)"
   ]
  },
  {
   "cell_type": "code",
   "execution_count": 8,
   "metadata": {
    "ExecuteTime": {
     "end_time": "2022-01-09T10:53:41.778612Z",
     "start_time": "2022-01-09T10:53:41.754680Z"
    },
    "colab": {
     "base_uri": "https://localhost:8080/",
     "height": 238
    },
    "id": "RQiWI53aZ-aA",
    "outputId": "fa232556-0b71-4f0e-b6dc-4f7c4dec5b1f"
   },
   "outputs": [
    {
     "data": {
      "text/html": [
       "<div>\n",
       "<style scoped>\n",
       "    .dataframe tbody tr th:only-of-type {\n",
       "        vertical-align: middle;\n",
       "    }\n",
       "\n",
       "    .dataframe tbody tr th {\n",
       "        vertical-align: top;\n",
       "    }\n",
       "\n",
       "    .dataframe thead th {\n",
       "        text-align: right;\n",
       "    }\n",
       "</style>\n",
       "<table border=\"1\" class=\"dataframe\">\n",
       "  <thead>\n",
       "    <tr style=\"text-align: right;\">\n",
       "      <th></th>\n",
       "      <th>Price</th>\n",
       "    </tr>\n",
       "    <tr>\n",
       "      <th>Date</th>\n",
       "      <th></th>\n",
       "    </tr>\n",
       "  </thead>\n",
       "  <tbody>\n",
       "    <tr>\n",
       "      <th>2018-01-02</th>\n",
       "      <td>1313.699951</td>\n",
       "    </tr>\n",
       "    <tr>\n",
       "      <th>2018-01-03</th>\n",
       "      <td>1316.199951</td>\n",
       "    </tr>\n",
       "    <tr>\n",
       "      <th>2018-01-04</th>\n",
       "      <td>1319.400024</td>\n",
       "    </tr>\n",
       "    <tr>\n",
       "      <th>2018-01-05</th>\n",
       "      <td>1320.300049</td>\n",
       "    </tr>\n",
       "    <tr>\n",
       "      <th>2018-01-08</th>\n",
       "      <td>1318.599976</td>\n",
       "    </tr>\n",
       "  </tbody>\n",
       "</table>\n",
       "</div>"
      ],
      "text/plain": [
       "                  Price\n",
       "Date                   \n",
       "2018-01-02  1313.699951\n",
       "2018-01-03  1316.199951\n",
       "2018-01-04  1319.400024\n",
       "2018-01-05  1320.300049\n",
       "2018-01-08  1318.599976"
      ]
     },
     "execution_count": 8,
     "metadata": {},
     "output_type": "execute_result"
    }
   ],
   "source": [
    "data.head()"
   ]
  },
  {
   "cell_type": "code",
   "execution_count": 9,
   "metadata": {
    "ExecuteTime": {
     "end_time": "2022-01-09T10:53:44.974857Z",
     "start_time": "2022-01-09T10:53:44.957816Z"
    },
    "colab": {
     "base_uri": "https://localhost:8080/",
     "height": 238
    },
    "id": "R14sbyh3aA-P",
    "outputId": "2cd988ed-ae73-4ce0-d810-c95f50659dec"
   },
   "outputs": [
    {
     "data": {
      "text/html": [
       "<div>\n",
       "<style scoped>\n",
       "    .dataframe tbody tr th:only-of-type {\n",
       "        vertical-align: middle;\n",
       "    }\n",
       "\n",
       "    .dataframe tbody tr th {\n",
       "        vertical-align: top;\n",
       "    }\n",
       "\n",
       "    .dataframe thead th {\n",
       "        text-align: right;\n",
       "    }\n",
       "</style>\n",
       "<table border=\"1\" class=\"dataframe\">\n",
       "  <thead>\n",
       "    <tr style=\"text-align: right;\">\n",
       "      <th></th>\n",
       "      <th>Price</th>\n",
       "    </tr>\n",
       "    <tr>\n",
       "      <th>Date</th>\n",
       "      <th></th>\n",
       "    </tr>\n",
       "  </thead>\n",
       "  <tbody>\n",
       "    <tr>\n",
       "      <th>2022-01-03</th>\n",
       "      <td>1799.400024</td>\n",
       "    </tr>\n",
       "    <tr>\n",
       "      <th>2022-01-04</th>\n",
       "      <td>1814.000000</td>\n",
       "    </tr>\n",
       "    <tr>\n",
       "      <th>2022-01-05</th>\n",
       "      <td>1824.599976</td>\n",
       "    </tr>\n",
       "    <tr>\n",
       "      <th>2022-01-06</th>\n",
       "      <td>1788.699951</td>\n",
       "    </tr>\n",
       "    <tr>\n",
       "      <th>2022-01-07</th>\n",
       "      <td>1797.000000</td>\n",
       "    </tr>\n",
       "  </tbody>\n",
       "</table>\n",
       "</div>"
      ],
      "text/plain": [
       "                  Price\n",
       "Date                   \n",
       "2022-01-03  1799.400024\n",
       "2022-01-04  1814.000000\n",
       "2022-01-05  1824.599976\n",
       "2022-01-06  1788.699951\n",
       "2022-01-07  1797.000000"
      ]
     },
     "execution_count": 9,
     "metadata": {},
     "output_type": "execute_result"
    }
   ],
   "source": [
    "data.tail()"
   ]
  },
  {
   "cell_type": "code",
   "execution_count": 10,
   "metadata": {
    "ExecuteTime": {
     "end_time": "2022-01-09T10:54:05.388844Z",
     "start_time": "2022-01-09T10:54:05.376516Z"
    },
    "id": "uHPUeBTBiaVI"
   },
   "outputs": [],
   "source": [
    "train = data.head(813)\n",
    "test = data.tail(200)"
   ]
  },
  {
   "cell_type": "markdown",
   "metadata": {
    "id": "l9bkAnzueXNo"
   },
   "source": [
    "## **EDA**"
   ]
  },
  {
   "cell_type": "code",
   "execution_count": 11,
   "metadata": {
    "ExecuteTime": {
     "end_time": "2022-01-09T10:54:08.767251Z",
     "start_time": "2022-01-09T10:54:08.635395Z"
    },
    "colab": {
     "base_uri": "https://localhost:8080/"
    },
    "id": "xO0ZJf9ud4rz",
    "outputId": "d3ea9ce2-dbda-4955-b0d0-08e7d64cdd54"
   },
   "outputs": [
    {
     "name": "stdout",
     "output_type": "stream",
     "text": [
      "<class 'pandas.core.frame.DataFrame'>\n",
      "DatetimeIndex: 1013 entries, 2018-01-02 to 2022-01-07\n",
      "Data columns (total 1 columns):\n",
      " #   Column  Non-Null Count  Dtype  \n",
      "---  ------  --------------  -----  \n",
      " 0   Price   1013 non-null   float64\n",
      "dtypes: float64(1)\n",
      "memory usage: 15.8 KB\n"
     ]
    }
   ],
   "source": [
    "data.info()"
   ]
  },
  {
   "cell_type": "markdown",
   "metadata": {
    "id": "3oNLY6tm-0PN"
   },
   "source": [
    "**Line chart**"
   ]
  },
  {
   "cell_type": "code",
   "execution_count": 12,
   "metadata": {
    "ExecuteTime": {
     "end_time": "2022-01-09T10:54:20.564583Z",
     "start_time": "2022-01-09T10:54:14.606695Z"
    },
    "colab": {
     "base_uri": "https://localhost:8080/",
     "height": 464
    },
    "id": "G0jX5jYEjVVA",
    "outputId": "d38e296f-eedc-4504-d911-487c11891632"
   },
   "outputs": [
    {
     "data": {
      "image/png": "[encoded data removed]",
      "text/plain": [
       "<Figure size 1440x504 with 1 Axes>"
      ]
     },
     "metadata": {
      "needs_background": "light"
     },
     "output_type": "display_data"
    }
   ],
   "source": [
    "import seaborn as sns\n",
    "plt.figure(figsize=(20,7))\n",
    "sns.set(style='darkgrid')\n",
    "sns.lineplot( y=\"Price\", x=\"Date\", data=data)\n",
    "#sns.lineplot( y=\"Price\", x=data.index, data=data)\n",
    "plt.title(\" Gold Price movement throughout our Observation\")\n",
    "plt.ylabel('Gold Price')\n",
    "plt.show()"
   ]
  },
  {
   "cell_type": "markdown",
   "metadata": {
    "id": "p8UU18pt-vCU"
   },
   "source": [
    "**Another Way to draw line chart**"
   ]
  },
  {
   "cell_type": "code",
   "execution_count": 11,
   "metadata": {
    "id": "I8-r0sSagau6"
   },
   "outputs": [],
   "source": [
    "#from IPython.core.pylabtools import figsize\n",
    "#plt.figure(figsize=(20,7))\n",
    "#data.Price.plot()\n",
    "#plt.title(\" Gold Price movement throughout our Observation\")\n",
    "#plt.ylabel('Gold Price')\n",
    "#plt.show()"
   ]
  },
  {
   "cell_type": "code",
   "execution_count": 13,
   "metadata": {
    "ExecuteTime": {
     "end_time": "2022-01-09T10:54:27.338686Z",
     "start_time": "2022-01-09T10:54:27.311388Z"
    },
    "colab": {
     "base_uri": "https://localhost:8080/",
     "height": 455
    },
    "id": "rLHABN8_crTj",
    "outputId": "12cae532-0d00-4e4f-d46e-7c4182277c06"
   },
   "outputs": [
    {
     "data": {
      "text/html": [
       "<div>\n",
       "<style scoped>\n",
       "    .dataframe tbody tr th:only-of-type {\n",
       "        vertical-align: middle;\n",
       "    }\n",
       "\n",
       "    .dataframe tbody tr th {\n",
       "        vertical-align: top;\n",
       "    }\n",
       "\n",
       "    .dataframe thead th {\n",
       "        text-align: right;\n",
       "    }\n",
       "</style>\n",
       "<table border=\"1\" class=\"dataframe\">\n",
       "  <thead>\n",
       "    <tr style=\"text-align: right;\">\n",
       "      <th></th>\n",
       "      <th>Price</th>\n",
       "    </tr>\n",
       "    <tr>\n",
       "      <th>Date</th>\n",
       "      <th></th>\n",
       "    </tr>\n",
       "  </thead>\n",
       "  <tbody>\n",
       "    <tr>\n",
       "      <th>2018-01-02</th>\n",
       "      <td>1313.699951</td>\n",
       "    </tr>\n",
       "    <tr>\n",
       "      <th>2018-01-03</th>\n",
       "      <td>1316.199951</td>\n",
       "    </tr>\n",
       "    <tr>\n",
       "      <th>2018-01-04</th>\n",
       "      <td>1319.400024</td>\n",
       "    </tr>\n",
       "    <tr>\n",
       "      <th>2018-01-05</th>\n",
       "      <td>1320.300049</td>\n",
       "    </tr>\n",
       "    <tr>\n",
       "      <th>2018-01-08</th>\n",
       "      <td>1318.599976</td>\n",
       "    </tr>\n",
       "    <tr>\n",
       "      <th>...</th>\n",
       "      <td>...</td>\n",
       "    </tr>\n",
       "    <tr>\n",
       "      <th>2022-01-03</th>\n",
       "      <td>1799.400024</td>\n",
       "    </tr>\n",
       "    <tr>\n",
       "      <th>2022-01-04</th>\n",
       "      <td>1814.000000</td>\n",
       "    </tr>\n",
       "    <tr>\n",
       "      <th>2022-01-05</th>\n",
       "      <td>1824.599976</td>\n",
       "    </tr>\n",
       "    <tr>\n",
       "      <th>2022-01-06</th>\n",
       "      <td>1788.699951</td>\n",
       "    </tr>\n",
       "    <tr>\n",
       "      <th>2022-01-07</th>\n",
       "      <td>1797.000000</td>\n",
       "    </tr>\n",
       "  </tbody>\n",
       "</table>\n",
       "<p>1013 rows × 1 columns</p>\n",
       "</div>"
      ],
      "text/plain": [
       "                  Price\n",
       "Date                   \n",
       "2018-01-02  1313.699951\n",
       "2018-01-03  1316.199951\n",
       "2018-01-04  1319.400024\n",
       "2018-01-05  1320.300049\n",
       "2018-01-08  1318.599976\n",
       "...                 ...\n",
       "2022-01-03  1799.400024\n",
       "2022-01-04  1814.000000\n",
       "2022-01-05  1824.599976\n",
       "2022-01-06  1788.699951\n",
       "2022-01-07  1797.000000\n",
       "\n",
       "[1013 rows x 1 columns]"
      ]
     },
     "execution_count": 13,
     "metadata": {},
     "output_type": "execute_result"
    }
   ],
   "source": [
    "data"
   ]
  },
  {
   "cell_type": "code",
   "execution_count": 14,
   "metadata": {
    "ExecuteTime": {
     "end_time": "2022-01-09T10:54:30.693530Z",
     "start_time": "2022-01-09T10:54:30.681559Z"
    },
    "colab": {
     "base_uri": "https://localhost:8080/"
    },
    "id": "9X3Ky6Jjd3C-",
    "outputId": "b0f244e6-498a-45c4-fe22-2a12dd65f23c"
   },
   "outputs": [
    {
     "name": "stdout",
     "output_type": "stream",
     "text": [
      "<class 'pandas.core.frame.DataFrame'>\n",
      "DatetimeIndex: 1013 entries, 2018-01-02 to 2022-01-07\n",
      "Data columns (total 1 columns):\n",
      " #   Column  Non-Null Count  Dtype  \n",
      "---  ------  --------------  -----  \n",
      " 0   Price   1013 non-null   float64\n",
      "dtypes: float64(1)\n",
      "memory usage: 15.8 KB\n"
     ]
    }
   ],
   "source": [
    "data.info()"
   ]
  },
  {
   "cell_type": "code",
   "execution_count": 15,
   "metadata": {
    "ExecuteTime": {
     "end_time": "2022-01-09T10:54:32.679551Z",
     "start_time": "2022-01-09T10:54:32.671415Z"
    },
    "colab": {
     "base_uri": "https://localhost:8080/"
    },
    "id": "gSvV6xbmJyeU",
    "outputId": "7f4fff61-29a7-4d08-905e-45b0ff04e3ab"
   },
   "outputs": [
    {
     "data": {
      "text/plain": [
       "Price    0\n",
       "dtype: int64"
      ]
     },
     "execution_count": 15,
     "metadata": {},
     "output_type": "execute_result"
    }
   ],
   "source": [
    "data.isnull().sum()"
   ]
  },
  {
   "cell_type": "code",
   "execution_count": 16,
   "metadata": {
    "ExecuteTime": {
     "end_time": "2022-01-09T10:54:35.040825Z",
     "start_time": "2022-01-09T10:54:35.033838Z"
    },
    "colab": {
     "base_uri": "https://localhost:8080/"
    },
    "id": "e0By_1GPbvM7",
    "outputId": "b64e1d17-42d5-4e27-db80-8a5267389eb5"
   },
   "outputs": [
    {
     "name": "stdout",
     "output_type": "stream",
     "text": [
      "1013\n"
     ]
    }
   ],
   "source": [
    "print(len(data))"
   ]
  },
  {
   "cell_type": "code",
   "execution_count": 17,
   "metadata": {
    "ExecuteTime": {
     "end_time": "2022-01-09T10:54:41.108620Z",
     "start_time": "2022-01-09T10:54:40.983029Z"
    },
    "colab": {
     "base_uri": "https://localhost:8080/",
     "height": 81
    },
    "id": "SO9B_2FhKUvK",
    "outputId": "3809e228-6a7a-4c7d-e962-ea9d5c66f245"
   },
   "outputs": [
    {
     "data": {
      "text/html": [
       "<div>\n",
       "<style scoped>\n",
       "    .dataframe tbody tr th:only-of-type {\n",
       "        vertical-align: middle;\n",
       "    }\n",
       "\n",
       "    .dataframe tbody tr th {\n",
       "        vertical-align: top;\n",
       "    }\n",
       "\n",
       "    .dataframe thead th {\n",
       "        text-align: right;\n",
       "    }\n",
       "</style>\n",
       "<table border=\"1\" class=\"dataframe\">\n",
       "  <thead>\n",
       "    <tr style=\"text-align: right;\">\n",
       "      <th></th>\n",
       "      <th>count</th>\n",
       "      <th>mean</th>\n",
       "      <th>std</th>\n",
       "      <th>min</th>\n",
       "      <th>25%</th>\n",
       "      <th>50%</th>\n",
       "      <th>75%</th>\n",
       "      <th>max</th>\n",
       "    </tr>\n",
       "  </thead>\n",
       "  <tbody>\n",
       "    <tr>\n",
       "      <th>Price</th>\n",
       "      <td>1013.0</td>\n",
       "      <td>1560.023789</td>\n",
       "      <td>249.376143</td>\n",
       "      <td>1176.199951</td>\n",
       "      <td>1311.599976</td>\n",
       "      <td>1541.0</td>\n",
       "      <td>1792.699951</td>\n",
       "      <td>2051.5</td>\n",
       "    </tr>\n",
       "  </tbody>\n",
       "</table>\n",
       "</div>"
      ],
      "text/plain": [
       "        count         mean         std          min          25%     50%  \\\n",
       "Price  1013.0  1560.023789  249.376143  1176.199951  1311.599976  1541.0   \n",
       "\n",
       "               75%     max  \n",
       "Price  1792.699951  2051.5  "
      ]
     },
     "execution_count": 17,
     "metadata": {},
     "output_type": "execute_result"
    }
   ],
   "source": [
    "data.describe().T"
   ]
  },
  {
   "cell_type": "markdown",
   "metadata": {
    "id": "hgt3w9dpzzEh"
   },
   "source": [
    "### **Checking for Stationarity in data using Dickey-Fuller test**"
   ]
  },
  {
   "cell_type": "code",
   "execution_count": 18,
   "metadata": {
    "ExecuteTime": {
     "end_time": "2022-01-09T10:54:46.079375Z",
     "start_time": "2022-01-09T10:54:45.093071Z"
    },
    "colab": {
     "base_uri": "https://localhost:8080/"
    },
    "id": "CoERL5cLupIU",
    "outputId": "8f38ba4a-0a84-4901-c704-57e78696b17f"
   },
   "outputs": [
    {
     "name": "stdout",
     "output_type": "stream",
     "text": [
      "ADF Statistic: -0.527854\n",
      "p-value: 0.886465\n",
      "Critical Values:\n",
      "Inference: Time Series is non stationary\n"
     ]
    }
   ],
   "source": [
    "X = train['Price'].values\n",
    "\n",
    "result = adfuller(X)\n",
    "#print(result)\n",
    "print('ADF Statistic: %f' % result[0])\n",
    "print('p-value: %f' % result[1])\n",
    "print('Critical Values:')\n",
    "print(f'Inference: Time Series is {\"non\" if result[1]>=0.05 else\" \"} stationary')"
   ]
  },
  {
   "cell_type": "markdown",
   "metadata": {
    "id": "QTEJoJ4l1GFD"
   },
   "source": [
    "## **As the p-value > 0.05, we Fail to reject the null hypothesis (H0), the data has a unit root and is non-stationary.**"
   ]
  },
  {
   "cell_type": "markdown",
   "metadata": {
    "id": "3M-NNkMZm00W"
   },
   "source": [
    "### **Auto correlation graph**"
   ]
  },
  {
   "cell_type": "code",
   "execution_count": 19,
   "metadata": {
    "ExecuteTime": {
     "end_time": "2022-01-09T10:54:51.946020Z",
     "start_time": "2022-01-09T10:54:51.217372Z"
    },
    "colab": {
     "base_uri": "https://localhost:8080/",
     "height": 393
    },
    "id": "OytGUlDAmlUa",
    "outputId": "0e4d58c6-d3a6-45a4-bb23-ebd6c74e7528"
   },
   "outputs": [
    {
     "data": {
      "image/png": "[encoded data removed]",
      "text/plain": [
       "<Figure size 720x432 with 1 Axes>"
      ]
     },
     "metadata": {},
     "output_type": "display_data"
    }
   ],
   "source": [
    "plt.rc(\"figure\", figsize=(10,6))\n",
    "plot_acf(train['Price'],lags=35)\n",
    "plt.show()"
   ]
  },
  {
   "cell_type": "markdown",
   "metadata": {
    "id": "6oM19RDam4Oo"
   },
   "source": [
    "### **PACF graph**"
   ]
  },
  {
   "cell_type": "code",
   "execution_count": 20,
   "metadata": {
    "ExecuteTime": {
     "end_time": "2022-01-09T10:54:55.552094Z",
     "start_time": "2022-01-09T10:54:54.825595Z"
    },
    "colab": {
     "base_uri": "https://localhost:8080/",
     "height": 393
    },
    "id": "wuXqzcVym31x",
    "outputId": "6d518bbc-9e8b-42ad-cbba-d9954a2af4d3"
   },
   "outputs": [
    {
     "data": {
      "image/png": "[encoded data removed]",
      "text/plain": [
       "<Figure size 720x432 with 1 Axes>"
      ]
     },
     "metadata": {},
     "output_type": "display_data"
    }
   ],
   "source": [
    "plot_pacf(train['Price'],lags=35)\n",
    "plt.show()"
   ]
  },
  {
   "cell_type": "markdown",
   "metadata": {
    "id": "a4ayENu_1a-5"
   },
   "source": [
    "## **DIFFERENCE TRANSFORM to remove Seasonality**"
   ]
  },
  {
   "cell_type": "code",
   "execution_count": 21,
   "metadata": {
    "ExecuteTime": {
     "end_time": "2022-01-09T10:54:58.225979Z",
     "start_time": "2022-01-09T10:54:58.170351Z"
    },
    "id": "8hHYumdQ0JBk"
   },
   "outputs": [],
   "source": [
    "data_without_sea = train.diff().dropna()"
   ]
  },
  {
   "cell_type": "code",
   "execution_count": 22,
   "metadata": {
    "ExecuteTime": {
     "end_time": "2022-01-09T10:55:00.971765Z",
     "start_time": "2022-01-09T10:55:00.953722Z"
    },
    "colab": {
     "base_uri": "https://localhost:8080/"
    },
    "id": "aIrmUbJ4c1Hb",
    "outputId": "d4cba8f0-66ed-4a12-952f-fde016bcfe7f"
   },
   "outputs": [
    {
     "name": "stdout",
     "output_type": "stream",
     "text": [
      "<class 'pandas.core.frame.DataFrame'>\n",
      "DatetimeIndex: 812 entries, 2018-01-03 to 2021-03-26\n",
      "Data columns (total 1 columns):\n",
      " #   Column  Non-Null Count  Dtype  \n",
      "---  ------  --------------  -----  \n",
      " 0   Price   812 non-null    float64\n",
      "dtypes: float64(1)\n",
      "memory usage: 12.7 KB\n"
     ]
    }
   ],
   "source": [
    "data_without_sea.info()"
   ]
  },
  {
   "cell_type": "markdown",
   "metadata": {
    "id": "hqLroG-oadYV"
   },
   "source": [
    "### **Again checking for Stationarity in data using Dickey-Fuller test**"
   ]
  },
  {
   "cell_type": "code",
   "execution_count": 23,
   "metadata": {
    "ExecuteTime": {
     "end_time": "2022-01-09T10:55:04.917338Z",
     "start_time": "2022-01-09T10:55:04.757313Z"
    },
    "colab": {
     "base_uri": "https://localhost:8080/"
    },
    "id": "1HuA8bT1XmK1",
    "outputId": "63e2912c-2863-4a9b-ced9-901a951f4d98"
   },
   "outputs": [
    {
     "name": "stdout",
     "output_type": "stream",
     "text": [
      "ADF Statistic: -13.604258\n",
      "p-value: 0.000000\n",
      "Critical Values:\n",
      "Inference: Time Series is  stationary\n"
     ]
    }
   ],
   "source": [
    "X = data_without_sea['Price'].values\n",
    "result = adfuller(X)\n",
    "#print(result)\n",
    "print('ADF Statistic: %f' % result[0])\n",
    "print('p-value: %f' % result[1])\n",
    "print('Critical Values:')\n",
    "print(f'Inference: Time Series is {\"non\" if result[1]>=0.05 else\" \"}stationary')"
   ]
  },
  {
   "cell_type": "markdown",
   "metadata": {
    "id": "1Vj3Ftsub-pF"
   },
   "source": [
    "### **Auto correlation graph after 1 step differencing**"
   ]
  },
  {
   "cell_type": "code",
   "execution_count": 24,
   "metadata": {
    "ExecuteTime": {
     "end_time": "2022-01-09T10:55:09.978712Z",
     "start_time": "2022-01-09T10:55:09.627739Z"
    },
    "colab": {
     "base_uri": "https://localhost:8080/",
     "height": 393
    },
    "id": "16x-RvEzXmHg",
    "outputId": "63114eb2-9380-41cf-98c7-5bb5d1e4e562"
   },
   "outputs": [
    {
     "data": {
      "image/png": "[encoded data removed]",
      "text/plain": [
       "<Figure size 720x432 with 1 Axes>"
      ]
     },
     "metadata": {},
     "output_type": "display_data"
    }
   ],
   "source": [
    "plt.rc(\"figure\", figsize=(10,6))\n",
    "plot_acf(data_without_sea['Price'], lags=35)\n",
    "plt.show()"
   ]
  },
  {
   "cell_type": "markdown",
   "metadata": {
    "id": "JEOTD_mznUN6"
   },
   "source": [
    "### **Partial Auto Correlation graph after differencing**"
   ]
  },
  {
   "cell_type": "code",
   "execution_count": 25,
   "metadata": {
    "ExecuteTime": {
     "end_time": "2022-01-09T10:55:13.413047Z",
     "start_time": "2022-01-09T10:55:13.051873Z"
    },
    "colab": {
     "base_uri": "https://localhost:8080/",
     "height": 393
    },
    "id": "U-4AbjmqXmFO",
    "outputId": "bf373990-f74b-4fb2-d3cf-51731bc79048"
   },
   "outputs": [
    {
     "data": {
      "image/png": "[encoded data removed]",
      "text/plain": [
       "<Figure size 720x432 with 1 Axes>"
      ]
     },
     "metadata": {},
     "output_type": "display_data"
    }
   ],
   "source": [
    "plt.rc(\"figure\", figsize=(10,6))\n",
    "plot_pacf(data_without_sea)\n",
    "plt.show()"
   ]
  },
  {
   "cell_type": "code",
   "execution_count": 26,
   "metadata": {
    "ExecuteTime": {
     "end_time": "2022-01-09T10:55:16.973683Z",
     "start_time": "2022-01-09T10:55:16.273566Z"
    },
    "colab": {
     "base_uri": "https://localhost:8080/",
     "height": 377
    },
    "id": "4WeFmOSpRDEi",
    "outputId": "61bc1df8-1fbc-48f8-8d4c-c362942b302d"
   },
   "outputs": [
    {
     "data": {
      "image/png": "[encoded data removed]",
      "text/plain": [
       "<Figure size 720x432 with 1 Axes>"
      ]
     },
     "metadata": {},
     "output_type": "display_data"
    }
   ],
   "source": [
    "plt.plot(data_without_sea)\n",
    "plt.show()"
   ]
  },
  {
   "cell_type": "code",
   "execution_count": null,
   "metadata": {
    "id": "idhQJnfwR-CA"
   },
   "outputs": [],
   "source": []
  },
  {
   "cell_type": "code",
   "execution_count": 27,
   "metadata": {
    "ExecuteTime": {
     "end_time": "2022-01-09T10:55:20.078970Z",
     "start_time": "2022-01-09T10:55:20.062005Z"
    },
    "colab": {
     "base_uri": "https://localhost:8080/"
    },
    "id": "YryDYbrKc41b",
    "outputId": "ef8880a0-a6b5-4815-a338-8ba6ca40a9b4"
   },
   "outputs": [
    {
     "name": "stdout",
     "output_type": "stream",
     "text": [
      "<class 'pandas.core.frame.DataFrame'>\n",
      "DatetimeIndex: 812 entries, 2018-01-03 to 2021-03-26\n",
      "Data columns (total 1 columns):\n",
      " #   Column  Non-Null Count  Dtype  \n",
      "---  ------  --------------  -----  \n",
      " 0   Price   812 non-null    float64\n",
      "dtypes: float64(1)\n",
      "memory usage: 12.7 KB\n"
     ]
    }
   ],
   "source": [
    "data_without_sea.info()"
   ]
  },
  {
   "cell_type": "code",
   "execution_count": 28,
   "metadata": {
    "ExecuteTime": {
     "end_time": "2022-01-09T10:55:23.329371Z",
     "start_time": "2022-01-09T10:55:23.003265Z"
    },
    "colab": {
     "base_uri": "https://localhost:8080/"
    },
    "id": "Vrt6mgxsmTMg",
    "outputId": "94c14289-cc2b-4090-edb5-25b4668aa7cd"
   },
   "outputs": [
    {
     "name": "stdout",
     "output_type": "stream",
     "text": [
      "Dataset 813, Validation 200\n"
     ]
    }
   ],
   "source": [
    "# separate out a validation dataset\n",
    "\n",
    "print('Dataset %d, Validation %d' % (len(train), len(test)))\n",
    "train.to_csv('dataset.csv', header=False)\n",
    "test.to_csv('validation.csv', header=False)\n"
   ]
  },
  {
   "cell_type": "markdown",
   "metadata": {
    "id": "1T1bd-ndpnX2"
   },
   "source": [
    "### **Persistence/ Base model**"
   ]
  },
  {
   "cell_type": "code",
   "execution_count": 29,
   "metadata": {
    "ExecuteTime": {
     "end_time": "2022-01-09T10:55:33.534610Z",
     "start_time": "2022-01-09T10:55:26.243426Z"
    },
    "id": "H3P2F45LXl72"
   },
   "outputs": [],
   "source": [
    "# evaluate a persistence model\n",
    "from pandas import read_csv\n",
    "from sklearn.metrics import mean_squared_error\n",
    "from math import sqrt\n",
    "# load data\n",
    "train = read_csv('dataset.csv', header=None, index_col=0, parse_dates=True, squeeze=True)\n",
    "# prepare data\n",
    "X = train.values\n",
    "X = X.astype('float32')\n",
    "train_size = int(len(X) * 0.70)\n",
    "train, test = X[0:train_size], X[train_size:]"
   ]
  },
  {
   "cell_type": "code",
   "execution_count": 30,
   "metadata": {
    "ExecuteTime": {
     "end_time": "2022-01-09T10:55:33.770534Z",
     "start_time": "2022-01-09T10:55:33.696590Z"
    },
    "colab": {
     "base_uri": "https://localhost:8080/"
    },
    "id": "LJqe6jdhmVog",
    "outputId": "39c6acda-b559-46db-8101-d7ae464e6d42"
   },
   "outputs": [
    {
     "name": "stdout",
     "output_type": "stream",
     "text": [
      ">Predicted=1664.800, Expected=1665.400\n",
      ">Predicted=1665.400, Expected=1736.200\n",
      ">Predicted=1736.200, Expected=1744.800\n",
      ">Predicted=1744.800, Expected=1756.700\n",
      ">Predicted=1756.700, Expected=1727.200\n",
      ">Predicted=1727.200, Expected=1720.400\n",
      ">Predicted=1720.400, Expected=1689.200\n",
      ">Predicted=1689.200, Expected=1701.600\n",
      ">Predicted=1701.600, Expected=1678.200\n",
      ">Predicted=1678.200, Expected=1728.700\n",
      ">Predicted=1728.700, Expected=1733.300\n",
      ">Predicted=1733.300, Expected=1723.500\n",
      ">Predicted=1723.500, Expected=1711.900\n",
      ">Predicted=1711.900, Expected=1710.500\n",
      ">Predicted=1710.500, Expected=1703.400\n",
      ">Predicted=1703.400, Expected=1684.200\n",
      ">Predicted=1684.200, Expected=1694.500\n",
      ">Predicted=1694.500, Expected=1706.900\n",
      ">Predicted=1706.900, Expected=1704.400\n",
      ">Predicted=1704.400, Expected=1684.200\n",
      ">Predicted=1684.200, Expected=1721.800\n",
      ">Predicted=1721.800, Expected=1709.900\n",
      ">Predicted=1709.900, Expected=1695.300\n",
      ">Predicted=1695.300, Expected=1704.400\n",
      ">Predicted=1704.400, Expected=1713.900\n",
      ">Predicted=1713.900, Expected=1738.100\n",
      ">Predicted=1738.100, Expected=1753.400\n",
      ">Predicted=1753.400, Expected=1731.800\n",
      ">Predicted=1731.800, Expected=1744.200\n",
      ">Predicted=1744.200, Expected=1750.600\n",
      ">Predicted=1750.600, Expected=1720.500\n",
      ">Predicted=1720.500, Expected=1734.600\n",
      ">Predicted=1734.600, Expected=1704.800\n",
      ">Predicted=1704.800, Expected=1710.300\n",
      ">Predicted=1710.300, Expected=1713.300\n",
      ">Predicted=1713.300, Expected=1736.900\n",
      ">Predicted=1736.900, Expected=1737.800\n",
      ">Predicted=1737.800, Expected=1725.200\n",
      ">Predicted=1725.200, Expected=1697.800\n",
      ">Predicted=1697.800, Expected=1718.900\n",
      ">Predicted=1718.900, Expected=1676.200\n",
      ">Predicted=1676.200, Expected=1698.300\n",
      ">Predicted=1698.300, Expected=1714.700\n",
      ">Predicted=1714.700, Expected=1713.300\n",
      ">Predicted=1713.300, Expected=1732.000\n",
      ">Predicted=1732.000, Expected=1729.300\n",
      ">Predicted=1729.300, Expected=1720.300\n",
      ">Predicted=1720.300, Expected=1729.600\n",
      ">Predicted=1729.600, Expected=1729.200\n",
      ">Predicted=1729.200, Expected=1724.800\n",
      ">Predicted=1724.800, Expected=1745.900\n",
      ">Predicted=1745.900, Expected=1756.700\n",
      ">Predicted=1756.700, Expected=1772.100\n",
      ">Predicted=1772.100, Expected=1765.800\n",
      ">Predicted=1765.800, Expected=1762.100\n",
      ">Predicted=1762.100, Expected=1772.500\n",
      ">Predicted=1772.500, Expected=1774.800\n",
      ">Predicted=1774.800, Expected=1793.000\n",
      ">Predicted=1793.000, Expected=1773.200\n",
      ">Predicted=1773.200, Expected=1784.000\n",
      ">Predicted=1784.000, Expected=1788.500\n",
      ">Predicted=1788.500, Expected=1804.200\n",
      ">Predicted=1804.200, Expected=1815.500\n",
      ">Predicted=1815.500, Expected=1799.200\n",
      ">Predicted=1799.200, Expected=1798.200\n",
      ">Predicted=1798.200, Expected=1811.000\n",
      ">Predicted=1811.000, Expected=1810.600\n",
      ">Predicted=1810.600, Expected=1811.400\n",
      ">Predicted=1811.400, Expected=1798.700\n",
      ">Predicted=1798.700, Expected=1808.300\n",
      ">Predicted=1808.300, Expected=1815.900\n",
      ">Predicted=1815.900, Expected=1842.400\n",
      ">Predicted=1842.400, Expected=1864.100\n",
      ">Predicted=1864.100, Expected=1889.100\n",
      ">Predicted=1889.100, Expected=1897.300\n",
      ">Predicted=1897.300, Expected=1931.000\n",
      ">Predicted=1931.000, Expected=1944.700\n",
      ">Predicted=1944.700, Expected=1953.500\n",
      ">Predicted=1953.500, Expected=1942.300\n",
      ">Predicted=1942.300, Expected=1962.800\n",
      ">Predicted=1962.800, Expected=1966.000\n",
      ">Predicted=1966.000, Expected=2001.200\n",
      ">Predicted=2001.200, Expected=2031.100\n",
      ">Predicted=2031.100, Expected=2051.500\n",
      ">Predicted=2051.500, Expected=2010.100\n",
      ">Predicted=2010.100, Expected=2024.400\n",
      ">Predicted=2024.400, Expected=1932.600\n",
      ">Predicted=1932.600, Expected=1934.900\n",
      ">Predicted=1934.900, Expected=1956.700\n",
      ">Predicted=1956.700, Expected=1937.000\n",
      ">Predicted=1937.000, Expected=1985.000\n",
      ">Predicted=1985.000, Expected=1999.400\n",
      ">Predicted=1999.400, Expected=1958.700\n",
      ">Predicted=1958.700, Expected=1933.800\n",
      ">Predicted=1933.800, Expected=1934.600\n",
      ">Predicted=1934.600, Expected=1927.700\n",
      ">Predicted=1927.700, Expected=1911.800\n",
      ">Predicted=1911.800, Expected=1940.700\n",
      ">Predicted=1940.700, Expected=1921.600\n",
      ">Predicted=1921.600, Expected=1964.600\n",
      ">Predicted=1964.600, Expected=1967.600\n",
      ">Predicted=1967.600, Expected=1968.200\n",
      ">Predicted=1968.200, Expected=1934.400\n",
      ">Predicted=1934.400, Expected=1927.600\n",
      ">Predicted=1927.600, Expected=1923.900\n",
      ">Predicted=1923.900, Expected=1933.000\n",
      ">Predicted=1933.000, Expected=1944.700\n",
      ">Predicted=1944.700, Expected=1954.200\n",
      ">Predicted=1954.200, Expected=1937.800\n",
      ">Predicted=1937.800, Expected=1953.100\n",
      ">Predicted=1953.100, Expected=1956.300\n",
      ">Predicted=1956.300, Expected=1960.200\n",
      ">Predicted=1960.200, Expected=1940.000\n",
      ">Predicted=1940.000, Expected=1952.100\n",
      ">Predicted=1952.100, Expected=1901.200\n",
      ">Predicted=1901.200, Expected=1898.600\n",
      ">Predicted=1898.600, Expected=1859.900\n",
      ">Predicted=1859.900, Expected=1868.300\n",
      ">Predicted=1868.300, Expected=1857.700\n",
      ">Predicted=1857.700, Expected=1872.800\n",
      ">Predicted=1872.800, Expected=1894.300\n",
      ">Predicted=1894.300, Expected=1887.500\n",
      ">Predicted=1887.500, Expected=1908.400\n",
      ">Predicted=1908.400, Expected=1900.200\n",
      ">Predicted=1900.200, Expected=1912.500\n",
      ">Predicted=1912.500, Expected=1901.100\n",
      ">Predicted=1901.100, Expected=1883.600\n",
      ">Predicted=1883.600, Expected=1888.600\n",
      ">Predicted=1888.600, Expected=1919.500\n",
      ">Predicted=1919.500, Expected=1922.500\n",
      ">Predicted=1922.500, Expected=1888.500\n",
      ">Predicted=1888.500, Expected=1901.300\n",
      ">Predicted=1901.300, Expected=1903.200\n",
      ">Predicted=1903.200, Expected=1900.800\n",
      ">Predicted=1900.800, Expected=1906.400\n",
      ">Predicted=1906.400, Expected=1910.400\n",
      ">Predicted=1910.400, Expected=1924.600\n",
      ">Predicted=1924.600, Expected=1901.100\n",
      ">Predicted=1901.100, Expected=1902.000\n",
      ">Predicted=1902.000, Expected=1902.700\n",
      ">Predicted=1902.700, Expected=1908.800\n",
      ">Predicted=1908.800, Expected=1876.200\n",
      ">Predicted=1876.200, Expected=1865.600\n",
      ">Predicted=1865.600, Expected=1877.400\n",
      ">Predicted=1877.400, Expected=1890.400\n",
      ">Predicted=1890.400, Expected=1908.500\n",
      ">Predicted=1908.500, Expected=1894.600\n",
      ">Predicted=1894.600, Expected=1945.300\n",
      ">Predicted=1945.300, Expected=1950.300\n",
      ">Predicted=1950.300, Expected=1853.200\n",
      ">Predicted=1853.200, Expected=1875.400\n",
      ">Predicted=1875.400, Expected=1860.700\n",
      ">Predicted=1860.700, Expected=1872.600\n",
      ">Predicted=1872.600, Expected=1885.700\n",
      ">Predicted=1885.700, Expected=1887.300\n",
      ">Predicted=1887.300, Expected=1884.500\n",
      ">Predicted=1884.500, Expected=1873.500\n",
      ">Predicted=1873.500, Expected=1861.100\n",
      ">Predicted=1861.100, Expected=1872.600\n",
      ">Predicted=1872.600, Expected=1837.800\n",
      ">Predicted=1837.800, Expected=1804.800\n",
      ">Predicted=1804.800, Expected=1805.700\n",
      ">Predicted=1805.700, Expected=1781.900\n",
      ">Predicted=1781.900, Expected=1775.700\n",
      ">Predicted=1775.700, Expected=1814.100\n",
      ">Predicted=1814.100, Expected=1825.700\n",
      ">Predicted=1825.700, Expected=1836.800\n",
      ">Predicted=1836.800, Expected=1835.900\n",
      ">Predicted=1835.900, Expected=1861.800\n",
      ">Predicted=1861.800, Expected=1870.800\n",
      ">Predicted=1870.800, Expected=1834.600\n",
      ">Predicted=1834.600, Expected=1833.600\n",
      ">Predicted=1833.600, Expected=1839.800\n",
      ">Predicted=1839.800, Expected=1828.700\n",
      ">Predicted=1828.700, Expected=1852.300\n",
      ">Predicted=1852.300, Expected=1856.100\n",
      ">Predicted=1856.100, Expected=1887.200\n",
      ">Predicted=1887.200, Expected=1885.700\n",
      ">Predicted=1885.700, Expected=1879.200\n",
      ">Predicted=1879.200, Expected=1866.600\n",
      ">Predicted=1866.600, Expected=1874.700\n",
      ">Predicted=1874.700, Expected=1879.900\n",
      ">Predicted=1879.900, Expected=1877.200\n",
      ">Predicted=1877.200, Expected=1879.700\n",
      ">Predicted=1879.700, Expected=1891.000\n",
      ">Predicted=1891.000, Expected=1893.100\n",
      ">Predicted=1893.100, Expected=1944.700\n",
      ">Predicted=1944.700, Expected=1952.700\n",
      ">Predicted=1952.700, Expected=1906.900\n",
      ">Predicted=1906.900, Expected=1912.300\n",
      ">Predicted=1912.300, Expected=1834.100\n",
      ">Predicted=1834.100, Expected=1849.600\n",
      ">Predicted=1849.600, Expected=1842.900\n",
      ">Predicted=1842.900, Expected=1853.600\n",
      ">Predicted=1853.600, Expected=1850.300\n",
      ">Predicted=1850.300, Expected=1829.300\n",
      ">Predicted=1829.300, Expected=1839.500\n",
      ">Predicted=1839.500, Expected=1865.900\n",
      ">Predicted=1865.900, Expected=1865.300\n",
      ">Predicted=1865.300, Expected=1855.700\n",
      ">Predicted=1855.700, Expected=1854.900\n",
      ">Predicted=1854.900, Expected=1850.700\n",
      ">Predicted=1850.700, Expected=1844.900\n",
      ">Predicted=1844.900, Expected=1837.900\n",
      ">Predicted=1837.900, Expected=1847.300\n",
      ">Predicted=1847.300, Expected=1860.800\n",
      ">Predicted=1860.800, Expected=1830.500\n",
      ">Predicted=1830.500, Expected=1832.200\n",
      ">Predicted=1832.200, Expected=1788.900\n",
      ">Predicted=1788.900, Expected=1810.900\n",
      ">Predicted=1810.900, Expected=1831.900\n",
      ">Predicted=1831.900, Expected=1835.300\n",
      ">Predicted=1835.300, Expected=1840.600\n",
      ">Predicted=1840.600, Expected=1824.900\n",
      ">Predicted=1824.900, Expected=1821.600\n",
      ">Predicted=1821.600, Expected=1797.200\n",
      ">Predicted=1797.200, Expected=1771.100\n",
      ">Predicted=1771.100, Expected=1773.400\n",
      ">Predicted=1773.400, Expected=1775.800\n",
      ">Predicted=1775.800, Expected=1806.700\n",
      ">Predicted=1806.700, Expected=1804.400\n",
      ">Predicted=1804.400, Expected=1796.400\n",
      ">Predicted=1796.400, Expected=1774.400\n",
      ">Predicted=1774.400, Expected=1728.100\n",
      ">Predicted=1728.100, Expected=1722.500\n",
      ">Predicted=1722.500, Expected=1733.100\n",
      ">Predicted=1733.100, Expected=1715.300\n",
      ">Predicted=1715.300, Expected=1700.200\n",
      ">Predicted=1700.200, Expected=1698.000\n",
      ">Predicted=1698.000, Expected=1677.700\n",
      ">Predicted=1677.700, Expected=1716.600\n",
      ">Predicted=1716.600, Expected=1721.500\n",
      ">Predicted=1721.500, Expected=1722.300\n",
      ">Predicted=1722.300, Expected=1719.500\n",
      ">Predicted=1719.500, Expected=1728.900\n",
      ">Predicted=1728.900, Expected=1730.600\n",
      ">Predicted=1730.600, Expected=1726.800\n",
      ">Predicted=1726.800, Expected=1732.200\n",
      ">Predicted=1732.200, Expected=1741.400\n",
      ">Predicted=1741.400, Expected=1737.800\n",
      ">Predicted=1737.800, Expected=1724.700\n",
      ">Predicted=1724.700, Expected=1732.900\n",
      ">Predicted=1732.900, Expected=1724.900\n",
      ">Predicted=1724.900, Expected=1732.200\n",
      "RMSE: 21.457\n"
     ]
    }
   ],
   "source": [
    "# walk-forward validation\n",
    "history = [x for x in train]\n",
    "predictions = list()\n",
    "for i in range(len(test)):\n",
    "    yhat = history[-1]\n",
    "    predictions.append(yhat)\n",
    "# observation\n",
    "    obs = test[i]\n",
    "    history.append(obs)\n",
    "    print('>Predicted=%.3f, Expected=%.3f' % (yhat, obs))\n",
    "# report performance\n",
    "rmse = sqrt(mean_squared_error(test, predictions))\n",
    "print('RMSE: %.3f' % rmse)"
   ]
  },
  {
   "cell_type": "markdown",
   "metadata": {
    "id": "Swc54bwspZE6"
   },
   "source": [
    "### **ARIMA Hyperparameters**"
   ]
  },
  {
   "cell_type": "code",
   "execution_count": 31,
   "metadata": {
    "ExecuteTime": {
     "end_time": "2022-01-09T10:55:42.707142Z",
     "start_time": "2022-01-09T10:55:42.696175Z"
    },
    "id": "dgNmC1ozmVsc"
   },
   "outputs": [],
   "source": [
    "# grid search ARIMA parameters for a time series\n",
    "\n",
    "import warnings\n",
    "from pandas import read_csv\n",
    "from statsmodels.tsa.arima_model import ARIMA\n",
    "from sklearn.metrics import mean_squared_error\n",
    "from math import sqrt\n",
    "\n",
    "\n",
    "# evaluate an ARIMA model for a given order (p,d,q) and return RMSE\n",
    "def evaluate_arima_model(X, arima_order):\n",
    "# prepare training dataset\n",
    "    X = X.astype('float32')\n",
    "    train_size = int(len(X) * 0.70)\n",
    "    train, test = X[0:train_size], X[train_size:]\n",
    "    history = [x for x in train]\n",
    "# make predictions\n",
    "    predictions = list()\n",
    "    for t in range(len(test)):\n",
    "        model = ARIMA(history, order=arima_order)\n",
    "# model_fit = model.fit(disp=0)\n",
    "        model_fit = model.fit(disp=0)\n",
    "        yhat = model_fit.forecast()[0]\n",
    "        predictions.append(yhat)\n",
    "        history.append(test[t])\n",
    "# calculate out of sample error\n",
    "    rmse = sqrt(mean_squared_error(test, predictions))\n",
    "    return rmse"
   ]
  },
  {
   "cell_type": "markdown",
   "metadata": {
    "id": "Y7I-F-DQpN5U"
   },
   "source": [
    "### **Grid search for p,d,q values**"
   ]
  },
  {
   "cell_type": "code",
   "execution_count": 32,
   "metadata": {
    "ExecuteTime": {
     "end_time": "2022-01-09T10:55:45.683853Z",
     "start_time": "2022-01-09T10:55:45.671818Z"
    },
    "id": "1kTFGriJmVvL"
   },
   "outputs": [],
   "source": [
    "# evaluate combinations of p, d and q values for an ARIMA model\n",
    "def evaluate_models(dataset, p_values, d_values, q_values):\n",
    "    dataset = dataset.astype('float32')\n",
    "    best_score, best_cfg = float('inf'), None\n",
    "    for p in p_values:\n",
    "        for d in d_values:\n",
    "            for q in q_values:\n",
    "                order = (p,d,q)\n",
    "                try:\n",
    "                    rmse = evaluate_arima_model(train, order)\n",
    "                    if rmse < best_score:\n",
    "                        best_score, best_cfg = rmse, order\n",
    "                    print('ARIMA%s RMSE=%.3f' % (order,rmse))\n",
    "                except:\n",
    "                    continue\n",
    "    print('Best ARIMA%s RMSE=%.3f' % (best_cfg, best_score))"
   ]
  },
  {
   "cell_type": "code",
   "execution_count": 33,
   "metadata": {
    "ExecuteTime": {
     "end_time": "2022-01-09T11:15:31.633881Z",
     "start_time": "2022-01-09T10:55:50.238664Z"
    },
    "colab": {
     "base_uri": "https://localhost:8080/"
    },
    "id": "sb06aog9mVxw",
    "outputId": "7d88c040-af38-420e-cb62-54ad57c2f346"
   },
   "outputs": [
    {
     "name": "stdout",
     "output_type": "stream",
     "text": [
      "ARIMA(0, 0, 0) RMSE=402.694\n",
      "ARIMA(0, 0, 1) RMSE=212.166\n",
      "ARIMA(0, 1, 0) RMSE=21.473\n",
      "ARIMA(0, 1, 1) RMSE=21.521\n",
      "ARIMA(0, 1, 2) RMSE=21.564\n",
      "ARIMA(0, 2, 0) RMSE=31.861\n",
      "ARIMA(0, 2, 1) RMSE=21.550\n",
      "ARIMA(0, 2, 2) RMSE=21.596\n",
      "ARIMA(1, 0, 0) RMSE=21.486\n",
      "ARIMA(1, 1, 0) RMSE=21.524\n",
      "ARIMA(1, 1, 1) RMSE=21.558\n",
      "ARIMA(1, 1, 2) RMSE=21.570\n",
      "ARIMA(1, 2, 0) RMSE=26.287\n",
      "ARIMA(1, 2, 1) RMSE=21.599\n",
      "ARIMA(2, 0, 0) RMSE=7555.688\n",
      "ARIMA(2, 1, 0) RMSE=21.554\n",
      "ARIMA(2, 1, 1) RMSE=21.563\n",
      "ARIMA(2, 1, 2) RMSE=21.765\n",
      "ARIMA(2, 2, 0) RMSE=25.099\n",
      "Best ARIMA(0, 1, 0) RMSE=21.473\n"
     ]
    }
   ],
   "source": [
    "# load dataset\n",
    "train = read_csv('dataset.csv', header=None, index_col=0, parse_dates=True, squeeze=True)\n",
    "# evaluate parameters\n",
    "p_values = range(0, 3)\n",
    "d_values = range(0, 3)\n",
    "q_values = range(0, 3)\n",
    "warnings.filterwarnings(\"ignore\")\n",
    "evaluate_models(train.values, p_values, d_values, q_values)"
   ]
  },
  {
   "cell_type": "markdown",
   "metadata": {
    "id": "oA4CaeO0sd2d"
   },
   "source": [
    "### **Build Model based on the optimized values**"
   ]
  },
  {
   "cell_type": "code",
   "execution_count": 34,
   "metadata": {
    "ExecuteTime": {
     "end_time": "2022-01-09T11:15:36.862170Z",
     "start_time": "2022-01-09T11:15:36.854012Z"
    },
    "id": "7XIT8u1dmV0O"
   },
   "outputs": [],
   "source": [
    "# save finalized model to file\n",
    "from pandas import read_csv\n",
    "from statsmodels.tsa.arima_model import ARIMA\n",
    "import numpy"
   ]
  },
  {
   "cell_type": "code",
   "execution_count": 35,
   "metadata": {
    "ExecuteTime": {
     "end_time": "2022-01-09T11:15:40.061093Z",
     "start_time": "2022-01-09T11:15:39.919172Z"
    },
    "id": "8M5RqtGTmV3B"
   },
   "outputs": [],
   "source": [
    "# load data\n",
    "train = read_csv('dataset.csv', header=0, index_col=0, parse_dates=True)\n",
    "# prepare data\n",
    "X = train.values\n",
    "X = X.astype('float32')"
   ]
  },
  {
   "cell_type": "code",
   "execution_count": 36,
   "metadata": {
    "ExecuteTime": {
     "end_time": "2022-01-09T11:15:44.162343Z",
     "start_time": "2022-01-09T11:15:43.042157Z"
    },
    "colab": {
     "base_uri": "https://localhost:8080/",
     "height": 377
    },
    "id": "ifFimA2qsuDr",
    "outputId": "e7feebcd-ea71-4b16-93f8-cbc82b5d4163"
   },
   "outputs": [
    {
     "data": {
      "image/png": "[encoded data removed]",
      "text/plain": [
       "<Figure size 720x432 with 1 Axes>"
      ]
     },
     "metadata": {},
     "output_type": "display_data"
    }
   ],
   "source": [
    "# fit model\n",
    "model = ARIMA(X, order=(0,1,0))\n",
    "model_fit = model.fit()\n",
    "forecast=model_fit.forecast(steps=200)[0]\n",
    "model_fit.plot_predict(1, 1004)\n",
    "plt.show()"
   ]
  },
  {
   "cell_type": "code",
   "execution_count": 37,
   "metadata": {
    "ExecuteTime": {
     "end_time": "2022-01-09T11:15:48.329767Z",
     "start_time": "2022-01-09T11:15:48.306832Z"
    },
    "colab": {
     "base_uri": "https://localhost:8080/"
    },
    "id": "RtrhVr-ssuAD",
    "outputId": "648aa55e-b0c9-4705-9d02-3d5f3228b6e2"
   },
   "outputs": [
    {
     "data": {
      "text/plain": [
       "54.76417440060101"
      ]
     },
     "execution_count": 37,
     "metadata": {},
     "output_type": "execute_result"
    }
   ],
   "source": [
    "#Error on the test data\n",
    "val=pd.read_csv('validation.csv',header=None)\n",
    "rmse = sqrt(mean_squared_error(val[1], forecast))\n",
    "rmse"
   ]
  },
  {
   "cell_type": "code",
   "execution_count": 38,
   "metadata": {
    "ExecuteTime": {
     "end_time": "2022-01-09T11:15:52.721695Z",
     "start_time": "2022-01-09T11:15:52.702612Z"
    },
    "colab": {
     "base_uri": "https://localhost:8080/"
    },
    "id": "lrD6IT3KC8cE",
    "outputId": "cdb617c7-45b0-428d-bd39-154481325165"
   },
   "outputs": [
    {
     "data": {
      "text/plain": [
       "0      1712.099976\n",
       "1      1683.900024\n",
       "2      1713.800049\n",
       "3      1726.500000\n",
       "4      1727.000000\n",
       "          ...     \n",
       "195    1799.400024\n",
       "196    1814.000000\n",
       "197    1824.599976\n",
       "198    1788.699951\n",
       "199    1797.000000\n",
       "Name: 1, Length: 200, dtype: float64"
      ]
     },
     "execution_count": 38,
     "metadata": {},
     "output_type": "execute_result"
    }
   ],
   "source": [
    "val[1]"
   ]
  },
  {
   "cell_type": "code",
   "execution_count": 39,
   "metadata": {
    "ExecuteTime": {
     "end_time": "2022-01-09T11:15:56.175807Z",
     "start_time": "2022-01-09T11:15:56.153286Z"
    },
    "colab": {
     "base_uri": "https://localhost:8080/"
    },
    "id": "gMZQaXVKCl-j",
    "outputId": "5c68f4db-6333-4b6d-9f9a-bbee0d862d27"
   },
   "outputs": [
    {
     "data": {
      "text/plain": [
       "array([1732.71289815, 1733.22584513, 1733.73879211, 1734.25173909,\n",
       "       1734.76468607, 1735.27763305, 1735.79058003, 1736.303527  ,\n",
       "       1736.81647398, 1737.32942096, 1737.84236794, 1738.35531492,\n",
       "       1738.8682619 , 1739.38120888, 1739.89415586, 1740.40710284,\n",
       "       1740.92004982, 1741.43299679, 1741.94594377, 1742.45889075,\n",
       "       1742.97183773, 1743.48478471, 1743.99773169, 1744.51067867,\n",
       "       1745.02362565, 1745.53657263, 1746.04951961, 1746.56246658,\n",
       "       1747.07541356, 1747.58836054, 1748.10130752, 1748.6142545 ,\n",
       "       1749.12720148, 1749.64014846, 1750.15309544, 1750.66604242,\n",
       "       1751.1789894 , 1751.69193638, 1752.20488335, 1752.71783033,\n",
       "       1753.23077731, 1753.74372429, 1754.25667127, 1754.76961825,\n",
       "       1755.28256523, 1755.79551221, 1756.30845919, 1756.82140617,\n",
       "       1757.33435314, 1757.84730012, 1758.3602471 , 1758.87319408,\n",
       "       1759.38614106, 1759.89908804, 1760.41203502, 1760.924982  ,\n",
       "       1761.43792898, 1761.95087596, 1762.46382294, 1762.97676991,\n",
       "       1763.48971689, 1764.00266387, 1764.51561085, 1765.02855783,\n",
       "       1765.54150481, 1766.05445179, 1766.56739877, 1767.08034575,\n",
       "       1767.59329273, 1768.1062397 , 1768.61918668, 1769.13213366,\n",
       "       1769.64508064, 1770.15802762, 1770.6709746 , 1771.18392158,\n",
       "       1771.69686856, 1772.20981554, 1772.72276252, 1773.23570949,\n",
       "       1773.74865647, 1774.26160345, 1774.77455043, 1775.28749741,\n",
       "       1775.80044439, 1776.31339137, 1776.82633835, 1777.33928533,\n",
       "       1777.85223231, 1778.36517929, 1778.87812626, 1779.39107324,\n",
       "       1779.90402022, 1780.4169672 , 1780.92991418, 1781.44286116,\n",
       "       1781.95580814, 1782.46875512, 1782.9817021 , 1783.49464908,\n",
       "       1784.00759605, 1784.52054303, 1785.03349001, 1785.54643699,\n",
       "       1786.05938397, 1786.57233095, 1787.08527793, 1787.59822491,\n",
       "       1788.11117189, 1788.62411887, 1789.13706585, 1789.65001282,\n",
       "       1790.1629598 , 1790.67590678, 1791.18885376, 1791.70180074,\n",
       "       1792.21474772, 1792.7276947 , 1793.24064168, 1793.75358866,\n",
       "       1794.26653564, 1794.77948261, 1795.29242959, 1795.80537657,\n",
       "       1796.31832355, 1796.83127053, 1797.34421751, 1797.85716449,\n",
       "       1798.37011147, 1798.88305845, 1799.39600543, 1799.9089524 ,\n",
       "       1800.42189938, 1800.93484636, 1801.44779334, 1801.96074032,\n",
       "       1802.4736873 , 1802.98663428, 1803.49958126, 1804.01252824,\n",
       "       1804.52547522, 1805.0384222 , 1805.55136917, 1806.06431615,\n",
       "       1806.57726313, 1807.09021011, 1807.60315709, 1808.11610407,\n",
       "       1808.62905105, 1809.14199803, 1809.65494501, 1810.16789199,\n",
       "       1810.68083896, 1811.19378594, 1811.70673292, 1812.2196799 ,\n",
       "       1812.73262688, 1813.24557386, 1813.75852084, 1814.27146782,\n",
       "       1814.7844148 , 1815.29736178, 1815.81030876, 1816.32325573,\n",
       "       1816.83620271, 1817.34914969, 1817.86209667, 1818.37504365,\n",
       "       1818.88799063, 1819.40093761, 1819.91388459, 1820.42683157,\n",
       "       1820.93977855, 1821.45272552, 1821.9656725 , 1822.47861948,\n",
       "       1822.99156646, 1823.50451344, 1824.01746042, 1824.5304074 ,\n",
       "       1825.04335438, 1825.55630136, 1826.06924834, 1826.58219531,\n",
       "       1827.09514229, 1827.60808927, 1828.12103625, 1828.63398323,\n",
       "       1829.14693021, 1829.65987719, 1830.17282417, 1830.68577115,\n",
       "       1831.19871813, 1831.71166511, 1832.22461208, 1832.73755906,\n",
       "       1833.25050604, 1833.76345302, 1834.2764    , 1834.78934698])"
      ]
     },
     "execution_count": 39,
     "metadata": {},
     "output_type": "execute_result"
    }
   ],
   "source": [
    "forecast"
   ]
  },
  {
   "cell_type": "markdown",
   "metadata": {
    "id": "B8hLYWQRugRq"
   },
   "source": [
    "### **Combine train and test data and build final model**"
   ]
  },
  {
   "cell_type": "code",
   "execution_count": 40,
   "metadata": {
    "ExecuteTime": {
     "end_time": "2022-01-09T11:16:01.114856Z",
     "start_time": "2022-01-09T11:16:01.105846Z"
    },
    "id": "1hBb6mnzstpz"
   },
   "outputs": [],
   "source": [
    "# fit model\n",
    "#data = read_csv('data', header=0, index_col=0, parse_dates=True)\n",
    "# prepare data\n",
    "X = data.values\n",
    "X = X.astype('float32')"
   ]
  },
  {
   "cell_type": "code",
   "execution_count": 41,
   "metadata": {
    "ExecuteTime": {
     "end_time": "2022-01-09T11:16:05.040888Z",
     "start_time": "2022-01-09T11:16:05.016951Z"
    },
    "id": "jPP31eRtstWG"
   },
   "outputs": [],
   "source": [
    "model = ARIMA(X, order=(0,1,0))\n",
    "model_fit = model.fit()"
   ]
  },
  {
   "cell_type": "code",
   "execution_count": 42,
   "metadata": {
    "ExecuteTime": {
     "end_time": "2022-01-09T11:16:09.753775Z",
     "start_time": "2022-01-09T11:16:09.341618Z"
    },
    "colab": {
     "base_uri": "https://localhost:8080/",
     "height": 377
    },
    "id": "8t8hwtlXstTp",
    "outputId": "0517f925-e7a8-4b2f-80c7-4871700ac5ad"
   },
   "outputs": [
    {
     "data": {
      "image/png": "[encoded data removed]",
      "text/plain": [
       "<Figure size 720x432 with 1 Axes>"
      ]
     },
     "metadata": {},
     "output_type": "display_data"
    }
   ],
   "source": [
    "forecast_final=model_fit.forecast(steps=30)[0]\n",
    "model_fit.plot_predict(1,1034)\n",
    "plt.show()"
   ]
  },
  {
   "cell_type": "code",
   "execution_count": 43,
   "metadata": {
    "ExecuteTime": {
     "end_time": "2022-01-09T11:16:12.638882Z",
     "start_time": "2022-01-09T11:16:12.628111Z"
    },
    "colab": {
     "base_uri": "https://localhost:8080/"
    },
    "id": "Gp-HgTYgstRO",
    "outputId": "ad880f5d-a7b3-49fc-d4f9-95c0bb458c85"
   },
   "outputs": [
    {
     "data": {
      "text/plain": [
       "array([1797.47756922, 1797.95513844, 1798.43270765, 1798.91027687,\n",
       "       1799.38784609, 1799.86541531, 1800.34298453, 1800.82055375,\n",
       "       1801.29812296, 1801.77569218, 1802.2532614 , 1802.73083062,\n",
       "       1803.20839984, 1803.68596905, 1804.16353827, 1804.64110749,\n",
       "       1805.11867671, 1805.59624593, 1806.07381515, 1806.55138436,\n",
       "       1807.02895358, 1807.5065228 , 1807.98409202, 1808.46166124,\n",
       "       1808.93923046, 1809.41679967, 1809.89436889, 1810.37193811,\n",
       "       1810.84950733, 1811.32707655])"
      ]
     },
     "execution_count": 43,
     "metadata": {},
     "output_type": "execute_result"
    }
   ],
   "source": [
    "forecast_final"
   ]
  },
  {
   "cell_type": "code",
   "execution_count": 44,
   "metadata": {
    "ExecuteTime": {
     "end_time": "2022-01-09T11:16:15.802489Z",
     "start_time": "2022-01-09T11:16:15.788490Z"
    },
    "id": "amDmJ02HudFq"
   },
   "outputs": [],
   "source": [
    "import pickle\n",
    "pickle_out = open(\"model_arima.pkl\",\"wb\")\n",
    "pickle.dump(model_fit, pickle_out)\n",
    "pickle_out.close()"
   ]
  },
  {
   "cell_type": "code",
   "execution_count": null,
   "metadata": {},
   "outputs": [],
   "source": []
  }
 ],
 "metadata": {
  "colab": {
   "collapsed_sections": [],
   "name": "Gold_price_prediction.ipynb",
   "provenance": []
  },
  "kernelspec": {
   "display_name": "Python 3",
   "language": "python",
   "name": "python3"
  },
  "language_info": {
   "codemirror_mode": {
    "name": "ipython",
    "version": 3
   },
   "file_extension": ".py",
   "mimetype": "text/x-python",
   "name": "python",
   "nbconvert_exporter": "python",
   "pygments_lexer": "ipython3",
   "version": "3.8.5"
  },
  "varInspector": {
   "cols": {
    "lenName": 16,
    "lenType": 16,
    "lenVar": 40
   },
   "kernels_config": {
    "python": {
     "delete_cmd_postfix": "",
     "delete_cmd_prefix": "del ",
     "library": "var_list.py",
     "varRefreshCmd": "print(var_dic_list())"
    },
    "r": {
     "delete_cmd_postfix": ") ",
     "delete_cmd_prefix": "rm(",
     "library": "var_list.r",
     "varRefreshCmd": "cat(var_dic_list()) "
    }
   },
   "types_to_exclude": [
    "module",
    "function",
    "builtin_function_or_method",
    "instance",
    "_Feature"
   ],
   "window_display": false
  }
 },
 "nbformat": 4,
 "nbformat_minor": 1
}
